{
  "nbformat": 4,
  "nbformat_minor": 0,
  "metadata": {
    "colab": {
      "provenance": [],
      "collapsed_sections": [],
      "mount_file_id": "1WOWypFIBKnDvj5ecTiIfSLewCDlsG6YU",
      "authorship_tag": "ABX9TyO2cQ/rrrhDx+38F0QP2tPW",
      "include_colab_link": true
    },
    "kernelspec": {
      "name": "python3",
      "display_name": "Python 3"
    },
    "language_info": {
      "name": "python"
    },
    "accelerator": "GPU",
    "widgets": {
      "application/vnd.jupyter.widget-state+json": {
        "a072b780004c44aaac0c12c82111ac3a": {
          "model_module": "@jupyter-widgets/controls",
          "model_name": "HBoxModel",
          "model_module_version": "1.5.0",
          "state": {
            "_dom_classes": [],
            "_model_module": "@jupyter-widgets/controls",
            "_model_module_version": "1.5.0",
            "_model_name": "HBoxModel",
            "_view_count": null,
            "_view_module": "@jupyter-widgets/controls",
            "_view_module_version": "1.5.0",
            "_view_name": "HBoxView",
            "box_style": "",
            "children": [
              "IPY_MODEL_d9907afc14dd4bb980cd40e72a2ac538",
              "IPY_MODEL_4d9995bc82f34454af36645ed57e1fc7",
              "IPY_MODEL_e576f449dee84a208c382560776eee1b"
            ],
            "layout": "IPY_MODEL_b1289207d2904ab2a2ca9df272217a4d"
          }
        },
        "d9907afc14dd4bb980cd40e72a2ac538": {
          "model_module": "@jupyter-widgets/controls",
          "model_name": "HTMLModel",
          "model_module_version": "1.5.0",
          "state": {
            "_dom_classes": [],
            "_model_module": "@jupyter-widgets/controls",
            "_model_module_version": "1.5.0",
            "_model_name": "HTMLModel",
            "_view_count": null,
            "_view_module": "@jupyter-widgets/controls",
            "_view_module_version": "1.5.0",
            "_view_name": "HTMLView",
            "description": "",
            "description_tooltip": null,
            "layout": "IPY_MODEL_ba1a255d00384ed09f1a442dab322199",
            "placeholder": "​",
            "style": "IPY_MODEL_a06c43a34ccb414ca5b73d3e7e739c03",
            "value": "100%"
          }
        },
        "4d9995bc82f34454af36645ed57e1fc7": {
          "model_module": "@jupyter-widgets/controls",
          "model_name": "FloatProgressModel",
          "model_module_version": "1.5.0",
          "state": {
            "_dom_classes": [],
            "_model_module": "@jupyter-widgets/controls",
            "_model_module_version": "1.5.0",
            "_model_name": "FloatProgressModel",
            "_view_count": null,
            "_view_module": "@jupyter-widgets/controls",
            "_view_module_version": "1.5.0",
            "_view_name": "ProgressView",
            "bar_style": "success",
            "description": "",
            "description_tooltip": null,
            "layout": "IPY_MODEL_b11a2802ba2c43fcac47930a18ec5cee",
            "max": 26421880,
            "min": 0,
            "orientation": "horizontal",
            "style": "IPY_MODEL_5a32ee81579940f28feb216c334cf878",
            "value": 26421880
          }
        },
        "e576f449dee84a208c382560776eee1b": {
          "model_module": "@jupyter-widgets/controls",
          "model_name": "HTMLModel",
          "model_module_version": "1.5.0",
          "state": {
            "_dom_classes": [],
            "_model_module": "@jupyter-widgets/controls",
            "_model_module_version": "1.5.0",
            "_model_name": "HTMLModel",
            "_view_count": null,
            "_view_module": "@jupyter-widgets/controls",
            "_view_module_version": "1.5.0",
            "_view_name": "HTMLView",
            "description": "",
            "description_tooltip": null,
            "layout": "IPY_MODEL_c5d69ccd9db94978b4433d923bc5f02c",
            "placeholder": "​",
            "style": "IPY_MODEL_33208c9dab0d44f4b400421024470a03",
            "value": " 26421880/26421880 [00:03&lt;00:00, 13241493.63it/s]"
          }
        },
        "b1289207d2904ab2a2ca9df272217a4d": {
          "model_module": "@jupyter-widgets/base",
          "model_name": "LayoutModel",
          "model_module_version": "1.2.0",
          "state": {
            "_model_module": "@jupyter-widgets/base",
            "_model_module_version": "1.2.0",
            "_model_name": "LayoutModel",
            "_view_count": null,
            "_view_module": "@jupyter-widgets/base",
            "_view_module_version": "1.2.0",
            "_view_name": "LayoutView",
            "align_content": null,
            "align_items": null,
            "align_self": null,
            "border": null,
            "bottom": null,
            "display": null,
            "flex": null,
            "flex_flow": null,
            "grid_area": null,
            "grid_auto_columns": null,
            "grid_auto_flow": null,
            "grid_auto_rows": null,
            "grid_column": null,
            "grid_gap": null,
            "grid_row": null,
            "grid_template_areas": null,
            "grid_template_columns": null,
            "grid_template_rows": null,
            "height": null,
            "justify_content": null,
            "justify_items": null,
            "left": null,
            "margin": null,
            "max_height": null,
            "max_width": null,
            "min_height": null,
            "min_width": null,
            "object_fit": null,
            "object_position": null,
            "order": null,
            "overflow": null,
            "overflow_x": null,
            "overflow_y": null,
            "padding": null,
            "right": null,
            "top": null,
            "visibility": null,
            "width": null
          }
        },
        "ba1a255d00384ed09f1a442dab322199": {
          "model_module": "@jupyter-widgets/base",
          "model_name": "LayoutModel",
          "model_module_version": "1.2.0",
          "state": {
            "_model_module": "@jupyter-widgets/base",
            "_model_module_version": "1.2.0",
            "_model_name": "LayoutModel",
            "_view_count": null,
            "_view_module": "@jupyter-widgets/base",
            "_view_module_version": "1.2.0",
            "_view_name": "LayoutView",
            "align_content": null,
            "align_items": null,
            "align_self": null,
            "border": null,
            "bottom": null,
            "display": null,
            "flex": null,
            "flex_flow": null,
            "grid_area": null,
            "grid_auto_columns": null,
            "grid_auto_flow": null,
            "grid_auto_rows": null,
            "grid_column": null,
            "grid_gap": null,
            "grid_row": null,
            "grid_template_areas": null,
            "grid_template_columns": null,
            "grid_template_rows": null,
            "height": null,
            "justify_content": null,
            "justify_items": null,
            "left": null,
            "margin": null,
            "max_height": null,
            "max_width": null,
            "min_height": null,
            "min_width": null,
            "object_fit": null,
            "object_position": null,
            "order": null,
            "overflow": null,
            "overflow_x": null,
            "overflow_y": null,
            "padding": null,
            "right": null,
            "top": null,
            "visibility": null,
            "width": null
          }
        },
        "a06c43a34ccb414ca5b73d3e7e739c03": {
          "model_module": "@jupyter-widgets/controls",
          "model_name": "DescriptionStyleModel",
          "model_module_version": "1.5.0",
          "state": {
            "_model_module": "@jupyter-widgets/controls",
            "_model_module_version": "1.5.0",
            "_model_name": "DescriptionStyleModel",
            "_view_count": null,
            "_view_module": "@jupyter-widgets/base",
            "_view_module_version": "1.2.0",
            "_view_name": "StyleView",
            "description_width": ""
          }
        },
        "b11a2802ba2c43fcac47930a18ec5cee": {
          "model_module": "@jupyter-widgets/base",
          "model_name": "LayoutModel",
          "model_module_version": "1.2.0",
          "state": {
            "_model_module": "@jupyter-widgets/base",
            "_model_module_version": "1.2.0",
            "_model_name": "LayoutModel",
            "_view_count": null,
            "_view_module": "@jupyter-widgets/base",
            "_view_module_version": "1.2.0",
            "_view_name": "LayoutView",
            "align_content": null,
            "align_items": null,
            "align_self": null,
            "border": null,
            "bottom": null,
            "display": null,
            "flex": null,
            "flex_flow": null,
            "grid_area": null,
            "grid_auto_columns": null,
            "grid_auto_flow": null,
            "grid_auto_rows": null,
            "grid_column": null,
            "grid_gap": null,
            "grid_row": null,
            "grid_template_areas": null,
            "grid_template_columns": null,
            "grid_template_rows": null,
            "height": null,
            "justify_content": null,
            "justify_items": null,
            "left": null,
            "margin": null,
            "max_height": null,
            "max_width": null,
            "min_height": null,
            "min_width": null,
            "object_fit": null,
            "object_position": null,
            "order": null,
            "overflow": null,
            "overflow_x": null,
            "overflow_y": null,
            "padding": null,
            "right": null,
            "top": null,
            "visibility": null,
            "width": null
          }
        },
        "5a32ee81579940f28feb216c334cf878": {
          "model_module": "@jupyter-widgets/controls",
          "model_name": "ProgressStyleModel",
          "model_module_version": "1.5.0",
          "state": {
            "_model_module": "@jupyter-widgets/controls",
            "_model_module_version": "1.5.0",
            "_model_name": "ProgressStyleModel",
            "_view_count": null,
            "_view_module": "@jupyter-widgets/base",
            "_view_module_version": "1.2.0",
            "_view_name": "StyleView",
            "bar_color": null,
            "description_width": ""
          }
        },
        "c5d69ccd9db94978b4433d923bc5f02c": {
          "model_module": "@jupyter-widgets/base",
          "model_name": "LayoutModel",
          "model_module_version": "1.2.0",
          "state": {
            "_model_module": "@jupyter-widgets/base",
            "_model_module_version": "1.2.0",
            "_model_name": "LayoutModel",
            "_view_count": null,
            "_view_module": "@jupyter-widgets/base",
            "_view_module_version": "1.2.0",
            "_view_name": "LayoutView",
            "align_content": null,
            "align_items": null,
            "align_self": null,
            "border": null,
            "bottom": null,
            "display": null,
            "flex": null,
            "flex_flow": null,
            "grid_area": null,
            "grid_auto_columns": null,
            "grid_auto_flow": null,
            "grid_auto_rows": null,
            "grid_column": null,
            "grid_gap": null,
            "grid_row": null,
            "grid_template_areas": null,
            "grid_template_columns": null,
            "grid_template_rows": null,
            "height": null,
            "justify_content": null,
            "justify_items": null,
            "left": null,
            "margin": null,
            "max_height": null,
            "max_width": null,
            "min_height": null,
            "min_width": null,
            "object_fit": null,
            "object_position": null,
            "order": null,
            "overflow": null,
            "overflow_x": null,
            "overflow_y": null,
            "padding": null,
            "right": null,
            "top": null,
            "visibility": null,
            "width": null
          }
        },
        "33208c9dab0d44f4b400421024470a03": {
          "model_module": "@jupyter-widgets/controls",
          "model_name": "DescriptionStyleModel",
          "model_module_version": "1.5.0",
          "state": {
            "_model_module": "@jupyter-widgets/controls",
            "_model_module_version": "1.5.0",
            "_model_name": "DescriptionStyleModel",
            "_view_count": null,
            "_view_module": "@jupyter-widgets/base",
            "_view_module_version": "1.2.0",
            "_view_name": "StyleView",
            "description_width": ""
          }
        },
        "be0b9f94d5a44c3182092bd8df70b128": {
          "model_module": "@jupyter-widgets/controls",
          "model_name": "HBoxModel",
          "model_module_version": "1.5.0",
          "state": {
            "_dom_classes": [],
            "_model_module": "@jupyter-widgets/controls",
            "_model_module_version": "1.5.0",
            "_model_name": "HBoxModel",
            "_view_count": null,
            "_view_module": "@jupyter-widgets/controls",
            "_view_module_version": "1.5.0",
            "_view_name": "HBoxView",
            "box_style": "",
            "children": [
              "IPY_MODEL_7b26f0bf82d24148b3565e951a39951a",
              "IPY_MODEL_bd95a1cfafeb4ff8978953e8e33b9c5a",
              "IPY_MODEL_ef751eec4d7f48d994b45f81696769e3"
            ],
            "layout": "IPY_MODEL_4506eef0a4014f878a34c9d6ac0d04a7"
          }
        },
        "7b26f0bf82d24148b3565e951a39951a": {
          "model_module": "@jupyter-widgets/controls",
          "model_name": "HTMLModel",
          "model_module_version": "1.5.0",
          "state": {
            "_dom_classes": [],
            "_model_module": "@jupyter-widgets/controls",
            "_model_module_version": "1.5.0",
            "_model_name": "HTMLModel",
            "_view_count": null,
            "_view_module": "@jupyter-widgets/controls",
            "_view_module_version": "1.5.0",
            "_view_name": "HTMLView",
            "description": "",
            "description_tooltip": null,
            "layout": "IPY_MODEL_a0d6d0749cf44f36aca42785e54534de",
            "placeholder": "​",
            "style": "IPY_MODEL_ec46882607ae4eecafd7592bfa36b546",
            "value": "100%"
          }
        },
        "bd95a1cfafeb4ff8978953e8e33b9c5a": {
          "model_module": "@jupyter-widgets/controls",
          "model_name": "FloatProgressModel",
          "model_module_version": "1.5.0",
          "state": {
            "_dom_classes": [],
            "_model_module": "@jupyter-widgets/controls",
            "_model_module_version": "1.5.0",
            "_model_name": "FloatProgressModel",
            "_view_count": null,
            "_view_module": "@jupyter-widgets/controls",
            "_view_module_version": "1.5.0",
            "_view_name": "ProgressView",
            "bar_style": "success",
            "description": "",
            "description_tooltip": null,
            "layout": "IPY_MODEL_351bee41d68e45808dc5edab34bd203d",
            "max": 29515,
            "min": 0,
            "orientation": "horizontal",
            "style": "IPY_MODEL_15f944356ecb474c8eb9ab3580f969de",
            "value": 29515
          }
        },
        "ef751eec4d7f48d994b45f81696769e3": {
          "model_module": "@jupyter-widgets/controls",
          "model_name": "HTMLModel",
          "model_module_version": "1.5.0",
          "state": {
            "_dom_classes": [],
            "_model_module": "@jupyter-widgets/controls",
            "_model_module_version": "1.5.0",
            "_model_name": "HTMLModel",
            "_view_count": null,
            "_view_module": "@jupyter-widgets/controls",
            "_view_module_version": "1.5.0",
            "_view_name": "HTMLView",
            "description": "",
            "description_tooltip": null,
            "layout": "IPY_MODEL_21fce5e3cb0c402f9ed7915b18554158",
            "placeholder": "​",
            "style": "IPY_MODEL_9004a02307f94e00977a659af7b4a949",
            "value": " 29515/29515 [00:00&lt;00:00, 147439.28it/s]"
          }
        },
        "4506eef0a4014f878a34c9d6ac0d04a7": {
          "model_module": "@jupyter-widgets/base",
          "model_name": "LayoutModel",
          "model_module_version": "1.2.0",
          "state": {
            "_model_module": "@jupyter-widgets/base",
            "_model_module_version": "1.2.0",
            "_model_name": "LayoutModel",
            "_view_count": null,
            "_view_module": "@jupyter-widgets/base",
            "_view_module_version": "1.2.0",
            "_view_name": "LayoutView",
            "align_content": null,
            "align_items": null,
            "align_self": null,
            "border": null,
            "bottom": null,
            "display": null,
            "flex": null,
            "flex_flow": null,
            "grid_area": null,
            "grid_auto_columns": null,
            "grid_auto_flow": null,
            "grid_auto_rows": null,
            "grid_column": null,
            "grid_gap": null,
            "grid_row": null,
            "grid_template_areas": null,
            "grid_template_columns": null,
            "grid_template_rows": null,
            "height": null,
            "justify_content": null,
            "justify_items": null,
            "left": null,
            "margin": null,
            "max_height": null,
            "max_width": null,
            "min_height": null,
            "min_width": null,
            "object_fit": null,
            "object_position": null,
            "order": null,
            "overflow": null,
            "overflow_x": null,
            "overflow_y": null,
            "padding": null,
            "right": null,
            "top": null,
            "visibility": null,
            "width": null
          }
        },
        "a0d6d0749cf44f36aca42785e54534de": {
          "model_module": "@jupyter-widgets/base",
          "model_name": "LayoutModel",
          "model_module_version": "1.2.0",
          "state": {
            "_model_module": "@jupyter-widgets/base",
            "_model_module_version": "1.2.0",
            "_model_name": "LayoutModel",
            "_view_count": null,
            "_view_module": "@jupyter-widgets/base",
            "_view_module_version": "1.2.0",
            "_view_name": "LayoutView",
            "align_content": null,
            "align_items": null,
            "align_self": null,
            "border": null,
            "bottom": null,
            "display": null,
            "flex": null,
            "flex_flow": null,
            "grid_area": null,
            "grid_auto_columns": null,
            "grid_auto_flow": null,
            "grid_auto_rows": null,
            "grid_column": null,
            "grid_gap": null,
            "grid_row": null,
            "grid_template_areas": null,
            "grid_template_columns": null,
            "grid_template_rows": null,
            "height": null,
            "justify_content": null,
            "justify_items": null,
            "left": null,
            "margin": null,
            "max_height": null,
            "max_width": null,
            "min_height": null,
            "min_width": null,
            "object_fit": null,
            "object_position": null,
            "order": null,
            "overflow": null,
            "overflow_x": null,
            "overflow_y": null,
            "padding": null,
            "right": null,
            "top": null,
            "visibility": null,
            "width": null
          }
        },
        "ec46882607ae4eecafd7592bfa36b546": {
          "model_module": "@jupyter-widgets/controls",
          "model_name": "DescriptionStyleModel",
          "model_module_version": "1.5.0",
          "state": {
            "_model_module": "@jupyter-widgets/controls",
            "_model_module_version": "1.5.0",
            "_model_name": "DescriptionStyleModel",
            "_view_count": null,
            "_view_module": "@jupyter-widgets/base",
            "_view_module_version": "1.2.0",
            "_view_name": "StyleView",
            "description_width": ""
          }
        },
        "351bee41d68e45808dc5edab34bd203d": {
          "model_module": "@jupyter-widgets/base",
          "model_name": "LayoutModel",
          "model_module_version": "1.2.0",
          "state": {
            "_model_module": "@jupyter-widgets/base",
            "_model_module_version": "1.2.0",
            "_model_name": "LayoutModel",
            "_view_count": null,
            "_view_module": "@jupyter-widgets/base",
            "_view_module_version": "1.2.0",
            "_view_name": "LayoutView",
            "align_content": null,
            "align_items": null,
            "align_self": null,
            "border": null,
            "bottom": null,
            "display": null,
            "flex": null,
            "flex_flow": null,
            "grid_area": null,
            "grid_auto_columns": null,
            "grid_auto_flow": null,
            "grid_auto_rows": null,
            "grid_column": null,
            "grid_gap": null,
            "grid_row": null,
            "grid_template_areas": null,
            "grid_template_columns": null,
            "grid_template_rows": null,
            "height": null,
            "justify_content": null,
            "justify_items": null,
            "left": null,
            "margin": null,
            "max_height": null,
            "max_width": null,
            "min_height": null,
            "min_width": null,
            "object_fit": null,
            "object_position": null,
            "order": null,
            "overflow": null,
            "overflow_x": null,
            "overflow_y": null,
            "padding": null,
            "right": null,
            "top": null,
            "visibility": null,
            "width": null
          }
        },
        "15f944356ecb474c8eb9ab3580f969de": {
          "model_module": "@jupyter-widgets/controls",
          "model_name": "ProgressStyleModel",
          "model_module_version": "1.5.0",
          "state": {
            "_model_module": "@jupyter-widgets/controls",
            "_model_module_version": "1.5.0",
            "_model_name": "ProgressStyleModel",
            "_view_count": null,
            "_view_module": "@jupyter-widgets/base",
            "_view_module_version": "1.2.0",
            "_view_name": "StyleView",
            "bar_color": null,
            "description_width": ""
          }
        },
        "21fce5e3cb0c402f9ed7915b18554158": {
          "model_module": "@jupyter-widgets/base",
          "model_name": "LayoutModel",
          "model_module_version": "1.2.0",
          "state": {
            "_model_module": "@jupyter-widgets/base",
            "_model_module_version": "1.2.0",
            "_model_name": "LayoutModel",
            "_view_count": null,
            "_view_module": "@jupyter-widgets/base",
            "_view_module_version": "1.2.0",
            "_view_name": "LayoutView",
            "align_content": null,
            "align_items": null,
            "align_self": null,
            "border": null,
            "bottom": null,
            "display": null,
            "flex": null,
            "flex_flow": null,
            "grid_area": null,
            "grid_auto_columns": null,
            "grid_auto_flow": null,
            "grid_auto_rows": null,
            "grid_column": null,
            "grid_gap": null,
            "grid_row": null,
            "grid_template_areas": null,
            "grid_template_columns": null,
            "grid_template_rows": null,
            "height": null,
            "justify_content": null,
            "justify_items": null,
            "left": null,
            "margin": null,
            "max_height": null,
            "max_width": null,
            "min_height": null,
            "min_width": null,
            "object_fit": null,
            "object_position": null,
            "order": null,
            "overflow": null,
            "overflow_x": null,
            "overflow_y": null,
            "padding": null,
            "right": null,
            "top": null,
            "visibility": null,
            "width": null
          }
        },
        "9004a02307f94e00977a659af7b4a949": {
          "model_module": "@jupyter-widgets/controls",
          "model_name": "DescriptionStyleModel",
          "model_module_version": "1.5.0",
          "state": {
            "_model_module": "@jupyter-widgets/controls",
            "_model_module_version": "1.5.0",
            "_model_name": "DescriptionStyleModel",
            "_view_count": null,
            "_view_module": "@jupyter-widgets/base",
            "_view_module_version": "1.2.0",
            "_view_name": "StyleView",
            "description_width": ""
          }
        },
        "2925440e6a0c48abafbf59f2dc365c97": {
          "model_module": "@jupyter-widgets/controls",
          "model_name": "HBoxModel",
          "model_module_version": "1.5.0",
          "state": {
            "_dom_classes": [],
            "_model_module": "@jupyter-widgets/controls",
            "_model_module_version": "1.5.0",
            "_model_name": "HBoxModel",
            "_view_count": null,
            "_view_module": "@jupyter-widgets/controls",
            "_view_module_version": "1.5.0",
            "_view_name": "HBoxView",
            "box_style": "",
            "children": [
              "IPY_MODEL_c9aadeba5e0b401993578228d04e273c",
              "IPY_MODEL_e5caf24780af4f9a943980405532fa17",
              "IPY_MODEL_5678522392324c5a816ecbe7c0605262"
            ],
            "layout": "IPY_MODEL_dc78437c546141079bc84e334f830e6f"
          }
        },
        "c9aadeba5e0b401993578228d04e273c": {
          "model_module": "@jupyter-widgets/controls",
          "model_name": "HTMLModel",
          "model_module_version": "1.5.0",
          "state": {
            "_dom_classes": [],
            "_model_module": "@jupyter-widgets/controls",
            "_model_module_version": "1.5.0",
            "_model_name": "HTMLModel",
            "_view_count": null,
            "_view_module": "@jupyter-widgets/controls",
            "_view_module_version": "1.5.0",
            "_view_name": "HTMLView",
            "description": "",
            "description_tooltip": null,
            "layout": "IPY_MODEL_fc8ac21fcf8c43a59bae14ebfd45c40a",
            "placeholder": "​",
            "style": "IPY_MODEL_8a54c637c3f14beb91388d8474b09993",
            "value": "100%"
          }
        },
        "e5caf24780af4f9a943980405532fa17": {
          "model_module": "@jupyter-widgets/controls",
          "model_name": "FloatProgressModel",
          "model_module_version": "1.5.0",
          "state": {
            "_dom_classes": [],
            "_model_module": "@jupyter-widgets/controls",
            "_model_module_version": "1.5.0",
            "_model_name": "FloatProgressModel",
            "_view_count": null,
            "_view_module": "@jupyter-widgets/controls",
            "_view_module_version": "1.5.0",
            "_view_name": "ProgressView",
            "bar_style": "success",
            "description": "",
            "description_tooltip": null,
            "layout": "IPY_MODEL_65cbf719427b4e9a83e174a573041898",
            "max": 4422102,
            "min": 0,
            "orientation": "horizontal",
            "style": "IPY_MODEL_3a126898992644ea8250c90380907877",
            "value": 4422102
          }
        },
        "5678522392324c5a816ecbe7c0605262": {
          "model_module": "@jupyter-widgets/controls",
          "model_name": "HTMLModel",
          "model_module_version": "1.5.0",
          "state": {
            "_dom_classes": [],
            "_model_module": "@jupyter-widgets/controls",
            "_model_module_version": "1.5.0",
            "_model_name": "HTMLModel",
            "_view_count": null,
            "_view_module": "@jupyter-widgets/controls",
            "_view_module_version": "1.5.0",
            "_view_name": "HTMLView",
            "description": "",
            "description_tooltip": null,
            "layout": "IPY_MODEL_8cc91634267c41daa638e3030a9393ac",
            "placeholder": "​",
            "style": "IPY_MODEL_ff1d9c365893489190141a6f39bcce3d",
            "value": " 4422102/4422102 [00:01&lt;00:00, 3890967.70it/s]"
          }
        },
        "dc78437c546141079bc84e334f830e6f": {
          "model_module": "@jupyter-widgets/base",
          "model_name": "LayoutModel",
          "model_module_version": "1.2.0",
          "state": {
            "_model_module": "@jupyter-widgets/base",
            "_model_module_version": "1.2.0",
            "_model_name": "LayoutModel",
            "_view_count": null,
            "_view_module": "@jupyter-widgets/base",
            "_view_module_version": "1.2.0",
            "_view_name": "LayoutView",
            "align_content": null,
            "align_items": null,
            "align_self": null,
            "border": null,
            "bottom": null,
            "display": null,
            "flex": null,
            "flex_flow": null,
            "grid_area": null,
            "grid_auto_columns": null,
            "grid_auto_flow": null,
            "grid_auto_rows": null,
            "grid_column": null,
            "grid_gap": null,
            "grid_row": null,
            "grid_template_areas": null,
            "grid_template_columns": null,
            "grid_template_rows": null,
            "height": null,
            "justify_content": null,
            "justify_items": null,
            "left": null,
            "margin": null,
            "max_height": null,
            "max_width": null,
            "min_height": null,
            "min_width": null,
            "object_fit": null,
            "object_position": null,
            "order": null,
            "overflow": null,
            "overflow_x": null,
            "overflow_y": null,
            "padding": null,
            "right": null,
            "top": null,
            "visibility": null,
            "width": null
          }
        },
        "fc8ac21fcf8c43a59bae14ebfd45c40a": {
          "model_module": "@jupyter-widgets/base",
          "model_name": "LayoutModel",
          "model_module_version": "1.2.0",
          "state": {
            "_model_module": "@jupyter-widgets/base",
            "_model_module_version": "1.2.0",
            "_model_name": "LayoutModel",
            "_view_count": null,
            "_view_module": "@jupyter-widgets/base",
            "_view_module_version": "1.2.0",
            "_view_name": "LayoutView",
            "align_content": null,
            "align_items": null,
            "align_self": null,
            "border": null,
            "bottom": null,
            "display": null,
            "flex": null,
            "flex_flow": null,
            "grid_area": null,
            "grid_auto_columns": null,
            "grid_auto_flow": null,
            "grid_auto_rows": null,
            "grid_column": null,
            "grid_gap": null,
            "grid_row": null,
            "grid_template_areas": null,
            "grid_template_columns": null,
            "grid_template_rows": null,
            "height": null,
            "justify_content": null,
            "justify_items": null,
            "left": null,
            "margin": null,
            "max_height": null,
            "max_width": null,
            "min_height": null,
            "min_width": null,
            "object_fit": null,
            "object_position": null,
            "order": null,
            "overflow": null,
            "overflow_x": null,
            "overflow_y": null,
            "padding": null,
            "right": null,
            "top": null,
            "visibility": null,
            "width": null
          }
        },
        "8a54c637c3f14beb91388d8474b09993": {
          "model_module": "@jupyter-widgets/controls",
          "model_name": "DescriptionStyleModel",
          "model_module_version": "1.5.0",
          "state": {
            "_model_module": "@jupyter-widgets/controls",
            "_model_module_version": "1.5.0",
            "_model_name": "DescriptionStyleModel",
            "_view_count": null,
            "_view_module": "@jupyter-widgets/base",
            "_view_module_version": "1.2.0",
            "_view_name": "StyleView",
            "description_width": ""
          }
        },
        "65cbf719427b4e9a83e174a573041898": {
          "model_module": "@jupyter-widgets/base",
          "model_name": "LayoutModel",
          "model_module_version": "1.2.0",
          "state": {
            "_model_module": "@jupyter-widgets/base",
            "_model_module_version": "1.2.0",
            "_model_name": "LayoutModel",
            "_view_count": null,
            "_view_module": "@jupyter-widgets/base",
            "_view_module_version": "1.2.0",
            "_view_name": "LayoutView",
            "align_content": null,
            "align_items": null,
            "align_self": null,
            "border": null,
            "bottom": null,
            "display": null,
            "flex": null,
            "flex_flow": null,
            "grid_area": null,
            "grid_auto_columns": null,
            "grid_auto_flow": null,
            "grid_auto_rows": null,
            "grid_column": null,
            "grid_gap": null,
            "grid_row": null,
            "grid_template_areas": null,
            "grid_template_columns": null,
            "grid_template_rows": null,
            "height": null,
            "justify_content": null,
            "justify_items": null,
            "left": null,
            "margin": null,
            "max_height": null,
            "max_width": null,
            "min_height": null,
            "min_width": null,
            "object_fit": null,
            "object_position": null,
            "order": null,
            "overflow": null,
            "overflow_x": null,
            "overflow_y": null,
            "padding": null,
            "right": null,
            "top": null,
            "visibility": null,
            "width": null
          }
        },
        "3a126898992644ea8250c90380907877": {
          "model_module": "@jupyter-widgets/controls",
          "model_name": "ProgressStyleModel",
          "model_module_version": "1.5.0",
          "state": {
            "_model_module": "@jupyter-widgets/controls",
            "_model_module_version": "1.5.0",
            "_model_name": "ProgressStyleModel",
            "_view_count": null,
            "_view_module": "@jupyter-widgets/base",
            "_view_module_version": "1.2.0",
            "_view_name": "StyleView",
            "bar_color": null,
            "description_width": ""
          }
        },
        "8cc91634267c41daa638e3030a9393ac": {
          "model_module": "@jupyter-widgets/base",
          "model_name": "LayoutModel",
          "model_module_version": "1.2.0",
          "state": {
            "_model_module": "@jupyter-widgets/base",
            "_model_module_version": "1.2.0",
            "_model_name": "LayoutModel",
            "_view_count": null,
            "_view_module": "@jupyter-widgets/base",
            "_view_module_version": "1.2.0",
            "_view_name": "LayoutView",
            "align_content": null,
            "align_items": null,
            "align_self": null,
            "border": null,
            "bottom": null,
            "display": null,
            "flex": null,
            "flex_flow": null,
            "grid_area": null,
            "grid_auto_columns": null,
            "grid_auto_flow": null,
            "grid_auto_rows": null,
            "grid_column": null,
            "grid_gap": null,
            "grid_row": null,
            "grid_template_areas": null,
            "grid_template_columns": null,
            "grid_template_rows": null,
            "height": null,
            "justify_content": null,
            "justify_items": null,
            "left": null,
            "margin": null,
            "max_height": null,
            "max_width": null,
            "min_height": null,
            "min_width": null,
            "object_fit": null,
            "object_position": null,
            "order": null,
            "overflow": null,
            "overflow_x": null,
            "overflow_y": null,
            "padding": null,
            "right": null,
            "top": null,
            "visibility": null,
            "width": null
          }
        },
        "ff1d9c365893489190141a6f39bcce3d": {
          "model_module": "@jupyter-widgets/controls",
          "model_name": "DescriptionStyleModel",
          "model_module_version": "1.5.0",
          "state": {
            "_model_module": "@jupyter-widgets/controls",
            "_model_module_version": "1.5.0",
            "_model_name": "DescriptionStyleModel",
            "_view_count": null,
            "_view_module": "@jupyter-widgets/base",
            "_view_module_version": "1.2.0",
            "_view_name": "StyleView",
            "description_width": ""
          }
        },
        "dea788b7215a45a88c55bd2a264dce51": {
          "model_module": "@jupyter-widgets/controls",
          "model_name": "HBoxModel",
          "model_module_version": "1.5.0",
          "state": {
            "_dom_classes": [],
            "_model_module": "@jupyter-widgets/controls",
            "_model_module_version": "1.5.0",
            "_model_name": "HBoxModel",
            "_view_count": null,
            "_view_module": "@jupyter-widgets/controls",
            "_view_module_version": "1.5.0",
            "_view_name": "HBoxView",
            "box_style": "",
            "children": [
              "IPY_MODEL_fad0d6afa5f2412fbb00773f5b3b6605",
              "IPY_MODEL_2e293151176242eea1b454b2bbbf79d6",
              "IPY_MODEL_48647f9e446a46f9be5c4d4d92b6860e"
            ],
            "layout": "IPY_MODEL_3a160173db6946408c82ce89b6b30d91"
          }
        },
        "fad0d6afa5f2412fbb00773f5b3b6605": {
          "model_module": "@jupyter-widgets/controls",
          "model_name": "HTMLModel",
          "model_module_version": "1.5.0",
          "state": {
            "_dom_classes": [],
            "_model_module": "@jupyter-widgets/controls",
            "_model_module_version": "1.5.0",
            "_model_name": "HTMLModel",
            "_view_count": null,
            "_view_module": "@jupyter-widgets/controls",
            "_view_module_version": "1.5.0",
            "_view_name": "HTMLView",
            "description": "",
            "description_tooltip": null,
            "layout": "IPY_MODEL_2131152cae464eec9060dc42858acd29",
            "placeholder": "​",
            "style": "IPY_MODEL_7317c79f1b404b8f931803384add5733",
            "value": "100%"
          }
        },
        "2e293151176242eea1b454b2bbbf79d6": {
          "model_module": "@jupyter-widgets/controls",
          "model_name": "FloatProgressModel",
          "model_module_version": "1.5.0",
          "state": {
            "_dom_classes": [],
            "_model_module": "@jupyter-widgets/controls",
            "_model_module_version": "1.5.0",
            "_model_name": "FloatProgressModel",
            "_view_count": null,
            "_view_module": "@jupyter-widgets/controls",
            "_view_module_version": "1.5.0",
            "_view_name": "ProgressView",
            "bar_style": "success",
            "description": "",
            "description_tooltip": null,
            "layout": "IPY_MODEL_d626ce5e3dac4c00baf9308420abc5e0",
            "max": 5148,
            "min": 0,
            "orientation": "horizontal",
            "style": "IPY_MODEL_ed3bc3b2d02d4bb9b7301e9bda30d4d5",
            "value": 5148
          }
        },
        "48647f9e446a46f9be5c4d4d92b6860e": {
          "model_module": "@jupyter-widgets/controls",
          "model_name": "HTMLModel",
          "model_module_version": "1.5.0",
          "state": {
            "_dom_classes": [],
            "_model_module": "@jupyter-widgets/controls",
            "_model_module_version": "1.5.0",
            "_model_name": "HTMLModel",
            "_view_count": null,
            "_view_module": "@jupyter-widgets/controls",
            "_view_module_version": "1.5.0",
            "_view_name": "HTMLView",
            "description": "",
            "description_tooltip": null,
            "layout": "IPY_MODEL_172a0a5abb6e400a8dc2d36847e770a1",
            "placeholder": "​",
            "style": "IPY_MODEL_56e2f746600d4e1dba8c6c9cc306c5d9",
            "value": " 5148/5148 [00:00&lt;00:00, 204122.45it/s]"
          }
        },
        "3a160173db6946408c82ce89b6b30d91": {
          "model_module": "@jupyter-widgets/base",
          "model_name": "LayoutModel",
          "model_module_version": "1.2.0",
          "state": {
            "_model_module": "@jupyter-widgets/base",
            "_model_module_version": "1.2.0",
            "_model_name": "LayoutModel",
            "_view_count": null,
            "_view_module": "@jupyter-widgets/base",
            "_view_module_version": "1.2.0",
            "_view_name": "LayoutView",
            "align_content": null,
            "align_items": null,
            "align_self": null,
            "border": null,
            "bottom": null,
            "display": null,
            "flex": null,
            "flex_flow": null,
            "grid_area": null,
            "grid_auto_columns": null,
            "grid_auto_flow": null,
            "grid_auto_rows": null,
            "grid_column": null,
            "grid_gap": null,
            "grid_row": null,
            "grid_template_areas": null,
            "grid_template_columns": null,
            "grid_template_rows": null,
            "height": null,
            "justify_content": null,
            "justify_items": null,
            "left": null,
            "margin": null,
            "max_height": null,
            "max_width": null,
            "min_height": null,
            "min_width": null,
            "object_fit": null,
            "object_position": null,
            "order": null,
            "overflow": null,
            "overflow_x": null,
            "overflow_y": null,
            "padding": null,
            "right": null,
            "top": null,
            "visibility": null,
            "width": null
          }
        },
        "2131152cae464eec9060dc42858acd29": {
          "model_module": "@jupyter-widgets/base",
          "model_name": "LayoutModel",
          "model_module_version": "1.2.0",
          "state": {
            "_model_module": "@jupyter-widgets/base",
            "_model_module_version": "1.2.0",
            "_model_name": "LayoutModel",
            "_view_count": null,
            "_view_module": "@jupyter-widgets/base",
            "_view_module_version": "1.2.0",
            "_view_name": "LayoutView",
            "align_content": null,
            "align_items": null,
            "align_self": null,
            "border": null,
            "bottom": null,
            "display": null,
            "flex": null,
            "flex_flow": null,
            "grid_area": null,
            "grid_auto_columns": null,
            "grid_auto_flow": null,
            "grid_auto_rows": null,
            "grid_column": null,
            "grid_gap": null,
            "grid_row": null,
            "grid_template_areas": null,
            "grid_template_columns": null,
            "grid_template_rows": null,
            "height": null,
            "justify_content": null,
            "justify_items": null,
            "left": null,
            "margin": null,
            "max_height": null,
            "max_width": null,
            "min_height": null,
            "min_width": null,
            "object_fit": null,
            "object_position": null,
            "order": null,
            "overflow": null,
            "overflow_x": null,
            "overflow_y": null,
            "padding": null,
            "right": null,
            "top": null,
            "visibility": null,
            "width": null
          }
        },
        "7317c79f1b404b8f931803384add5733": {
          "model_module": "@jupyter-widgets/controls",
          "model_name": "DescriptionStyleModel",
          "model_module_version": "1.5.0",
          "state": {
            "_model_module": "@jupyter-widgets/controls",
            "_model_module_version": "1.5.0",
            "_model_name": "DescriptionStyleModel",
            "_view_count": null,
            "_view_module": "@jupyter-widgets/base",
            "_view_module_version": "1.2.0",
            "_view_name": "StyleView",
            "description_width": ""
          }
        },
        "d626ce5e3dac4c00baf9308420abc5e0": {
          "model_module": "@jupyter-widgets/base",
          "model_name": "LayoutModel",
          "model_module_version": "1.2.0",
          "state": {
            "_model_module": "@jupyter-widgets/base",
            "_model_module_version": "1.2.0",
            "_model_name": "LayoutModel",
            "_view_count": null,
            "_view_module": "@jupyter-widgets/base",
            "_view_module_version": "1.2.0",
            "_view_name": "LayoutView",
            "align_content": null,
            "align_items": null,
            "align_self": null,
            "border": null,
            "bottom": null,
            "display": null,
            "flex": null,
            "flex_flow": null,
            "grid_area": null,
            "grid_auto_columns": null,
            "grid_auto_flow": null,
            "grid_auto_rows": null,
            "grid_column": null,
            "grid_gap": null,
            "grid_row": null,
            "grid_template_areas": null,
            "grid_template_columns": null,
            "grid_template_rows": null,
            "height": null,
            "justify_content": null,
            "justify_items": null,
            "left": null,
            "margin": null,
            "max_height": null,
            "max_width": null,
            "min_height": null,
            "min_width": null,
            "object_fit": null,
            "object_position": null,
            "order": null,
            "overflow": null,
            "overflow_x": null,
            "overflow_y": null,
            "padding": null,
            "right": null,
            "top": null,
            "visibility": null,
            "width": null
          }
        },
        "ed3bc3b2d02d4bb9b7301e9bda30d4d5": {
          "model_module": "@jupyter-widgets/controls",
          "model_name": "ProgressStyleModel",
          "model_module_version": "1.5.0",
          "state": {
            "_model_module": "@jupyter-widgets/controls",
            "_model_module_version": "1.5.0",
            "_model_name": "ProgressStyleModel",
            "_view_count": null,
            "_view_module": "@jupyter-widgets/base",
            "_view_module_version": "1.2.0",
            "_view_name": "StyleView",
            "bar_color": null,
            "description_width": ""
          }
        },
        "172a0a5abb6e400a8dc2d36847e770a1": {
          "model_module": "@jupyter-widgets/base",
          "model_name": "LayoutModel",
          "model_module_version": "1.2.0",
          "state": {
            "_model_module": "@jupyter-widgets/base",
            "_model_module_version": "1.2.0",
            "_model_name": "LayoutModel",
            "_view_count": null,
            "_view_module": "@jupyter-widgets/base",
            "_view_module_version": "1.2.0",
            "_view_name": "LayoutView",
            "align_content": null,
            "align_items": null,
            "align_self": null,
            "border": null,
            "bottom": null,
            "display": null,
            "flex": null,
            "flex_flow": null,
            "grid_area": null,
            "grid_auto_columns": null,
            "grid_auto_flow": null,
            "grid_auto_rows": null,
            "grid_column": null,
            "grid_gap": null,
            "grid_row": null,
            "grid_template_areas": null,
            "grid_template_columns": null,
            "grid_template_rows": null,
            "height": null,
            "justify_content": null,
            "justify_items": null,
            "left": null,
            "margin": null,
            "max_height": null,
            "max_width": null,
            "min_height": null,
            "min_width": null,
            "object_fit": null,
            "object_position": null,
            "order": null,
            "overflow": null,
            "overflow_x": null,
            "overflow_y": null,
            "padding": null,
            "right": null,
            "top": null,
            "visibility": null,
            "width": null
          }
        },
        "56e2f746600d4e1dba8c6c9cc306c5d9": {
          "model_module": "@jupyter-widgets/controls",
          "model_name": "DescriptionStyleModel",
          "model_module_version": "1.5.0",
          "state": {
            "_model_module": "@jupyter-widgets/controls",
            "_model_module_version": "1.5.0",
            "_model_name": "DescriptionStyleModel",
            "_view_count": null,
            "_view_module": "@jupyter-widgets/base",
            "_view_module_version": "1.2.0",
            "_view_name": "StyleView",
            "description_width": ""
          }
        }
      }
    }
  },
  "cells": [
    {
      "cell_type": "markdown",
      "metadata": {
        "id": "view-in-github",
        "colab_type": "text"
      },
      "source": [
        "<a href=\"https://colab.research.google.com/github/jerryjerry9/FRI_ML/blob/main/hw1.ipynb\" target=\"_parent\"><img src=\"https://colab.research.google.com/assets/colab-badge.svg\" alt=\"Open In Colab\"/></a>"
      ]
    },
    {
      "cell_type": "code",
      "source": [
        "import numpy as np\n",
        "import pickle\n",
        "\n"
      ],
      "metadata": {
        "id": "hWHUMKuO5v4G"
      },
      "execution_count": 20,
      "outputs": []
    },
    {
      "cell_type": "code",
      "execution_count": 2,
      "metadata": {
        "id": "JiJtyFxn5e-i"
      },
      "outputs": [],
      "source": [
        "import torch\n",
        "from torch import nn\n",
        "from torch.utils.data import DataLoader\n",
        "from torchvision import datasets\n",
        "from torchvision.transforms import ToTensor, Lambda, Compose\n",
        "import matplotlib.pyplot as plt"
      ]
    },
    {
      "cell_type": "code",
      "source": [
        "torch.cuda.is_available()"
      ],
      "metadata": {
        "id": "oBZV8zrgDfMx",
        "colab": {
          "base_uri": "https://localhost:8080/"
        },
        "outputId": "9f8604db-059d-4f4f-b436-c732583e3329"
      },
      "execution_count": 3,
      "outputs": [
        {
          "output_type": "execute_result",
          "data": {
            "text/plain": [
              "True"
            ]
          },
          "metadata": {},
          "execution_count": 3
        }
      ]
    },
    {
      "cell_type": "code",
      "source": [
        "training_data = datasets.FashionMNIST(\n",
        "    root=\"data\",            # 資料放置路徑\n",
        "    train=True,             # 訓練資料集\n",
        "    download=True,          # 自動下載\n",
        "    transform=ToTensor(),   # 資料轉換函數\n",
        ")"
      ],
      "metadata": {
        "id": "eG1dgNWyDfbA",
        "colab": {
          "base_uri": "https://localhost:8080/",
          "height": 423,
          "referenced_widgets": [
            "a072b780004c44aaac0c12c82111ac3a",
            "d9907afc14dd4bb980cd40e72a2ac538",
            "4d9995bc82f34454af36645ed57e1fc7",
            "e576f449dee84a208c382560776eee1b",
            "b1289207d2904ab2a2ca9df272217a4d",
            "ba1a255d00384ed09f1a442dab322199",
            "a06c43a34ccb414ca5b73d3e7e739c03",
            "b11a2802ba2c43fcac47930a18ec5cee",
            "5a32ee81579940f28feb216c334cf878",
            "c5d69ccd9db94978b4433d923bc5f02c",
            "33208c9dab0d44f4b400421024470a03",
            "be0b9f94d5a44c3182092bd8df70b128",
            "7b26f0bf82d24148b3565e951a39951a",
            "bd95a1cfafeb4ff8978953e8e33b9c5a",
            "ef751eec4d7f48d994b45f81696769e3",
            "4506eef0a4014f878a34c9d6ac0d04a7",
            "a0d6d0749cf44f36aca42785e54534de",
            "ec46882607ae4eecafd7592bfa36b546",
            "351bee41d68e45808dc5edab34bd203d",
            "15f944356ecb474c8eb9ab3580f969de",
            "21fce5e3cb0c402f9ed7915b18554158",
            "9004a02307f94e00977a659af7b4a949",
            "2925440e6a0c48abafbf59f2dc365c97",
            "c9aadeba5e0b401993578228d04e273c",
            "e5caf24780af4f9a943980405532fa17",
            "5678522392324c5a816ecbe7c0605262",
            "dc78437c546141079bc84e334f830e6f",
            "fc8ac21fcf8c43a59bae14ebfd45c40a",
            "8a54c637c3f14beb91388d8474b09993",
            "65cbf719427b4e9a83e174a573041898",
            "3a126898992644ea8250c90380907877",
            "8cc91634267c41daa638e3030a9393ac",
            "ff1d9c365893489190141a6f39bcce3d",
            "dea788b7215a45a88c55bd2a264dce51",
            "fad0d6afa5f2412fbb00773f5b3b6605",
            "2e293151176242eea1b454b2bbbf79d6",
            "48647f9e446a46f9be5c4d4d92b6860e",
            "3a160173db6946408c82ce89b6b30d91",
            "2131152cae464eec9060dc42858acd29",
            "7317c79f1b404b8f931803384add5733",
            "d626ce5e3dac4c00baf9308420abc5e0",
            "ed3bc3b2d02d4bb9b7301e9bda30d4d5",
            "172a0a5abb6e400a8dc2d36847e770a1",
            "56e2f746600d4e1dba8c6c9cc306c5d9"
          ]
        },
        "outputId": "c94cb81c-3d49-42f4-c200-d26431d2acad"
      },
      "execution_count": 4,
      "outputs": [
        {
          "output_type": "stream",
          "name": "stdout",
          "text": [
            "Downloading http://fashion-mnist.s3-website.eu-central-1.amazonaws.com/train-images-idx3-ubyte.gz\n",
            "Downloading http://fashion-mnist.s3-website.eu-central-1.amazonaws.com/train-images-idx3-ubyte.gz to data/FashionMNIST/raw/train-images-idx3-ubyte.gz\n"
          ]
        },
        {
          "output_type": "display_data",
          "data": {
            "text/plain": [
              "  0%|          | 0/26421880 [00:00<?, ?it/s]"
            ],
            "application/vnd.jupyter.widget-view+json": {
              "version_major": 2,
              "version_minor": 0,
              "model_id": "a072b780004c44aaac0c12c82111ac3a"
            }
          },
          "metadata": {}
        },
        {
          "output_type": "stream",
          "name": "stdout",
          "text": [
            "Extracting data/FashionMNIST/raw/train-images-idx3-ubyte.gz to data/FashionMNIST/raw\n",
            "\n",
            "Downloading http://fashion-mnist.s3-website.eu-central-1.amazonaws.com/train-labels-idx1-ubyte.gz\n",
            "Downloading http://fashion-mnist.s3-website.eu-central-1.amazonaws.com/train-labels-idx1-ubyte.gz to data/FashionMNIST/raw/train-labels-idx1-ubyte.gz\n"
          ]
        },
        {
          "output_type": "display_data",
          "data": {
            "text/plain": [
              "  0%|          | 0/29515 [00:00<?, ?it/s]"
            ],
            "application/vnd.jupyter.widget-view+json": {
              "version_major": 2,
              "version_minor": 0,
              "model_id": "be0b9f94d5a44c3182092bd8df70b128"
            }
          },
          "metadata": {}
        },
        {
          "output_type": "stream",
          "name": "stdout",
          "text": [
            "Extracting data/FashionMNIST/raw/train-labels-idx1-ubyte.gz to data/FashionMNIST/raw\n",
            "\n",
            "Downloading http://fashion-mnist.s3-website.eu-central-1.amazonaws.com/t10k-images-idx3-ubyte.gz\n",
            "Downloading http://fashion-mnist.s3-website.eu-central-1.amazonaws.com/t10k-images-idx3-ubyte.gz to data/FashionMNIST/raw/t10k-images-idx3-ubyte.gz\n"
          ]
        },
        {
          "output_type": "display_data",
          "data": {
            "text/plain": [
              "  0%|          | 0/4422102 [00:00<?, ?it/s]"
            ],
            "application/vnd.jupyter.widget-view+json": {
              "version_major": 2,
              "version_minor": 0,
              "model_id": "2925440e6a0c48abafbf59f2dc365c97"
            }
          },
          "metadata": {}
        },
        {
          "output_type": "stream",
          "name": "stdout",
          "text": [
            "Extracting data/FashionMNIST/raw/t10k-images-idx3-ubyte.gz to data/FashionMNIST/raw\n",
            "\n",
            "Downloading http://fashion-mnist.s3-website.eu-central-1.amazonaws.com/t10k-labels-idx1-ubyte.gz\n",
            "Downloading http://fashion-mnist.s3-website.eu-central-1.amazonaws.com/t10k-labels-idx1-ubyte.gz to data/FashionMNIST/raw/t10k-labels-idx1-ubyte.gz\n"
          ]
        },
        {
          "output_type": "display_data",
          "data": {
            "text/plain": [
              "  0%|          | 0/5148 [00:00<?, ?it/s]"
            ],
            "application/vnd.jupyter.widget-view+json": {
              "version_major": 2,
              "version_minor": 0,
              "model_id": "dea788b7215a45a88c55bd2a264dce51"
            }
          },
          "metadata": {}
        },
        {
          "output_type": "stream",
          "name": "stdout",
          "text": [
            "Extracting data/FashionMNIST/raw/t10k-labels-idx1-ubyte.gz to data/FashionMNIST/raw\n",
            "\n"
          ]
        }
      ]
    },
    {
      "cell_type": "code",
      "source": [
        "test_data = datasets.FashionMNIST(\n",
        "    root=\"data\",            # 資料放置路徑\n",
        "    train=False,            # 測試資料集\n",
        "    download=True,          # 自動下載\n",
        "    transform=ToTensor(),   # 資料轉換函數\n",
        ")"
      ],
      "metadata": {
        "id": "fr2OnvtyWT5n"
      },
      "execution_count": 5,
      "outputs": []
    },
    {
      "cell_type": "code",
      "source": [
        "# 批次載入資料筆數\n",
        "batch_size = 64\n",
        "\n",
        "# 建立 DataLoader\n",
        "train_dataloader = DataLoader(training_data, batch_size=batch_size)\n",
        "test_dataloader = DataLoader(test_data, batch_size=batch_size)"
      ],
      "metadata": {
        "id": "gjdz0HZWWv7k"
      },
      "execution_count": 6,
      "outputs": []
    },
    {
      "cell_type": "code",
      "source": [
        "size = len(train_dataloader.dataset)\n",
        "num_batches = len(train_dataloader)\n",
        "test_size = len(test_dataloader.dataset)\n",
        "test_num_batches = len(test_dataloader)"
      ],
      "metadata": {
        "id": "hyFU8_tzZy00"
      },
      "execution_count": 7,
      "outputs": []
    },
    {
      "cell_type": "code",
      "source": [
        "print(size,num_batches)\n",
        "print(test_size,test_num_batches)"
      ],
      "metadata": {
        "colab": {
          "base_uri": "https://localhost:8080/"
        },
        "id": "i-bDZjZgZ_Ay",
        "outputId": "4b6a83eb-e41b-421b-d461-6d0d3633f559"
      },
      "execution_count": 8,
      "outputs": [
        {
          "output_type": "stream",
          "name": "stdout",
          "text": [
            "60000 938\n",
            "10000 157\n"
          ]
        }
      ]
    },
    {
      "cell_type": "code",
      "source": [
        "for X, y in train_dataloader:\n",
        "    print(\"Shape of X [N, C, H, W]: \", X.shape)\n",
        "    print(\"Shape of y: \", y.shape, y.dtype)\n",
        "    break"
      ],
      "metadata": {
        "id": "esu21a1dW0eH",
        "colab": {
          "base_uri": "https://localhost:8080/"
        },
        "outputId": "ae6c2495-8b80-4906-a325-c9b2288e4905"
      },
      "execution_count": 9,
      "outputs": [
        {
          "output_type": "stream",
          "name": "stdout",
          "text": [
            "Shape of X [N, C, H, W]:  torch.Size([64, 1, 28, 28])\n",
            "Shape of y:  torch.Size([64]) torch.int64\n"
          ]
        }
      ]
    },
    {
      "cell_type": "code",
      "source": [
        "dataiter = iter(test_dataloader)\n",
        "data = dataiter.next()\n",
        "feature, labels = data\n",
        "print(feature.shape)\n"
      ],
      "metadata": {
        "id": "cTZIKLH8W0p3",
        "colab": {
          "base_uri": "https://localhost:8080/",
          "height": 220
        },
        "outputId": "e7ea6388-e9fb-4eaf-911b-1310d51ab768"
      },
      "execution_count": 87,
      "outputs": [
        {
          "output_type": "error",
          "ename": "AttributeError",
          "evalue": "ignored",
          "traceback": [
            "\u001b[0;31m---------------------------------------------------------------------------\u001b[0m",
            "\u001b[0;31mAttributeError\u001b[0m                            Traceback (most recent call last)",
            "\u001b[0;32m<ipython-input-87-7590e9de1b72>\u001b[0m in \u001b[0;36m<module>\u001b[0;34m\u001b[0m\n\u001b[1;32m      1\u001b[0m \u001b[0mdataiter\u001b[0m \u001b[0;34m=\u001b[0m \u001b[0miter\u001b[0m\u001b[0;34m(\u001b[0m\u001b[0mtest_data\u001b[0m\u001b[0;34m)\u001b[0m\u001b[0;34m\u001b[0m\u001b[0;34m\u001b[0m\u001b[0m\n\u001b[0;32m----> 2\u001b[0;31m \u001b[0mdata\u001b[0m \u001b[0;34m=\u001b[0m \u001b[0mdataiter\u001b[0m\u001b[0;34m.\u001b[0m\u001b[0mnext\u001b[0m\u001b[0;34m(\u001b[0m\u001b[0;34m)\u001b[0m\u001b[0;34m\u001b[0m\u001b[0;34m\u001b[0m\u001b[0m\n\u001b[0m\u001b[1;32m      3\u001b[0m \u001b[0mfeature\u001b[0m\u001b[0;34m,\u001b[0m \u001b[0mlabels\u001b[0m \u001b[0;34m=\u001b[0m \u001b[0mdata\u001b[0m\u001b[0;34m\u001b[0m\u001b[0;34m\u001b[0m\u001b[0m\n\u001b[1;32m      4\u001b[0m \u001b[0mprint\u001b[0m\u001b[0;34m(\u001b[0m\u001b[0mfeature\u001b[0m\u001b[0;34m.\u001b[0m\u001b[0mshape\u001b[0m\u001b[0;34m)\u001b[0m\u001b[0;34m\u001b[0m\u001b[0;34m\u001b[0m\u001b[0m\n",
            "\u001b[0;31mAttributeError\u001b[0m: 'iterator' object has no attribute 'next'"
          ]
        }
      ]
    },
    {
      "cell_type": "code",
      "source": [
        "i=17\n",
        "aaa = feature[i,0,:,:]\n",
        "print(aaa.shape)\n",
        "print(labels[i])\n"
      ],
      "metadata": {
        "id": "gyz2mz3_W0tz",
        "colab": {
          "base_uri": "https://localhost:8080/"
        },
        "outputId": "ca0918d9-fdde-4a10-aaa6-4cb99bcb8704"
      },
      "execution_count": 11,
      "outputs": [
        {
          "output_type": "stream",
          "name": "stdout",
          "text": [
            "torch.Size([28, 28])\n",
            "tensor(4)\n"
          ]
        }
      ]
    },
    {
      "cell_type": "code",
      "source": [
        "# 各類別名稱\n",
        "classes = [\n",
        "    \"T-shirt/top\",\n",
        "    \"Trouser\",\n",
        "    \"Pullover\",\n",
        "    \"Dress\",\n",
        "    \"Coat\",\n",
        "    \"Sandal\",\n",
        "    \"Shirt\",\n",
        "    \"Sneaker\",\n",
        "    \"Bag\",\n",
        "    \"Ankle boot\",\n",
        "]"
      ],
      "metadata": {
        "id": "Y-BIzeFbjVrC"
      },
      "execution_count": 12,
      "outputs": []
    },
    {
      "cell_type": "code",
      "source": [
        "wrong_mask = np.abs(truth-pred_result)\n",
        "wrong=np.zeros((9))\n",
        "a=0\n",
        "for i in range(1500,1570):\n",
        "  if wrong_mask[i]:\n",
        "    wrong[a] = i\n",
        "    a=a+1\n",
        "    print('wrong',a)\n",
        "    print('   ',classes[int(truth[i])])\n",
        "    print('   ',classes[int(pred_result[i])])"
      ],
      "metadata": {
        "colab": {
          "base_uri": "https://localhost:8080/"
        },
        "id": "k3ES74v1kBgi",
        "outputId": "86b95d43-19aa-4a91-bb15-e11707197341"
      },
      "execution_count": 120,
      "outputs": [
        {
          "output_type": "stream",
          "name": "stdout",
          "text": [
            "wrong 1\n",
            "    Sandal\n",
            "    Sneaker\n",
            "wrong 2\n",
            "    Shirt\n",
            "    Pullover\n",
            "wrong 3\n",
            "    T-shirt/top\n",
            "    Dress\n",
            "wrong 4\n",
            "    Ankle boot\n",
            "    Sneaker\n",
            "wrong 5\n",
            "    Pullover\n",
            "    Shirt\n",
            "wrong 6\n",
            "    Pullover\n",
            "    Shirt\n",
            "wrong 7\n",
            "    Pullover\n",
            "    Coat\n",
            "wrong 8\n",
            "    Dress\n",
            "    Trouser\n",
            "wrong 9\n",
            "    Sneaker\n",
            "    Sandal\n"
          ]
        }
      ]
    },
    {
      "cell_type": "code",
      "source": [
        "\n",
        "fig, ax = plt.subplots(3,3,figsize=(10,10))\n",
        "a=0\n",
        "for i in range(0,3):\n",
        "  for j in range(0,3):\n",
        "    xx, yy = test_data[int(wrong[a])][0], test_data[int(wrong[a])][1]\n",
        "    ax[i,j].imshow(xx[0,:,:],cmap='hot')\n",
        "    #title =  classes[yy] + ' vs ' + classes[int(pred_result[int(wrong[a])])]\n",
        "    title1 =  classes[yy]\n",
        "    title2 =  classes[int(pred_result[int(wrong[a])])]\n",
        "    ax[i,j].text(-1, -2, title1,color='green', size=18,fontweight='semibold',ha='left',va='center')\n",
        "    #ax[i,j].text(13, -2, ' vs ',color='k', size=14,fontweight='semibold',ha='center',va='center')\n",
        "    ax[i,j].text(28, -2, title2,color='tab:orange', size=18,fontweight='semibold',ha='right',va='center')\n",
        "    #ax[i,j].set_title(classes[yy],fontsize=20)\n",
        "    #ax[i,j].set_title(title,fontsize=20)\n",
        "    ax[i,j].tick_params(left=False,bottom=False,labelleft=False,labelbottom=False)\n",
        "    a=a+1\n",
        "plt.tight_layout()\n",
        "plt.savefig('drive/MyDrive/ml_data/hw01/class_demo.png',dpi=400)"
      ],
      "metadata": {
        "id": "5aENflmBW0wz",
        "colab": {
          "base_uri": "https://localhost:8080/",
          "height": 732
        },
        "outputId": "7ec6d3ee-dc50-4366-d180-b1d433da414b"
      },
      "execution_count": 156,
      "outputs": [
        {
          "output_type": "display_data",
          "data": {
            "text/plain": [
              "<Figure size 720x720 with 9 Axes>"
            ],
            "image/png": "[encoded data removed]"
          },
          "metadata": {}
        }
      ]
    },
    {
      "cell_type": "code",
      "source": [
        "# 定義類神經網路模型\n",
        "class NeuralNetwork(nn.Module):\n",
        "    def __init__(self):\n",
        "        super(NeuralNetwork, self).__init__()\n",
        "\n",
        "        # 建立類神經網路各層\n",
        "        self.flatten = nn.Flatten()  # 轉為一維向量\n",
        "        self.linear_relu_stack = nn.Sequential(\n",
        "            nn.Linear(28*28, 512),   # 線性轉換\n",
        "            nn.ReLU(),               # ReLU 轉換\n",
        "            nn.Linear(512, 512),\n",
        "            nn.ReLU(),\n",
        "            nn.Linear(512, 10)\n",
        "        )\n",
        "\n",
        "    def forward(self, x):\n",
        "        # 定義資料如何通過類神經網路各層\n",
        "        x = self.flatten(x)\n",
        "        logits = self.linear_relu_stack(x)\n",
        "        return logits"
      ],
      "metadata": {
        "id": "UasauGoqf8tG"
      },
      "execution_count": 14,
      "outputs": []
    },
    {
      "cell_type": "code",
      "source": [
        "# 若 CUDA 環境可用，則使用 GPU 計算，否則使用 CPU\n",
        "device = \"cuda\" if torch.cuda.is_available() else \"cpu\"\n",
        "print(f\"Using {device} device\")"
      ],
      "metadata": {
        "id": "5p1dFCpTcVaJ",
        "colab": {
          "base_uri": "https://localhost:8080/"
        },
        "outputId": "c7f1e0b1-07e1-47c9-cc24-7ea7dcdcc674"
      },
      "execution_count": 15,
      "outputs": [
        {
          "output_type": "stream",
          "name": "stdout",
          "text": [
            "Using cuda device\n"
          ]
        }
      ]
    },
    {
      "cell_type": "code",
      "source": [
        "# 建立類神經網路模型，並放置於 GPU 或 CPU 上\n",
        "model = NeuralNetwork().to(device)\n",
        "print(model)"
      ],
      "metadata": {
        "colab": {
          "base_uri": "https://localhost:8080/"
        },
        "id": "TzR5VAJaldb1",
        "outputId": "40a1020e-ed41-4d27-bd65-cd5dc4fba543"
      },
      "execution_count": 16,
      "outputs": [
        {
          "output_type": "stream",
          "name": "stdout",
          "text": [
            "NeuralNetwork(\n",
            "  (flatten): Flatten(start_dim=1, end_dim=-1)\n",
            "  (linear_relu_stack): Sequential(\n",
            "    (0): Linear(in_features=784, out_features=512, bias=True)\n",
            "    (1): ReLU()\n",
            "    (2): Linear(in_features=512, out_features=512, bias=True)\n",
            "    (3): ReLU()\n",
            "    (4): Linear(in_features=512, out_features=10, bias=True)\n",
            "  )\n",
            ")\n"
          ]
        }
      ]
    },
    {
      "cell_type": "code",
      "source": [
        "# 損失函數\n",
        "loss_fn = nn.CrossEntropyLoss()\n",
        "\n",
        "# 學習優化器\n",
        "optimizer = torch.optim.SGD(model.parameters(), lr=1e-3)"
      ],
      "metadata": {
        "id": "vyhbrme_ldes"
      },
      "execution_count": 17,
      "outputs": []
    },
    {
      "cell_type": "code",
      "source": [
        "# 訓練模型\n",
        "def train(dataloader, model, loss_fn, optimizer):\n",
        "    # 資料總筆數\n",
        "    size = len(dataloader.dataset)\n",
        "    num_batches = len(dataloader)\n",
        "    # 將模型設定為訓練模式\n",
        "    model.train()\n",
        "    train_loss = 0\n",
        "    # 批次讀取資料進行訓練\n",
        "    for batch, (X, y) in enumerate(dataloader):\n",
        "        # 將資料放置於 GPU 或 CPU\n",
        "        X, y = X.to(device), y.to(device)\n",
        "\n",
        "        pred = model(X)         # 計算預測值\n",
        "        loss = loss_fn(pred, y) # 計算損失值（loss）\n",
        "        train_loss += loss_fn(pred, y).item()\n",
        "        optimizer.zero_grad()   # 重設參數梯度（gradient）\n",
        "        loss.backward()         # 反向傳播（backpropagation）\n",
        "        optimizer.step()        # 更新參數\n",
        "    train_loss /= num_batches\n",
        "    return(train_loss)\n",
        "        # 輸出訓練過程資訊\n",
        "        #if batch % 100 == 0:\n",
        "        #    loss, current = loss.item(), batch * len(X)\n",
        "        #    print(f\"loss: {loss:>7f}  [{current:>5d}/{size:>5d}]\")\n",
        "        "
      ],
      "metadata": {
        "id": "bzkHRopOldhv"
      },
      "execution_count": 18,
      "outputs": []
    },
    {
      "cell_type": "code",
      "source": [
        "# 測試模型\n",
        "def test(dataloader, model, loss_fn):\n",
        "    # 資料總筆數\n",
        "    size = len(dataloader.dataset)\n",
        "\n",
        "    # 批次數量\n",
        "    num_batches = len(dataloader)\n",
        "\n",
        "    # 將模型設定為驗證模式\n",
        "    model.eval()\n",
        "\n",
        "    # 初始化數值\n",
        "    test_loss, correct = 0, 0\n",
        "\n",
        "    # 驗證模型準確度\n",
        "    with torch.no_grad():  # 不要計算參數梯度\n",
        "        for X, y in dataloader:\n",
        "            # 將資料放置於 GPU 或 CPU\n",
        "            X, y = X.to(device), y.to(device)\n",
        "\n",
        "            # 計算預測值\n",
        "            pred = model(X)\n",
        "\n",
        "            # 計算損失值的加總值\n",
        "            test_loss += loss_fn(pred, y).item()\n",
        "\n",
        "            # 計算預測正確數量的加總值\n",
        "            correct += (pred.argmax(1) == y).type(torch.float).sum().item()\n",
        "\n",
        "    # 計算平均損失值與正確率\n",
        "    test_loss /= num_batches\n",
        "    correct /= size\n",
        "    print(f\"Test Error: \\n Accuracy: {(100*correct):>0.1f}%, Avg loss: {test_loss:>8f} \\n\")\n",
        "    return test_loss , correct*100"
      ],
      "metadata": {
        "id": "kAjbA4_Ql-cs"
      },
      "execution_count": 22,
      "outputs": []
    },
    {
      "cell_type": "code",
      "source": [
        "# 設定 epochs 數\n",
        "epochs = 100\n",
        "total_trainloss = np.zeros((epochs)) \n",
        "total_testloss = np.zeros((epochs)) \n",
        "total_acc = np.zeros((epochs)) \n",
        "# 開始訓練模型\n",
        "for t in range(epochs):\n",
        "    print(f\"Epoch {t+1}\\n-------------------------------\")\n",
        "    trainloss = train(train_dataloader, model, loss_fn, optimizer)\n",
        "    testloss,acc = test(test_dataloader, model, loss_fn)\n",
        "    total_trainloss[t] = trainloss\n",
        "    total_testloss[t] = testloss\n",
        "    total_acc[t] = acc\n",
        "print('done')"
      ],
      "metadata": {
        "colab": {
          "base_uri": "https://localhost:8080/"
        },
        "id": "WluGlHZrl-fq",
        "outputId": "2e6ee719-458f-4c87-b5e4-c6baffd378bb"
      },
      "execution_count": 25,
      "outputs": [
        {
          "output_type": "stream",
          "name": "stdout",
          "text": [
            "Epoch 1\n",
            "-------------------------------\n",
            "Test Error: \n",
            " Accuracy: 63.6%, Avg loss: 1.253825 \n",
            "\n",
            "Epoch 2\n",
            "-------------------------------\n",
            "Test Error: \n",
            " Accuracy: 64.8%, Avg loss: 1.086399 \n",
            "\n",
            "Epoch 3\n",
            "-------------------------------\n",
            "Test Error: \n",
            " Accuracy: 65.8%, Avg loss: 0.979195 \n",
            "\n",
            "Epoch 4\n",
            "-------------------------------\n",
            "Test Error: \n",
            " Accuracy: 66.9%, Avg loss: 0.906898 \n",
            "\n",
            "Epoch 5\n",
            "-------------------------------\n",
            "Test Error: \n",
            " Accuracy: 68.0%, Avg loss: 0.855410 \n",
            "\n",
            "Epoch 6\n",
            "-------------------------------\n",
            "Test Error: \n",
            " Accuracy: 69.3%, Avg loss: 0.816638 \n",
            "\n",
            "Epoch 7\n",
            "-------------------------------\n",
            "Test Error: \n",
            " Accuracy: 70.4%, Avg loss: 0.785856 \n",
            "\n",
            "Epoch 8\n",
            "-------------------------------\n",
            "Test Error: \n",
            " Accuracy: 71.6%, Avg loss: 0.760265 \n",
            "\n",
            "Epoch 9\n",
            "-------------------------------\n",
            "Test Error: \n",
            " Accuracy: 72.7%, Avg loss: 0.738163 \n",
            "\n",
            "Epoch 10\n",
            "-------------------------------\n",
            "Test Error: \n",
            " Accuracy: 73.8%, Avg loss: 0.718494 \n",
            "\n",
            "Epoch 11\n",
            "-------------------------------\n",
            "Test Error: \n",
            " Accuracy: 74.7%, Avg loss: 0.700688 \n",
            "\n",
            "Epoch 12\n",
            "-------------------------------\n",
            "Test Error: \n",
            " Accuracy: 75.4%, Avg loss: 0.684409 \n",
            "\n",
            "Epoch 13\n",
            "-------------------------------\n",
            "Test Error: \n",
            " Accuracy: 76.2%, Avg loss: 0.669418 \n",
            "\n",
            "Epoch 14\n",
            "-------------------------------\n",
            "Test Error: \n",
            " Accuracy: 76.9%, Avg loss: 0.655586 \n",
            "\n",
            "Epoch 15\n",
            "-------------------------------\n",
            "Test Error: \n",
            " Accuracy: 77.4%, Avg loss: 0.642790 \n",
            "\n",
            "Epoch 16\n",
            "-------------------------------\n",
            "Test Error: \n",
            " Accuracy: 77.8%, Avg loss: 0.630947 \n",
            "\n",
            "Epoch 17\n",
            "-------------------------------\n",
            "Test Error: \n",
            " Accuracy: 78.4%, Avg loss: 0.619981 \n",
            "\n",
            "Epoch 18\n",
            "-------------------------------\n",
            "Test Error: \n",
            " Accuracy: 78.8%, Avg loss: 0.609834 \n",
            "\n",
            "Epoch 19\n",
            "-------------------------------\n",
            "Test Error: \n",
            " Accuracy: 79.1%, Avg loss: 0.600449 \n",
            "\n",
            "Epoch 20\n",
            "-------------------------------\n",
            "Test Error: \n",
            " Accuracy: 79.4%, Avg loss: 0.591763 \n",
            "\n",
            "Epoch 21\n",
            "-------------------------------\n",
            "Test Error: \n",
            " Accuracy: 79.7%, Avg loss: 0.583719 \n",
            "\n",
            "Epoch 22\n",
            "-------------------------------\n",
            "Test Error: \n",
            " Accuracy: 79.9%, Avg loss: 0.576277 \n",
            "\n",
            "Epoch 23\n",
            "-------------------------------\n",
            "Test Error: \n",
            " Accuracy: 80.2%, Avg loss: 0.569395 \n",
            "\n",
            "Epoch 24\n",
            "-------------------------------\n",
            "Test Error: \n",
            " Accuracy: 80.4%, Avg loss: 0.563028 \n",
            "\n",
            "Epoch 25\n",
            "-------------------------------\n",
            "Test Error: \n",
            " Accuracy: 80.5%, Avg loss: 0.557128 \n",
            "\n",
            "Epoch 26\n",
            "-------------------------------\n",
            "Test Error: \n",
            " Accuracy: 80.6%, Avg loss: 0.551650 \n",
            "\n",
            "Epoch 27\n",
            "-------------------------------\n",
            "Test Error: \n",
            " Accuracy: 80.8%, Avg loss: 0.546551 \n",
            "\n",
            "Epoch 28\n",
            "-------------------------------\n",
            "Test Error: \n",
            " Accuracy: 81.1%, Avg loss: 0.541798 \n",
            "\n",
            "Epoch 29\n",
            "-------------------------------\n",
            "Test Error: \n",
            " Accuracy: 81.2%, Avg loss: 0.537374 \n",
            "\n",
            "Epoch 30\n",
            "-------------------------------\n",
            "Test Error: \n",
            " Accuracy: 81.3%, Avg loss: 0.533239 \n",
            "\n",
            "Epoch 31\n",
            "-------------------------------\n",
            "Test Error: \n",
            " Accuracy: 81.5%, Avg loss: 0.529365 \n",
            "\n",
            "Epoch 32\n",
            "-------------------------------\n",
            "Test Error: \n",
            " Accuracy: 81.5%, Avg loss: 0.525722 \n",
            "\n",
            "Epoch 33\n",
            "-------------------------------\n",
            "Test Error: \n",
            " Accuracy: 81.7%, Avg loss: 0.522294 \n",
            "\n",
            "Epoch 34\n",
            "-------------------------------\n",
            "Test Error: \n",
            " Accuracy: 81.8%, Avg loss: 0.519054 \n",
            "\n",
            "Epoch 35\n",
            "-------------------------------\n",
            "Test Error: \n",
            " Accuracy: 81.9%, Avg loss: 0.515995 \n",
            "\n",
            "Epoch 36\n",
            "-------------------------------\n",
            "Test Error: \n",
            " Accuracy: 82.0%, Avg loss: 0.513090 \n",
            "\n",
            "Epoch 37\n",
            "-------------------------------\n",
            "Test Error: \n",
            " Accuracy: 82.0%, Avg loss: 0.510335 \n",
            "\n",
            "Epoch 38\n",
            "-------------------------------\n",
            "Test Error: \n",
            " Accuracy: 82.0%, Avg loss: 0.507715 \n",
            "\n",
            "Epoch 39\n",
            "-------------------------------\n",
            "Test Error: \n",
            " Accuracy: 82.1%, Avg loss: 0.505216 \n",
            "\n",
            "Epoch 40\n",
            "-------------------------------\n",
            "Test Error: \n",
            " Accuracy: 82.2%, Avg loss: 0.502826 \n",
            "\n",
            "Epoch 41\n",
            "-------------------------------\n",
            "Test Error: \n",
            " Accuracy: 82.2%, Avg loss: 0.500530 \n",
            "\n",
            "Epoch 42\n",
            "-------------------------------\n",
            "Test Error: \n",
            " Accuracy: 82.3%, Avg loss: 0.498318 \n",
            "\n",
            "Epoch 43\n",
            "-------------------------------\n",
            "Test Error: \n",
            " Accuracy: 82.3%, Avg loss: 0.496201 \n",
            "\n",
            "Epoch 44\n",
            "-------------------------------\n",
            "Test Error: \n",
            " Accuracy: 82.5%, Avg loss: 0.494173 \n",
            "\n",
            "Epoch 45\n",
            "-------------------------------\n",
            "Test Error: \n",
            " Accuracy: 82.5%, Avg loss: 0.492225 \n",
            "\n",
            "Epoch 46\n",
            "-------------------------------\n",
            "Test Error: \n",
            " Accuracy: 82.6%, Avg loss: 0.490351 \n",
            "\n",
            "Epoch 47\n",
            "-------------------------------\n",
            "Test Error: \n",
            " Accuracy: 82.7%, Avg loss: 0.488545 \n",
            "\n",
            "Epoch 48\n",
            "-------------------------------\n",
            "Test Error: \n",
            " Accuracy: 82.7%, Avg loss: 0.486795 \n",
            "\n",
            "Epoch 49\n",
            "-------------------------------\n",
            "Test Error: \n",
            " Accuracy: 82.8%, Avg loss: 0.485100 \n",
            "\n",
            "Epoch 50\n",
            "-------------------------------\n",
            "Test Error: \n",
            " Accuracy: 82.7%, Avg loss: 0.483459 \n",
            "\n",
            "Epoch 51\n",
            "-------------------------------\n",
            "Test Error: \n",
            " Accuracy: 82.8%, Avg loss: 0.481864 \n",
            "\n",
            "Epoch 52\n",
            "-------------------------------\n",
            "Test Error: \n",
            " Accuracy: 82.9%, Avg loss: 0.480315 \n",
            "\n",
            "Epoch 53\n",
            "-------------------------------\n",
            "Test Error: \n",
            " Accuracy: 82.9%, Avg loss: 0.478806 \n",
            "\n",
            "Epoch 54\n",
            "-------------------------------\n",
            "Test Error: \n",
            " Accuracy: 83.0%, Avg loss: 0.477338 \n",
            "\n",
            "Epoch 55\n",
            "-------------------------------\n",
            "Test Error: \n",
            " Accuracy: 83.0%, Avg loss: 0.475913 \n",
            "\n",
            "Epoch 56\n",
            "-------------------------------\n",
            "Test Error: \n",
            " Accuracy: 83.0%, Avg loss: 0.474525 \n",
            "\n",
            "Epoch 57\n",
            "-------------------------------\n",
            "Test Error: \n",
            " Accuracy: 83.0%, Avg loss: 0.473169 \n",
            "\n",
            "Epoch 58\n",
            "-------------------------------\n",
            "Test Error: \n",
            " Accuracy: 83.1%, Avg loss: 0.471843 \n",
            "\n",
            "Epoch 59\n",
            "-------------------------------\n",
            "Test Error: \n",
            " Accuracy: 83.1%, Avg loss: 0.470550 \n",
            "\n",
            "Epoch 60\n",
            "-------------------------------\n",
            "Test Error: \n",
            " Accuracy: 83.1%, Avg loss: 0.469281 \n",
            "\n",
            "Epoch 61\n",
            "-------------------------------\n",
            "Test Error: \n",
            " Accuracy: 83.2%, Avg loss: 0.468034 \n",
            "\n",
            "Epoch 62\n",
            "-------------------------------\n",
            "Test Error: \n",
            " Accuracy: 83.2%, Avg loss: 0.466815 \n",
            "\n",
            "Epoch 63\n",
            "-------------------------------\n",
            "Test Error: \n",
            " Accuracy: 83.2%, Avg loss: 0.465625 \n",
            "\n",
            "Epoch 64\n",
            "-------------------------------\n",
            "Test Error: \n",
            " Accuracy: 83.3%, Avg loss: 0.464458 \n",
            "\n",
            "Epoch 65\n",
            "-------------------------------\n",
            "Test Error: \n",
            " Accuracy: 83.3%, Avg loss: 0.463315 \n",
            "\n",
            "Epoch 66\n",
            "-------------------------------\n",
            "Test Error: \n",
            " Accuracy: 83.4%, Avg loss: 0.462193 \n",
            "\n",
            "Epoch 67\n",
            "-------------------------------\n",
            "Test Error: \n",
            " Accuracy: 83.5%, Avg loss: 0.461085 \n",
            "\n",
            "Epoch 68\n",
            "-------------------------------\n",
            "Test Error: \n",
            " Accuracy: 83.5%, Avg loss: 0.460004 \n",
            "\n",
            "Epoch 69\n",
            "-------------------------------\n",
            "Test Error: \n",
            " Accuracy: 83.6%, Avg loss: 0.458941 \n",
            "\n",
            "Epoch 70\n",
            "-------------------------------\n",
            "Test Error: \n",
            " Accuracy: 83.6%, Avg loss: 0.457890 \n",
            "\n",
            "Epoch 71\n",
            "-------------------------------\n",
            "Test Error: \n",
            " Accuracy: 83.7%, Avg loss: 0.456856 \n",
            "\n",
            "Epoch 72\n",
            "-------------------------------\n",
            "Test Error: \n",
            " Accuracy: 83.7%, Avg loss: 0.455842 \n",
            "\n",
            "Epoch 73\n",
            "-------------------------------\n",
            "Test Error: \n",
            " Accuracy: 83.8%, Avg loss: 0.454840 \n",
            "\n",
            "Epoch 74\n",
            "-------------------------------\n",
            "Test Error: \n",
            " Accuracy: 83.8%, Avg loss: 0.453852 \n",
            "\n",
            "Epoch 75\n",
            "-------------------------------\n",
            "Test Error: \n",
            " Accuracy: 83.9%, Avg loss: 0.452873 \n",
            "\n",
            "Epoch 76\n",
            "-------------------------------\n",
            "Test Error: \n",
            " Accuracy: 83.9%, Avg loss: 0.451914 \n",
            "\n",
            "Epoch 77\n",
            "-------------------------------\n",
            "Test Error: \n",
            " Accuracy: 84.0%, Avg loss: 0.450966 \n",
            "\n",
            "Epoch 78\n",
            "-------------------------------\n",
            "Test Error: \n",
            " Accuracy: 83.9%, Avg loss: 0.450031 \n",
            "\n",
            "Epoch 79\n",
            "-------------------------------\n",
            "Test Error: \n",
            " Accuracy: 84.0%, Avg loss: 0.449112 \n",
            "\n",
            "Epoch 80\n",
            "-------------------------------\n",
            "Test Error: \n",
            " Accuracy: 84.1%, Avg loss: 0.448208 \n",
            "\n",
            "Epoch 81\n",
            "-------------------------------\n",
            "Test Error: \n",
            " Accuracy: 84.1%, Avg loss: 0.447317 \n",
            "\n",
            "Epoch 82\n",
            "-------------------------------\n",
            "Test Error: \n",
            " Accuracy: 84.1%, Avg loss: 0.446437 \n",
            "\n",
            "Epoch 83\n",
            "-------------------------------\n",
            "Test Error: \n",
            " Accuracy: 84.2%, Avg loss: 0.445570 \n",
            "\n",
            "Epoch 84\n",
            "-------------------------------\n",
            "Test Error: \n",
            " Accuracy: 84.2%, Avg loss: 0.444714 \n",
            "\n",
            "Epoch 85\n",
            "-------------------------------\n",
            "Test Error: \n",
            " Accuracy: 84.2%, Avg loss: 0.443871 \n",
            "\n",
            "Epoch 86\n",
            "-------------------------------\n",
            "Test Error: \n",
            " Accuracy: 84.3%, Avg loss: 0.443040 \n",
            "\n",
            "Epoch 87\n",
            "-------------------------------\n",
            "Test Error: \n",
            " Accuracy: 84.3%, Avg loss: 0.442211 \n",
            "\n",
            "Epoch 88\n",
            "-------------------------------\n",
            "Test Error: \n",
            " Accuracy: 84.3%, Avg loss: 0.441392 \n",
            "\n",
            "Epoch 89\n",
            "-------------------------------\n",
            "Test Error: \n",
            " Accuracy: 84.4%, Avg loss: 0.440582 \n",
            "\n",
            "Epoch 90\n",
            "-------------------------------\n",
            "Test Error: \n",
            " Accuracy: 84.4%, Avg loss: 0.439775 \n",
            "\n",
            "Epoch 91\n",
            "-------------------------------\n",
            "Test Error: \n",
            " Accuracy: 84.4%, Avg loss: 0.438978 \n",
            "\n",
            "Epoch 92\n",
            "-------------------------------\n",
            "Test Error: \n",
            " Accuracy: 84.4%, Avg loss: 0.438189 \n",
            "\n",
            "Epoch 93\n",
            "-------------------------------\n",
            "Test Error: \n",
            " Accuracy: 84.4%, Avg loss: 0.437407 \n",
            "\n",
            "Epoch 94\n",
            "-------------------------------\n",
            "Test Error: \n",
            " Accuracy: 84.4%, Avg loss: 0.436635 \n",
            "\n",
            "Epoch 95\n",
            "-------------------------------\n",
            "Test Error: \n",
            " Accuracy: 84.4%, Avg loss: 0.435862 \n",
            "\n",
            "Epoch 96\n",
            "-------------------------------\n",
            "Test Error: \n",
            " Accuracy: 84.4%, Avg loss: 0.435105 \n",
            "\n",
            "Epoch 97\n",
            "-------------------------------\n",
            "Test Error: \n",
            " Accuracy: 84.4%, Avg loss: 0.434348 \n",
            "\n",
            "Epoch 98\n",
            "-------------------------------\n",
            "Test Error: \n",
            " Accuracy: 84.4%, Avg loss: 0.433595 \n",
            "\n",
            "Epoch 99\n",
            "-------------------------------\n",
            "Test Error: \n",
            " Accuracy: 84.5%, Avg loss: 0.432847 \n",
            "\n",
            "Epoch 100\n",
            "-------------------------------\n",
            "Test Error: \n",
            " Accuracy: 84.6%, Avg loss: 0.432112 \n",
            "\n",
            "done\n"
          ]
        }
      ]
    },
    {
      "cell_type": "code",
      "source": [
        "# 儲存模型參數\n",
        "torch.save(model.state_dict(), \"drive/MyDrive/ml_data/hw01/model_0919_100epoch.pth\")\n",
        "\n",
        "with open('drive/MyDrive/ml_data/hw01/total_train_loss.pkl', 'wb') as f:\n",
        "     pickle.dump(total_trainloss, f)\n",
        "with open('drive/MyDrive/ml_data/hw01/total_test_loss.pkl', 'wb') as f:\n",
        "     pickle.dump(total_testloss, f)\n",
        "with open('drive/MyDrive/ml_data/hw01/total_acc.pkl', 'wb') as f:\n",
        "     pickle.dump(total_acc, f)"
      ],
      "metadata": {
        "id": "XESOCyzpl-io"
      },
      "execution_count": 27,
      "outputs": []
    },
    {
      "cell_type": "code",
      "source": [
        "# 建立類神經網路模型\n",
        "model2 = NeuralNetwork()\n",
        "\n",
        "# 載入模型參數\n",
        "model2.load_state_dict(torch.load(\"drive/MyDrive/ml_data/hw01/model_0919_100epoch.pth\"))"
      ],
      "metadata": {
        "colab": {
          "base_uri": "https://localhost:8080/"
        },
        "id": "mD-JMA2ZoOXM",
        "outputId": "bd4b93b7-5c12-4cae-8be5-a457de78a37b"
      },
      "execution_count": 28,
      "outputs": [
        {
          "output_type": "execute_result",
          "data": {
            "text/plain": [
              "<All keys matched successfully>"
            ]
          },
          "metadata": {},
          "execution_count": 28
        }
      ]
    },
    {
      "cell_type": "code",
      "source": [
        "print(total_trainloss[0:10])\n",
        "print(total_testloss[0:10])\n",
        "print(total_acc[0:10])"
      ],
      "metadata": {
        "colab": {
          "base_uri": "https://localhost:8080/"
        },
        "id": "wIgfBcJPdK3b",
        "outputId": "9ffa4cc4-7de9-40e7-cfe1-6206c7b764cd"
      },
      "execution_count": 29,
      "outputs": [
        {
          "output_type": "stream",
          "name": "stdout",
          "text": [
            "[1.37259849 1.15619043 1.01987153 0.93020631 0.86802238 0.8224694\n",
            " 0.7872436  0.75863693 0.73440563 0.71315511]\n",
            "[1.2538251  1.08639897 0.9791952  0.906898   0.85541003 0.81663767\n",
            " 0.78585626 0.7602652  0.73816335 0.71849359]\n",
            "[63.65 64.79 65.77 66.88 68.01 69.27 70.4  71.6  72.68 73.79]\n"
          ]
        }
      ]
    },
    {
      "cell_type": "code",
      "source": [
        "\n",
        "f= plt.figure(figsize=(15,8))\n",
        "plt.plot(total_trainloss,linewidth=5,c='blue')\n",
        "plt.plot(total_testloss,linewidth=5,c='orange')\n",
        "plt.legend([\"training loss\",\"test loss\"],fontsize=26,shadow=True)\n",
        "plt.yticks(fontsize=20)\n",
        "plt.xticks(fontsize=20)\n",
        "plt.xlabel('Epoch',color='k',fontsize=22)\n",
        "plt.grid()\n",
        "plt.tight_layout()\n",
        "plt.savefig('drive/MyDrive/ml_data/hw01/loss_0919.png',dpi=400)"
      ],
      "metadata": {
        "colab": {
          "base_uri": "https://localhost:8080/",
          "height": 585
        },
        "id": "M2Ghe40ndv7v",
        "outputId": "fe0ded65-c9f3-4571-f60c-a87c74b095f0"
      },
      "execution_count": 33,
      "outputs": [
        {
          "output_type": "display_data",
          "data": {
            "text/plain": [
              "<Figure size 1080x576 with 1 Axes>"
            ],
            "image/png": "[encoded data removed]"
          },
          "metadata": {
            "needs_background": "light"
          }
        }
      ]
    },
    {
      "cell_type": "code",
      "source": [
        "f,ax1= plt.subplots(figsize=(15,8))\n",
        "\n",
        "ax1.plot(total_trainloss,linewidth=5,c='blue')\n",
        "ax1.plot(total_testloss,linewidth=5,c='orange')\n",
        "plt.legend([\"training loss\",\"test loss\",],fontsize=22,shadow=True,loc=4,bbox_to_anchor=(0.95,0.1))\n",
        "plt.yticks(fontsize=20)\n",
        "plt.xticks(fontsize=20)\n",
        "plt.ylabel('loss value',fontsize=24)\n",
        "ax1.set_xlabel('Epoch',color='k',fontsize=22)\n",
        "ax1.grid(axis='x')\n",
        "plt.axis([-2,102,0.38,1.4])\n",
        "\n",
        "\n",
        "ax2 = ax1.twinx()\n",
        "ax2.plot(total_acc,linewidth=5,c='green')\n",
        "plt.ylabel('Accuracy',fontsize=24,c='green')\n",
        "plt.yticks(fontsize=20)\n",
        "plt.xticks(fontsize=20)\n",
        "plt.legend([\"Accurracy\"],fontsize=22,shadow=True,loc=2,bbox_to_anchor=(0.1,0.95))\n",
        "plt.tight_layout()\n",
        "plt.savefig('drive/MyDrive/ml_data/hw01/loss_acc_0919.png',dpi=400)"
      ],
      "metadata": {
        "colab": {
          "base_uri": "https://localhost:8080/",
          "height": 585
        },
        "id": "Jti6CgcfdEAs",
        "outputId": "c597baa8-a692-406b-9705-81cbcbd20b29"
      },
      "execution_count": 68,
      "outputs": [
        {
          "output_type": "display_data",
          "data": {
            "text/plain": [
              "<Figure size 1080x576 with 2 Axes>"
            ],
            "image/png": "[encoded data removed]"
          },
          "metadata": {
            "needs_background": "light"
          }
        }
      ]
    },
    {
      "cell_type": "code",
      "source": [
        "# 各類別名稱\n",
        "classes = [\n",
        "    \"T-shirt/top\",\n",
        "    \"Trouser\",\n",
        "    \"Pullover\",\n",
        "    \"Dress\",\n",
        "    \"Coat\",\n",
        "    \"Sandal\",\n",
        "    \"Shirt\",\n",
        "    \"Sneaker\",\n",
        "    \"Bag\",\n",
        "    \"Ankle boot\",\n",
        "]"
      ],
      "metadata": {
        "id": "Jc9OgOrybJ_8"
      },
      "execution_count": 69,
      "outputs": []
    },
    {
      "cell_type": "code",
      "source": [
        "# 將模型設定為驗證模式\n",
        "model2.eval()\n",
        "for x,y in test_data:\n",
        "# 取得測試資料\n",
        "  #print(x)\n",
        "  pred = model2(x)\n",
        "  #cm[pred[0].argmax(0),y]=cm[pred[0].argmax(0),y]+1\n",
        "\n",
        "    # 整理測試結果\n",
        "  predicted, actual = classes[pred[0].argmax(0)], classes[y]\n",
        "  print(f'預測值：\"{predicted}\" / 實際值：\"{actual}\"')"
      ],
      "metadata": {
        "id": "G5RLiq63oOZ9"
      },
      "execution_count": null,
      "outputs": []
    },
    {
      "cell_type": "code",
      "source": [
        "model2.eval()\n",
        "pred_result = np.zeros((10000))\n",
        "truth = np.zeros((10000))\n",
        "for i in range(0,10000):\n",
        "# 取得測試資料\n",
        "  #print(x)\n",
        "  x, y = test_data[i][0], test_data[i][1]\n",
        "  pred = model2(x)\n",
        "  #cm[pred[0].argmax(0),y]=cm[pred[0].argmax(0),y]+1\n",
        "  pred_result[i] = pred[0].argmax(0)\n",
        "  truth[i] = y\n",
        "    # 整理測試結果\n",
        "  #predicted, actual = classes[pred[0]).argmax(0)], classes[y]\n",
        "  #print(f'預測值：\"{predicted}\" / 實際值：\"{actual}\"')"
      ],
      "metadata": {
        "id": "AdeZMHOhmEER"
      },
      "execution_count": 70,
      "outputs": []
    },
    {
      "cell_type": "code",
      "source": [
        "with open('drive/MyDrive/ml_data/hw01/test_data_prediction.pkl', 'wb') as f:\n",
        "     pickle.dump(pred_result, f)\n",
        "with open('drive/MyDrive/ml_data/hw01/test_data_truth.pkl', 'wb') as f:\n",
        "     pickle.dump(truth, f)"
      ],
      "metadata": {
        "id": "2DbvY3vOagoc"
      },
      "execution_count": 74,
      "outputs": []
    },
    {
      "cell_type": "code",
      "source": [
        "hist_pred = np.histogram2d(pred_result,truth)"
      ],
      "metadata": {
        "id": "57wiqV9Li56a"
      },
      "execution_count": 76,
      "outputs": []
    },
    {
      "cell_type": "code",
      "source": [
        "nparray_h = hist_pred[0]\n",
        "print(nparray_h.shape)"
      ],
      "metadata": {
        "colab": {
          "base_uri": "https://localhost:8080/"
        },
        "id": "B3LiW1lpwpOZ",
        "outputId": "a909f13f-35ce-4c77-91b2-bc645fad247f"
      },
      "execution_count": 77,
      "outputs": [
        {
          "output_type": "stream",
          "name": "stdout",
          "text": [
            "(10, 10)\n"
          ]
        }
      ]
    },
    {
      "cell_type": "code",
      "source": [
        "f,ax= plt.subplots(figsize=(11,10))\n",
        "#ax.hist2d(pred_result, truth,bins=10,cmap='YlGn')\n",
        "hitplot = ax.pcolormesh(nparray_h,cmap='YlGn',vmax=1000)\n",
        "for xx in range(0,10):\n",
        "  for yy in range(0,10):\n",
        "    if nparray_h[xx,yy] > 600:\n",
        "      ax.text(xx+0.5, yy+0.5, int(nparray_h[xx,yy]),color='w', size=16,fontweight='semibold',ha='center',va='center')\n",
        "    else:\n",
        "      ax.text(xx+0.5, yy+0.5, int(nparray_h[xx,yy]),color='k', size=16,fontweight='semibold',ha='center',va='center')\n",
        "ax.invert_yaxis()\n",
        "plt.ylabel('Truth',fontsize=16,fontweight='semibold',rotation=90)\n",
        "plt.xlabel('Prediction',fontsize=16,fontweight='semibold')\n",
        "plt.xticks(np.arange(0.5,10,1),classes,fontsize=18,rotation=310,horizontalalignment='right')\n",
        "ax.xaxis.tick_top()\n",
        "plt.yticks(np.arange(0.5,10,1),classes,fontsize=18)\n",
        "cb = plt.colorbar(hitplot,aspect=30,fraction=0.05, pad=0.05)\n",
        "cb.ax.tick_params(labelsize=18)\n",
        "cb.set_label('counts', size=18,rotation=270)\n",
        "plt.tight_layout()\n",
        "plt.savefig('drive/MyDrive/ml_data/hw01/heatmap_pcolor.png',dpi=400)"
      ],
      "metadata": {
        "colab": {
          "base_uri": "https://localhost:8080/",
          "height": 729
        },
        "id": "UKd9Ed8jo_Lk",
        "outputId": "2a2467d2-9cb2-4efc-b889-2679e7ecb7a9"
      },
      "execution_count": 78,
      "outputs": [
        {
          "output_type": "display_data",
          "data": {
            "text/plain": [
              "<Figure size 792x720 with 2 Axes>"
            ],
            "image/png": "[encoded data removed]"
          },
          "metadata": {
            "needs_background": "light"
          }
        }
      ]
    },
    {
      "cell_type": "code",
      "source": [
        "#fig, ax = plt.subplots(figsize=(4,3),dpi=250)\n",
        "#ax = sn.heatmap(cm,xticklabels=classes,yticklabels=classes,annot=True,fmt = 'g',cmap='YlGn',annot_kws={'fontsize':5},cbar=True)\n",
        "#ax.yaxis.tick_left()\n",
        "#plt.yticks(rotation=0,fontsize=5)\n",
        "\n",
        "#ax.xaxis.tick_top()\n",
        "#plt.xticks(ha='left',rotation=45,fontsize=5)\n",
        "#plt.ylabel('Truth',color='k',fontsize=6)\n",
        "#plt.xlabel('Prediction',color='k',fontsize=6)\n",
        "#plt.tight_layout()\n",
        "#plt.savefig('drive/MyDrive/ml_data/hw01/heatmap.png',dpi=400)"
      ],
      "metadata": {
        "id": "fRqMfCDAoT-O"
      },
      "execution_count": 79,
      "outputs": []
    }
  ]
}