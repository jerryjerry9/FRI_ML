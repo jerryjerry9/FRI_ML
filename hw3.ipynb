{
  "nbformat": 4,
  "nbformat_minor": 0,
  "metadata": {
    "colab": {
      "provenance": [],
      "mount_file_id": "1Yf0lVSqKYWr4LPFbDWpKX9E7FC1WNQAu",
      "authorship_tag": "ABX9TyMocYtjiPfvrLe2QiQnvj6b",
      "include_colab_link": true
    },
    "kernelspec": {
      "name": "python3",
      "display_name": "Python 3"
    },
    "language_info": {
      "name": "python"
    }
  },
  "cells": [
    {
      "cell_type": "markdown",
      "metadata": {
        "id": "view-in-github",
        "colab_type": "text"
      },
      "source": [
        "<a href=\"https://colab.research.google.com/github/jerryjerry9/FRI_ML/blob/main/hw3.ipynb\" target=\"_parent\"><img src=\"https://colab.research.google.com/assets/colab-badge.svg\" alt=\"Open In Colab\"/></a>"
      ]
    },
    {
      "cell_type": "code",
      "execution_count": 1,
      "metadata": {
        "id": "XVZKQZKJmwst"
      },
      "outputs": [],
      "source": [
        "import pickle\n",
        "import numpy as np\n",
        "import matplotlib.pyplot as plt\n",
        "import time\n",
        "import torch\n",
        "import torch.nn as nn\n",
        "import torch.optim as optim\n",
        "from torch.utils.data import Dataset, DataLoader\n",
        "from sklearn.preprocessing import StandardScaler    \n",
        "from sklearn.model_selection import train_test_split\n",
        "from sklearn.metrics import confusion_matrix, classification_report"
      ]
    },
    {
      "cell_type": "code",
      "source": [
        "with open('/content/drive/MyDrive/ml_data/hw03/data_theta_profile.pkl', 'rb') as f:\n",
        "    profile =  pickle.load(f)\n",
        "with open('/content/drive/MyDrive/ml_data/hw03/data_inversion_label.pkl', 'rb') as f:\n",
        "    label =  pickle.load(f)"
      ],
      "metadata": {
        "id": "FLsPK6cPoH3y"
      },
      "execution_count": 3,
      "outputs": []
    },
    {
      "cell_type": "code",
      "source": [
        "x_train, x_test, y_train, y_test = train_test_split(profile, label, test_size=0.25, random_state=50)"
      ],
      "metadata": {
        "id": "9Wj-mAFsoO0G"
      },
      "execution_count": 4,
      "outputs": []
    },
    {
      "cell_type": "code",
      "source": [
        "print(x_train.shape)\n",
        "print(x_test.shape)\n",
        "print(x_train[5,:])"
      ],
      "metadata": {
        "colab": {
          "base_uri": "https://localhost:8080/"
        },
        "id": "Tx5YXNi2optH",
        "outputId": "888b4082-b05f-4a4f-ffed-6e01ebc97d1b"
      },
      "execution_count": 61,
      "outputs": [
        {
          "output_type": "stream",
          "name": "stdout",
          "text": [
            "(7062, 27)\n",
            "(2355, 27)\n",
            "[ 0.99758521  1.07654949  0.19856601 -0.38110674 -0.86703467 -0.70393093\n",
            " -0.3751108  -0.19785091 -0.27858209 -0.14469166  0.0289484  -0.0873394\n",
            " -0.4938623  -0.43380125 -0.13330249 -0.01737169 -0.15480578 -0.38352207\n",
            " -0.60656526 -0.55660048 -0.76254206 -0.91648483 -0.9814221  -0.84092979\n",
            " -0.72756278 -0.67665287 -0.6608814 ]\n"
          ]
        }
      ]
    },
    {
      "cell_type": "code",
      "source": [
        "scaler = StandardScaler()\n",
        "x_train = scaler.fit_transform(x_train)\n",
        "x_test = scaler.transform(x_test)"
      ],
      "metadata": {
        "id": "VQSH34VCoO2t"
      },
      "execution_count": 6,
      "outputs": []
    },
    {
      "cell_type": "code",
      "source": [
        "print('After scaling')\n",
        "print(x_train[5,:])"
      ],
      "metadata": {
        "colab": {
          "base_uri": "https://localhost:8080/"
        },
        "id": "gaN5xa_7oO5k",
        "outputId": "d1b78787-6ffa-47ab-fc9b-4adf14fe5d1f"
      },
      "execution_count": 14,
      "outputs": [
        {
          "output_type": "stream",
          "name": "stdout",
          "text": [
            "After scaling\n",
            "[ 0.99758521  1.07654949  0.19856601 -0.38110674 -0.86703467 -0.70393093\n",
            " -0.3751108  -0.19785091 -0.27858209 -0.14469166  0.0289484  -0.0873394\n",
            " -0.4938623  -0.43380125 -0.13330249 -0.01737169 -0.15480578 -0.38352207\n",
            " -0.60656526 -0.55660048 -0.76254206 -0.91648483 -0.9814221  -0.84092979\n",
            " -0.72756278 -0.67665287 -0.6608814 ]\n"
          ]
        }
      ]
    },
    {
      "cell_type": "code",
      "source": [
        "## train data\n",
        "class TrainData(Dataset):\n",
        "    \n",
        "    def __init__(self, X_data, y_data):\n",
        "        self.X_data = X_data\n",
        "        self.y_data = y_data\n",
        "        \n",
        "    def __getitem__(self, index):\n",
        "        return self.X_data[index], self.y_data[index]\n",
        "        \n",
        "    def __len__ (self):\n",
        "        return len(self.X_data)\n",
        "\n",
        "## test data    \n",
        "class TestData(Dataset):\n",
        "    \n",
        "    def __init__(self, X_data):\n",
        "        self.X_data = X_data\n",
        "        \n",
        "    def __getitem__(self, index):\n",
        "        return self.X_data[index]\n",
        "        \n",
        "    def __len__ (self):\n",
        "        return len(self.X_data)\n",
        "    \n",
        "train_data = TrainData(torch.FloatTensor(x_train), \n",
        "                       torch.FloatTensor(y_train))\n",
        "test_data = TrainData(torch.FloatTensor(x_test), \n",
        "                       torch.FloatTensor(y_test))"
      ],
      "metadata": {
        "id": "kPoZsIXYoO8d"
      },
      "execution_count": 9,
      "outputs": []
    },
    {
      "cell_type": "code",
      "source": [
        "train_loader = DataLoader(dataset=train_data, batch_size=32)\n",
        "test_loader = DataLoader(dataset=test_data, batch_size=32)"
      ],
      "metadata": {
        "id": "WkhszUyEoO_j"
      },
      "execution_count": 10,
      "outputs": []
    },
    {
      "cell_type": "code",
      "source": [
        "# 定義類神經網路模型\n",
        "class NeuralNetwork(nn.Module):\n",
        "    def __init__(self):\n",
        "        super(NeuralNetwork, self).__init__()\n",
        "        # 建立類神經網路各層\n",
        "        self.layer_1 = nn.Linear(27, 128) \n",
        "        self.layer_2 = nn.Linear(128, 64)\n",
        "        self.layer_out = nn.Linear(64, 1) \n",
        "        \n",
        "        self.relu = nn.ReLU()\n",
        "        self.dropout = nn.Dropout(p=0.2)\n",
        "        self.batchnorm1 = nn.BatchNorm1d(128)\n",
        "        self.batchnorm2 = nn.BatchNorm1d(64)\n",
        "    def forward(self, inputs):\n",
        "        # 定義資料如何通過類神經網路各層\n",
        "        x = self.relu(self.layer_1(inputs))\n",
        "        x = self.batchnorm1(x)\n",
        "        x = self.relu(self.layer_2(x))\n",
        "        x = self.batchnorm2(x)\n",
        "        x = self.dropout(x)\n",
        "        x = self.layer_out(x)\n",
        "        return x"
      ],
      "metadata": {
        "id": "Qy-_cDyFqUkB"
      },
      "execution_count": 39,
      "outputs": []
    },
    {
      "cell_type": "code",
      "source": [
        "# 若 CUDA 環境可用，則使用 GPU 計算，否則使用 CPU\n",
        "device = \"cuda\" if torch.cuda.is_available() else \"cpu\"\n",
        "print(f\"Using {device} device\")"
      ],
      "metadata": {
        "colab": {
          "base_uri": "https://localhost:8080/"
        },
        "id": "L9IFPW8CqUnR",
        "outputId": "11b4e72f-21bc-4b1e-f60b-3ac26425cd5e"
      },
      "execution_count": 40,
      "outputs": [
        {
          "output_type": "stream",
          "name": "stdout",
          "text": [
            "Using cpu device\n"
          ]
        }
      ]
    },
    {
      "cell_type": "code",
      "source": [
        "# 建立類神經網路模型，並放置於 GPU 或 CPU 上\n",
        "model = NeuralNetwork().to(device)\n",
        "print(model)"
      ],
      "metadata": {
        "colab": {
          "base_uri": "https://localhost:8080/"
        },
        "id": "wNHFf9wwqUrM",
        "outputId": "a4677557-b067-4339-fcea-5b88fc8ba2be"
      },
      "execution_count": 41,
      "outputs": [
        {
          "output_type": "stream",
          "name": "stdout",
          "text": [
            "NeuralNetwork(\n",
            "  (layer_1): Linear(in_features=27, out_features=128, bias=True)\n",
            "  (layer_2): Linear(in_features=128, out_features=64, bias=True)\n",
            "  (layer_out): Linear(in_features=64, out_features=1, bias=True)\n",
            "  (relu): ReLU()\n",
            "  (dropout): Dropout(p=0.2, inplace=False)\n",
            "  (batchnorm1): BatchNorm1d(128, eps=1e-05, momentum=0.1, affine=True, track_running_stats=True)\n",
            "  (batchnorm2): BatchNorm1d(64, eps=1e-05, momentum=0.1, affine=True, track_running_stats=True)\n",
            ")\n"
          ]
        }
      ]
    },
    {
      "cell_type": "code",
      "source": [
        "# 損失函數\n",
        "loss_fn = nn.BCEWithLogitsLoss()\n",
        "# 學習優化器\n",
        "optimizer = torch.optim.Adam(model.parameters(), lr=1e-5)"
      ],
      "metadata": {
        "id": "ioXYmHnTqUyN"
      },
      "execution_count": 42,
      "outputs": []
    },
    {
      "cell_type": "code",
      "source": [
        "def binary_acc(y_pred, y_test):\n",
        "    y_pred_tag = torch.round(torch.sigmoid(y_pred))\n",
        "\n",
        "    correct_results_sum = (y_pred_tag == y_test).sum().float()\n",
        "    acc = correct_results_sum\n",
        "    return acc"
      ],
      "metadata": {
        "id": "eVojUs7HqsuO"
      },
      "execution_count": 43,
      "outputs": []
    },
    {
      "cell_type": "code",
      "source": [
        "# 訓練模型\n",
        "def train(dataloader, model, loss_fn, optimizer):\n",
        "    # 資料總筆數\n",
        "    size = len(dataloader.dataset)\n",
        "    #num_batches = len(dataloader)\n",
        "    # 將模型設定為訓練模式\n",
        "    model.train()\n",
        "    # 批次讀取資料進行訓練\n",
        "    for batch, (X, y) in enumerate(dataloader):\n",
        "        # 將資料放置於 GPU 或 CPU\n",
        "        X, y = X.to(device), y.to(device)\n",
        "        pred = model(X)         # 計算預測值\n",
        "        loss = loss_fn(pred, y.unsqueeze(1)) # 計算損失值（loss）\n",
        "        optimizer.zero_grad()   # 重設參數梯度（gradient）\n",
        "        loss.backward()         # 反向傳播（backpropagation）\n",
        "        optimizer.step()        # 更新參數\n"
      ],
      "metadata": {
        "id": "olVogZbtqU1W"
      },
      "execution_count": 44,
      "outputs": []
    },
    {
      "cell_type": "code",
      "source": [
        "# 測試模型\n",
        "def test(dataloader, model, loss_fn):\n",
        "    # 資料總筆數\n",
        "    size = len(dataloader.dataset)\n",
        "\n",
        "    # 批次數量\n",
        "    num_batches = len(dataloader)\n",
        "\n",
        "    # 將模型設定為驗證模式\n",
        "    model.eval()\n",
        "\n",
        "    # 初始化數值\n",
        "    test_loss, correct = 0, 0\n",
        "\n",
        "    # 驗證模型準確度\n",
        "    with torch.no_grad():  # 不要計算參數梯度\n",
        "        for X, y in dataloader:\n",
        "            # 將資料放置於 GPU 或 CPU\n",
        "            X, y = X.to(device), y.to(device)\n",
        "\n",
        "            # 計算預測值\n",
        "            pred = model(X)\n",
        "\n",
        "            # 計算損失值的加總值\n",
        "            test_loss += loss_fn(pred, y.unsqueeze(1)).item()\n",
        "\n",
        "            # 計算預測正確數量的加總值\n",
        "            correct += binary_acc(pred, y.unsqueeze(1)).type(torch.float).sum().item()\n",
        "\n",
        "    # 計算平均損失值與正確率\n",
        "    test_loss /= num_batches\n",
        "    correct /= size\n",
        "    print(f\"Test Error: \\n Accuracy: {(100*correct):>0.1f}%, Avg loss: {test_loss:>8f} \\n\")\n",
        "    return test_loss , correct*100\n"
      ],
      "metadata": {
        "id": "UTcgoNeEqU39"
      },
      "execution_count": 45,
      "outputs": []
    },
    {
      "cell_type": "code",
      "source": [
        "# 設定 epochs 數\n",
        "epochs = 50\n",
        "st_time = time.time()\n",
        "total_trainloss = np.zeros((epochs)) \n",
        "total_testloss = np.zeros((epochs)) \n",
        "total_acc = np.zeros((epochs)) \n",
        "# 開始訓練模型\n",
        "for t in range(epochs):\n",
        "    print(f\"Epoch {t+1}\\n-------------------------------\")\n",
        "    train(train_loader, model, loss_fn, optimizer)\n",
        "    trainloss,acc1 = test(train_loader, model, loss_fn)\n",
        "    testloss,acc = test(test_loader, model, loss_fn)\n",
        "    total_trainloss[t] = trainloss\n",
        "    total_testloss[t] = testloss\n",
        "    total_acc[t] = acc\n",
        "cost_time = time.time() - st_time\n",
        "print('Total time use',cost_time)\n",
        "#acc_diff = total_acc[29] - 80.6\n",
        "#trainloss_diff = total_trainloss[29] - 0.5264\n",
        "#testloss_diff = total_testloss[29] - 0.5513\n",
        "#time_diff = cost_time - 486.8\n",
        "#print('acc diff',acc_diff)\n",
        "#print('train loss diff',trainloss_diff)\n",
        "#print('test loss diff',testloss_diff )\n",
        "#print('time diff',time_diff)\n",
        "#print('done')"
      ],
      "metadata": {
        "colab": {
          "base_uri": "https://localhost:8080/"
        },
        "id": "AnLtBs0tq1rt",
        "outputId": "60ff6646-4b47-4022-bce0-892bdd41466f"
      },
      "execution_count": 46,
      "outputs": [
        {
          "output_type": "stream",
          "name": "stdout",
          "text": [
            "Epoch 1\n",
            "-------------------------------\n",
            "Test Error: \n",
            " Accuracy: 60.3%, Avg loss: 0.669054 \n",
            "\n",
            "Test Error: \n",
            " Accuracy: 61.6%, Avg loss: 0.662018 \n",
            "\n",
            "Epoch 2\n",
            "-------------------------------\n",
            "Test Error: \n",
            " Accuracy: 63.7%, Avg loss: 0.649105 \n",
            "\n",
            "Test Error: \n",
            " Accuracy: 65.0%, Avg loss: 0.641129 \n",
            "\n",
            "Epoch 3\n",
            "-------------------------------\n",
            "Test Error: \n",
            " Accuracy: 65.9%, Avg loss: 0.634849 \n",
            "\n",
            "Test Error: \n",
            " Accuracy: 66.2%, Avg loss: 0.626917 \n",
            "\n",
            "Epoch 4\n",
            "-------------------------------\n",
            "Test Error: \n",
            " Accuracy: 67.2%, Avg loss: 0.623556 \n",
            "\n",
            "Test Error: \n",
            " Accuracy: 67.1%, Avg loss: 0.615786 \n",
            "\n",
            "Epoch 5\n",
            "-------------------------------\n",
            "Test Error: \n",
            " Accuracy: 67.9%, Avg loss: 0.614295 \n",
            "\n",
            "Test Error: \n",
            " Accuracy: 68.2%, Avg loss: 0.606969 \n",
            "\n",
            "Epoch 6\n",
            "-------------------------------\n",
            "Test Error: \n",
            " Accuracy: 68.7%, Avg loss: 0.606608 \n",
            "\n",
            "Test Error: \n",
            " Accuracy: 69.4%, Avg loss: 0.599391 \n",
            "\n",
            "Epoch 7\n",
            "-------------------------------\n",
            "Test Error: \n",
            " Accuracy: 69.1%, Avg loss: 0.600016 \n",
            "\n",
            "Test Error: \n",
            " Accuracy: 69.9%, Avg loss: 0.592768 \n",
            "\n",
            "Epoch 8\n",
            "-------------------------------\n",
            "Test Error: \n",
            " Accuracy: 69.8%, Avg loss: 0.594481 \n",
            "\n",
            "Test Error: \n",
            " Accuracy: 70.7%, Avg loss: 0.587563 \n",
            "\n",
            "Epoch 9\n",
            "-------------------------------\n",
            "Test Error: \n",
            " Accuracy: 70.2%, Avg loss: 0.589556 \n",
            "\n",
            "Test Error: \n",
            " Accuracy: 71.1%, Avg loss: 0.582785 \n",
            "\n",
            "Epoch 10\n",
            "-------------------------------\n",
            "Test Error: \n",
            " Accuracy: 70.5%, Avg loss: 0.585084 \n",
            "\n",
            "Test Error: \n",
            " Accuracy: 71.3%, Avg loss: 0.578778 \n",
            "\n",
            "Epoch 11\n",
            "-------------------------------\n",
            "Test Error: \n",
            " Accuracy: 70.7%, Avg loss: 0.580756 \n",
            "\n",
            "Test Error: \n",
            " Accuracy: 71.5%, Avg loss: 0.574705 \n",
            "\n",
            "Epoch 12\n",
            "-------------------------------\n",
            "Test Error: \n",
            " Accuracy: 71.0%, Avg loss: 0.577101 \n",
            "\n",
            "Test Error: \n",
            " Accuracy: 71.8%, Avg loss: 0.571456 \n",
            "\n",
            "Epoch 13\n",
            "-------------------------------\n",
            "Test Error: \n",
            " Accuracy: 71.5%, Avg loss: 0.573477 \n",
            "\n",
            "Test Error: \n",
            " Accuracy: 71.8%, Avg loss: 0.568348 \n",
            "\n",
            "Epoch 14\n",
            "-------------------------------\n",
            "Test Error: \n",
            " Accuracy: 71.7%, Avg loss: 0.570099 \n",
            "\n",
            "Test Error: \n",
            " Accuracy: 72.3%, Avg loss: 0.565262 \n",
            "\n",
            "Epoch 15\n",
            "-------------------------------\n",
            "Test Error: \n",
            " Accuracy: 72.0%, Avg loss: 0.567116 \n",
            "\n",
            "Test Error: \n",
            " Accuracy: 72.7%, Avg loss: 0.562407 \n",
            "\n",
            "Epoch 16\n",
            "-------------------------------\n",
            "Test Error: \n",
            " Accuracy: 72.3%, Avg loss: 0.564127 \n",
            "\n",
            "Test Error: \n",
            " Accuracy: 72.8%, Avg loss: 0.559606 \n",
            "\n",
            "Epoch 17\n",
            "-------------------------------\n",
            "Test Error: \n",
            " Accuracy: 72.5%, Avg loss: 0.561229 \n",
            "\n",
            "Test Error: \n",
            " Accuracy: 73.1%, Avg loss: 0.556944 \n",
            "\n",
            "Epoch 18\n",
            "-------------------------------\n",
            "Test Error: \n",
            " Accuracy: 72.8%, Avg loss: 0.558325 \n",
            "\n",
            "Test Error: \n",
            " Accuracy: 73.4%, Avg loss: 0.554330 \n",
            "\n",
            "Epoch 19\n",
            "-------------------------------\n",
            "Test Error: \n",
            " Accuracy: 73.0%, Avg loss: 0.555643 \n",
            "\n",
            "Test Error: \n",
            " Accuracy: 73.6%, Avg loss: 0.552022 \n",
            "\n",
            "Epoch 20\n",
            "-------------------------------\n",
            "Test Error: \n",
            " Accuracy: 73.2%, Avg loss: 0.553046 \n",
            "\n",
            "Test Error: \n",
            " Accuracy: 73.9%, Avg loss: 0.549738 \n",
            "\n",
            "Epoch 21\n",
            "-------------------------------\n",
            "Test Error: \n",
            " Accuracy: 73.3%, Avg loss: 0.550444 \n",
            "\n",
            "Test Error: \n",
            " Accuracy: 74.3%, Avg loss: 0.547703 \n",
            "\n",
            "Epoch 22\n",
            "-------------------------------\n",
            "Test Error: \n",
            " Accuracy: 73.6%, Avg loss: 0.548073 \n",
            "\n",
            "Test Error: \n",
            " Accuracy: 74.3%, Avg loss: 0.545492 \n",
            "\n",
            "Epoch 23\n",
            "-------------------------------\n",
            "Test Error: \n",
            " Accuracy: 73.8%, Avg loss: 0.545699 \n",
            "\n",
            "Test Error: \n",
            " Accuracy: 74.7%, Avg loss: 0.543269 \n",
            "\n",
            "Epoch 24\n",
            "-------------------------------\n",
            "Test Error: \n",
            " Accuracy: 73.9%, Avg loss: 0.543160 \n",
            "\n",
            "Test Error: \n",
            " Accuracy: 74.6%, Avg loss: 0.541052 \n",
            "\n",
            "Epoch 25\n",
            "-------------------------------\n",
            "Test Error: \n",
            " Accuracy: 74.0%, Avg loss: 0.540838 \n",
            "\n",
            "Test Error: \n",
            " Accuracy: 74.5%, Avg loss: 0.539089 \n",
            "\n",
            "Epoch 26\n",
            "-------------------------------\n",
            "Test Error: \n",
            " Accuracy: 74.2%, Avg loss: 0.538540 \n",
            "\n",
            "Test Error: \n",
            " Accuracy: 74.3%, Avg loss: 0.537104 \n",
            "\n",
            "Epoch 27\n",
            "-------------------------------\n",
            "Test Error: \n",
            " Accuracy: 74.4%, Avg loss: 0.536213 \n",
            "\n",
            "Test Error: \n",
            " Accuracy: 74.5%, Avg loss: 0.534961 \n",
            "\n",
            "Epoch 28\n",
            "-------------------------------\n",
            "Test Error: \n",
            " Accuracy: 74.4%, Avg loss: 0.533865 \n",
            "\n",
            "Test Error: \n",
            " Accuracy: 74.5%, Avg loss: 0.533060 \n",
            "\n",
            "Epoch 29\n",
            "-------------------------------\n",
            "Test Error: \n",
            " Accuracy: 74.4%, Avg loss: 0.531753 \n",
            "\n",
            "Test Error: \n",
            " Accuracy: 74.5%, Avg loss: 0.531172 \n",
            "\n",
            "Epoch 30\n",
            "-------------------------------\n",
            "Test Error: \n",
            " Accuracy: 74.6%, Avg loss: 0.529589 \n",
            "\n",
            "Test Error: \n",
            " Accuracy: 74.6%, Avg loss: 0.529194 \n",
            "\n",
            "Epoch 31\n",
            "-------------------------------\n",
            "Test Error: \n",
            " Accuracy: 74.6%, Avg loss: 0.527490 \n",
            "\n",
            "Test Error: \n",
            " Accuracy: 74.7%, Avg loss: 0.527371 \n",
            "\n",
            "Epoch 32\n",
            "-------------------------------\n",
            "Test Error: \n",
            " Accuracy: 74.7%, Avg loss: 0.525388 \n",
            "\n",
            "Test Error: \n",
            " Accuracy: 74.9%, Avg loss: 0.525570 \n",
            "\n",
            "Epoch 33\n",
            "-------------------------------\n",
            "Test Error: \n",
            " Accuracy: 74.8%, Avg loss: 0.523279 \n",
            "\n",
            "Test Error: \n",
            " Accuracy: 75.0%, Avg loss: 0.523836 \n",
            "\n",
            "Epoch 34\n",
            "-------------------------------\n",
            "Test Error: \n",
            " Accuracy: 74.9%, Avg loss: 0.521230 \n",
            "\n",
            "Test Error: \n",
            " Accuracy: 75.2%, Avg loss: 0.522140 \n",
            "\n",
            "Epoch 35\n",
            "-------------------------------\n",
            "Test Error: \n",
            " Accuracy: 75.0%, Avg loss: 0.519255 \n",
            "\n",
            "Test Error: \n",
            " Accuracy: 75.2%, Avg loss: 0.520270 \n",
            "\n",
            "Epoch 36\n",
            "-------------------------------\n",
            "Test Error: \n",
            " Accuracy: 75.1%, Avg loss: 0.517374 \n",
            "\n",
            "Test Error: \n",
            " Accuracy: 75.4%, Avg loss: 0.518584 \n",
            "\n",
            "Epoch 37\n",
            "-------------------------------\n",
            "Test Error: \n",
            " Accuracy: 75.3%, Avg loss: 0.515406 \n",
            "\n",
            "Test Error: \n",
            " Accuracy: 75.4%, Avg loss: 0.516932 \n",
            "\n",
            "Epoch 38\n",
            "-------------------------------\n",
            "Test Error: \n",
            " Accuracy: 75.4%, Avg loss: 0.513517 \n",
            "\n",
            "Test Error: \n",
            " Accuracy: 75.5%, Avg loss: 0.515367 \n",
            "\n",
            "Epoch 39\n",
            "-------------------------------\n",
            "Test Error: \n",
            " Accuracy: 75.7%, Avg loss: 0.511578 \n",
            "\n",
            "Test Error: \n",
            " Accuracy: 75.6%, Avg loss: 0.513885 \n",
            "\n",
            "Epoch 40\n",
            "-------------------------------\n",
            "Test Error: \n",
            " Accuracy: 75.7%, Avg loss: 0.509745 \n",
            "\n",
            "Test Error: \n",
            " Accuracy: 75.7%, Avg loss: 0.512134 \n",
            "\n",
            "Epoch 41\n",
            "-------------------------------\n",
            "Test Error: \n",
            " Accuracy: 75.8%, Avg loss: 0.507840 \n",
            "\n",
            "Test Error: \n",
            " Accuracy: 75.9%, Avg loss: 0.510740 \n",
            "\n",
            "Epoch 42\n",
            "-------------------------------\n",
            "Test Error: \n",
            " Accuracy: 75.9%, Avg loss: 0.506027 \n",
            "\n",
            "Test Error: \n",
            " Accuracy: 76.0%, Avg loss: 0.509211 \n",
            "\n",
            "Epoch 43\n",
            "-------------------------------\n",
            "Test Error: \n",
            " Accuracy: 75.9%, Avg loss: 0.504271 \n",
            "\n",
            "Test Error: \n",
            " Accuracy: 76.2%, Avg loss: 0.507758 \n",
            "\n",
            "Epoch 44\n",
            "-------------------------------\n",
            "Test Error: \n",
            " Accuracy: 76.0%, Avg loss: 0.502516 \n",
            "\n",
            "Test Error: \n",
            " Accuracy: 76.1%, Avg loss: 0.506084 \n",
            "\n",
            "Epoch 45\n",
            "-------------------------------\n",
            "Test Error: \n",
            " Accuracy: 76.1%, Avg loss: 0.500788 \n",
            "\n",
            "Test Error: \n",
            " Accuracy: 76.1%, Avg loss: 0.504836 \n",
            "\n",
            "Epoch 46\n",
            "-------------------------------\n",
            "Test Error: \n",
            " Accuracy: 76.1%, Avg loss: 0.499137 \n",
            "\n",
            "Test Error: \n",
            " Accuracy: 76.2%, Avg loss: 0.503460 \n",
            "\n",
            "Epoch 47\n",
            "-------------------------------\n",
            "Test Error: \n",
            " Accuracy: 76.3%, Avg loss: 0.497409 \n",
            "\n",
            "Test Error: \n",
            " Accuracy: 76.1%, Avg loss: 0.502069 \n",
            "\n",
            "Epoch 48\n",
            "-------------------------------\n",
            "Test Error: \n",
            " Accuracy: 76.4%, Avg loss: 0.495792 \n",
            "\n",
            "Test Error: \n",
            " Accuracy: 76.1%, Avg loss: 0.500603 \n",
            "\n",
            "Epoch 49\n",
            "-------------------------------\n",
            "Test Error: \n",
            " Accuracy: 76.6%, Avg loss: 0.494222 \n",
            "\n",
            "Test Error: \n",
            " Accuracy: 76.1%, Avg loss: 0.499307 \n",
            "\n",
            "Epoch 50\n",
            "-------------------------------\n",
            "Test Error: \n",
            " Accuracy: 76.6%, Avg loss: 0.492599 \n",
            "\n",
            "Test Error: \n",
            " Accuracy: 76.3%, Avg loss: 0.498246 \n",
            "\n",
            "Total time use 28.61591362953186\n"
          ]
        }
      ]
    },
    {
      "cell_type": "code",
      "source": [
        "f,ax1= plt.subplots(figsize=(15,8))\n",
        "\n",
        "ax1.plot(total_trainloss,linewidth=5,c='blue')\n",
        "ax1.plot(total_testloss,linewidth=5,c='orange')\n",
        "plt.legend([\"training loss\",\"test loss\",],fontsize=22,shadow=True,loc=4,bbox_to_anchor=(0.95,0.1))\n",
        "plt.yticks(fontsize=20)\n",
        "plt.xticks(fontsize=20)\n",
        "plt.ylabel('loss value',fontsize=24)\n",
        "ax1.set_xlabel('Epoch',color='k',fontsize=22)\n",
        "ax1.grid(axis='x')\n",
        "plt.axis([-2,52,0.4,0.75])\n",
        "\n",
        "\n",
        "ax2 = ax1.twinx()\n",
        "ax2.plot(total_acc,linewidth=5,c='green')\n",
        "plt.ylabel('Accuracy',fontsize=24,c='green')\n",
        "plt.yticks(fontsize=20)\n",
        "plt.xticks(fontsize=20)\n",
        "plt.legend([\"Accurracy\"],fontsize=22,shadow=True,loc=2,bbox_to_anchor=(0.7,0.8))\n",
        "plt.tight_layout()\n",
        "plt.savefig('drive/MyDrive/ml_data/hw03/loss_hw3.png',dpi=400)\n",
        "\n"
      ],
      "metadata": {
        "colab": {
          "base_uri": "https://localhost:8080/",
          "height": 511
        },
        "id": "-ulZATSSvsla",
        "outputId": "15185cd9-6399-43f4-8f64-09cfc0504185"
      },
      "execution_count": 50,
      "outputs": [
        {
          "output_type": "display_data",
          "data": {
            "text/plain": [
              "<Figure size 1080x576 with 2 Axes>"
            ],
            "image/png": "[encoded data removed]"
          },
          "metadata": {
            "needs_background": "light"
          }
        }
      ]
    },
    {
      "cell_type": "code",
      "source": [
        "\n",
        "\n"
      ],
      "metadata": {
        "id": "AXkSzj8rq1v7"
      },
      "execution_count": 51,
      "outputs": []
    },
    {
      "cell_type": "code",
      "source": [
        "model.eval()\n",
        "pred_result = np.zeros((2355))\n",
        "truth = np.zeros((2355))\n",
        "for i in range(0,2355):\n",
        "    x, y = test_data[i:i+1][0], test_data[i][1]\n",
        "    pred = model(x)\n",
        "    pred_result[i] = torch.round(torch.sigmoid(pred))\n",
        "    truth[i] = y"
      ],
      "metadata": {
        "id": "q3MTjOJAq12b"
      },
      "execution_count": 52,
      "outputs": []
    },
    {
      "cell_type": "code",
      "source": [
        "hist_pred = np.histogram2d(pred_result,truth,bins=2)"
      ],
      "metadata": {
        "id": "rUDknFnGrWEE"
      },
      "execution_count": 53,
      "outputs": []
    },
    {
      "cell_type": "code",
      "source": [
        "nparray_h = hist_pred[0]\n",
        "for i in range(0,2):\n",
        "    print(nparray_h[:,i])"
      ],
      "metadata": {
        "colab": {
          "base_uri": "https://localhost:8080/"
        },
        "id": "wzPmXMjTrZIc",
        "outputId": "fc5da6ca-80ee-439d-b8ca-880ac8508e54"
      },
      "execution_count": 54,
      "outputs": [
        {
          "output_type": "stream",
          "name": "stdout",
          "text": [
            "[408. 274.]\n",
            "[ 285. 1388.]\n"
          ]
        }
      ]
    },
    {
      "cell_type": "code",
      "source": [
        "classes = ['no inv','inv']"
      ],
      "metadata": {
        "id": "X8TvP7Pcramz"
      },
      "execution_count": 59,
      "outputs": []
    },
    {
      "cell_type": "code",
      "source": [
        "f,ax= plt.subplots(figsize=(11,8))\n",
        "#ax.hist2d(pred_result, truth,bins=10,cmap='YlGn')\n",
        "hitplot = ax.pcolormesh(nparray_h.T,cmap='YlGn',vmax=1000)\n",
        "for xx in range(0,2):\n",
        "  for yy in range(0,2):\n",
        "    if nparray_h[xx,yy] > 500:\n",
        "      ax.text(xx+0.5, yy+0.5, int(nparray_h[xx,yy]),color='w', size=24,fontweight='semibold',ha='center',va='center')\n",
        "    else:\n",
        "      ax.text(xx+0.5, yy+0.5, int(nparray_h[xx,yy]),color='k', size=24,fontweight='semibold',ha='center',va='center')\n",
        "ax.invert_yaxis()\n",
        "plt.ylabel('Truth',fontsize=18,fontweight='semibold',rotation=90)\n",
        "plt.xlabel('Prediction',fontsize=18,fontweight='semibold')\n",
        "plt.xticks(np.arange(0.5,2,1),classes,fontsize=18,rotation=310,horizontalalignment='right')\n",
        "ax.xaxis.tick_top()\n",
        "plt.yticks(np.arange(0.5,2,1),classes,fontsize=18)\n",
        "cb = plt.colorbar(hitplot,aspect=30,fraction=0.03, pad=0.04)\n",
        "cb.ax.tick_params(labelsize=18)\n",
        "cb.set_label('counts', size=18,rotation=270)\n",
        "plt.tight_layout()\n",
        "plt.savefig('drive/MyDrive/ml_data/hw03/heatmap_hw3.png',dpi=400)\n",
        "\n"
      ],
      "metadata": {
        "colab": {
          "base_uri": "https://localhost:8080/",
          "height": 585
        },
        "id": "seGNTZUNrc8F",
        "outputId": "b1801e62-9aa8-490a-9dec-a316e16855a7"
      },
      "execution_count": 60,
      "outputs": [
        {
          "output_type": "display_data",
          "data": {
            "text/plain": [
              "<Figure size 792x576 with 2 Axes>"
            ],
            "image/png": "[encoded data removed]"
          },
          "metadata": {
            "needs_background": "light"
          }
        }
      ]
    }
  ]
}