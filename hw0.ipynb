{
 "cells": [
  {
   "cell_type": "code",
   "execution_count": 1,
   "metadata": {},
   "outputs": [],
   "source": [
    "import numpy as np\n",
    "import matplotlib.pyplot as plt"
   ]
  },
  {
   "cell_type": "code",
   "execution_count": 4,
   "metadata": {},
   "outputs": [],
   "source": [
    "P0 = 1000\n",
    "R = 0.286\n",
    "Rd = 287\n",
    "Lv = 2500000\n",
    "Cp = 1005\n",
    "g= 9.8"
   ]
  },
  {
   "cell_type": "code",
   "execution_count": 8,
   "metadata": {},
   "outputs": [],
   "source": [
    "T = 288.5\n",
    "q = 9.5*10**(-3)\n",
    "Z = 900"
   ]
  },
  {
   "cell_type": "code",
   "execution_count": 9,
   "metadata": {},
   "outputs": [],
   "source": [
    "#effective T\n",
    "Te = T+q*(Lv/Cp)\n",
    "# theta\n",
    "theta=T*(P0/1000)**(R) \n",
    "thetaE = Te*(P0/1000)**(R)\n",
    "# pressure height\n",
    "P = P0*(((-g*R)/(Rd*theta))*(Z)+1)**(1/R)"
   ]
  },
  {
   "cell_type": "code",
   "execution_count": 10,
   "metadata": {},
   "outputs": [
    {
     "name": "stdout",
     "output_type": "stream",
     "text": [
      "897.4671744572225\n"
     ]
    }
   ],
   "source": [
    "print(P)"
   ]
  },
  {
   "cell_type": "code",
   "execution_count": 168,
   "metadata": {},
   "outputs": [
    {
     "name": "stdout",
     "output_type": "stream",
     "text": [
      "(181,)\n"
     ]
    }
   ],
   "source": [
    "H = np.linspace(0,1800,181)\n",
    "\n",
    "a = P.shape\n",
    "print(a)\n",
    "rthetaL = np.zeros(a[0])\n",
    "qt = np.zeros(a[0])\n",
    "qt1 = np.zeros(a[0])\n",
    "H0 =  np.zeros(a[0])\n",
    "rthetaL[:] = 288.5\n",
    "qt[:] = 9.5*10**-3\n",
    "qt1[:] = 9.5*10**-3\n",
    "for i in range(0,181):\n",
    "    if H[i]>900:\n",
    "        rthetaL[i] = 297 + ((H[i]-900)/900)*(306-297)\n",
    "        qt[i] = (4.8*10**-3) -((H[i]-900)/900)*(4.8-2.2)*10**-3\n",
    "        qt1[i] = (4.8*10**-3) -((H[i]-900)/900)*(4.8-2.2)*10**-3\n",
    "H0[:] = 0\n",
    "#ref_pressure = np.around(P,decimals=-1)"
   ]
  },
  {
   "cell_type": "code",
   "execution_count": 169,
   "metadata": {},
   "outputs": [],
   "source": [
    "P = 1000*(((-g*R)/(Rd*rthetaL))*(H)+1)**(1/R)"
   ]
  },
  {
   "cell_type": "code",
   "execution_count": 205,
   "metadata": {},
   "outputs": [
    {
     "name": "stdout",
     "output_type": "stream",
     "text": [
      "968.4062046832508\n",
      "270.0\n"
     ]
    }
   ],
   "source": [
    "print(P[27])\n",
    "print(H[27])"
   ]
  },
  {
   "cell_type": "code",
   "execution_count": 195,
   "metadata": {},
   "outputs": [
    {
     "data": {
      "image/png": "[encoded data removed]",
      "text/plain": [
       "<Figure size 216x360 with 1 Axes>"
      ]
     },
     "metadata": {
      "needs_background": "light"
     },
     "output_type": "display_data"
    }
   ],
   "source": [
    "f = plt.figure(figsize=(3,5))\n",
    "plt.plot(rthetaL,H[:],c='royalblue',linewidth='4')\n",
    "plt.xticks(fontsize=10)\n",
    "plt.yticks(fontsize=10)\n",
    "plt.ylabel('Height',color='k',fontsize=14)\n",
    "plt.xlabel('thetaL',color='k',fontsize=14)\n",
    "plt.title('thetaL',fontsize=18)\n",
    "plt.tight_layout()\n",
    "plt.savefig('hw0_thetaL.png',dpi=400)"
   ]
  },
  {
   "cell_type": "code",
   "execution_count": 196,
   "metadata": {
    "scrolled": false
   },
   "outputs": [
    {
     "data": {
      "image/png": "[encoded data removed]",
      "text/plain": [
       "<Figure size 216x360 with 1 Axes>"
      ]
     },
     "metadata": {
      "needs_background": "light"
     },
     "output_type": "display_data"
    }
   ],
   "source": [
    "f = plt.figure(figsize=(3,5))\n",
    "plt.plot(qt1,H[:],c='red',linewidth='4')\n",
    "plt.ylabel('Height',color='k',fontsize=14)\n",
    "plt.xlabel('qt',color='k',fontsize=14)\n",
    "plt.xticks(fontsize=10)\n",
    "plt.yticks(fontsize=10)\n",
    "plt.title('qt',fontsize=18)\n",
    "plt.tight_layout()\n",
    "plt.savefig('hw0_qt.png',dpi=400)"
   ]
  },
  {
   "cell_type": "code",
   "execution_count": 173,
   "metadata": {},
   "outputs": [
    {
     "data": {
      "text/plain": [
       "[<matplotlib.lines.Line2D at 0x24442bdd190>]"
      ]
     },
     "execution_count": 173,
     "metadata": {},
     "output_type": "execute_result"
    },
    {
     "data": {
      "image/png": "[encoded data removed]",
      "text/plain": [
       "<Figure size 216x360 with 1 Axes>"
      ]
     },
     "metadata": {
      "needs_background": "light"
     },
     "output_type": "display_data"
    }
   ],
   "source": [
    "f = plt.figure(figsize=(3,5))\n",
    "plt.plot(qt,H[:],c='red',linewidth='4')\n",
    "plt.plot(PE[0:27],H[0:27],c='green',linewidth='4')\n",
    "plt.plot(PE[91:],H[91:],c='green',linewidth='4')"
   ]
  },
  {
   "cell_type": "code",
   "execution_count": 206,
   "metadata": {},
   "outputs": [],
   "source": [
    "test = (1000/P)**(R)"
   ]
  },
  {
   "cell_type": "code",
   "execution_count": 207,
   "metadata": {},
   "outputs": [],
   "source": [
    "rT = (rthetaL/test) "
   ]
  },
  {
   "cell_type": "code",
   "execution_count": 208,
   "metadata": {},
   "outputs": [],
   "source": [
    "E0 = 6.11 \n",
    "#t = 15\n",
    "erT = rT-273.15\n",
    "E = E0*(10**((7.5*erT)/(237+erT)))\n",
    "PE = 0.622*E/P\n"
   ]
  },
  {
   "cell_type": "code",
   "execution_count": 209,
   "metadata": {},
   "outputs": [
    {
     "name": "stdout",
     "output_type": "stream",
     "text": [
      "[0.01086534 0.01081012 0.01075513 0.01070037 0.01064584 0.01059155\n",
      " 0.01053748 0.01048365 0.01043004 0.01037666 0.0103235  0.01027057\n",
      " 0.01021787 0.01016539 0.01011314 0.0100611  0.01000929 0.00995771\n",
      " 0.00990634 0.00985519 0.00980426 0.00975355 0.00970306 0.00965279\n",
      " 0.00960273 0.00955289 0.00950326 0.00945385 0.00940465 0.00935566\n",
      " 0.00930689 0.00925833 0.00920997 0.00916183 0.0091139  0.00906618\n",
      " 0.00901866 0.00897135 0.00892425 0.00887735 0.00883066 0.00878418\n",
      " 0.0087379  0.00869182 0.00864594 0.00860026 0.00855479 0.00850951\n",
      " 0.00846444 0.00841956 0.00837489 0.00833041 0.00828613 0.00824204\n",
      " 0.00819815 0.00815445 0.00811095 0.00806764 0.00802453 0.0079816\n",
      " 0.00793887 0.00789633 0.00785398 0.00781182 0.00776985 0.00772807\n",
      " 0.00768647 0.00764506 0.00760384 0.0075628  0.00752195 0.00748128\n",
      " 0.0074408  0.0074005  0.00736038 0.00732044 0.00728069 0.00724111\n",
      " 0.00720172 0.0071625  0.00712346 0.00708461 0.00704592 0.00700742\n",
      " 0.00696909 0.00693093 0.00689295 0.00685515 0.00681752 0.00678006\n",
      " 0.00674277 0.01186152 0.01187694 0.01189238 0.01190783 0.01192329\n",
      " 0.01193877 0.01195427 0.01196978 0.01198531 0.01200085 0.01201641\n",
      " 0.01203198 0.01204757 0.01206317 0.01207879 0.01209443 0.01211008\n",
      " 0.01212574 0.01214142 0.01215712 0.01217283 0.01218856 0.0122043\n",
      " 0.01222006 0.01223583 0.01225162 0.01226743 0.01228325 0.01229909\n",
      " 0.01231494 0.01233081 0.01234669 0.01236259 0.0123785  0.01239443\n",
      " 0.01241038 0.01242634 0.01244232 0.01245831 0.01247432 0.01249034\n",
      " 0.01250638 0.01252244 0.01253851 0.0125546  0.0125707  0.01258682\n",
      " 0.01260296 0.01261911 0.01263527 0.01265145 0.01266765 0.01268387\n",
      " 0.0127001  0.01271634 0.0127326  0.01274888 0.01276517 0.01278148\n",
      " 0.01279781 0.01281415 0.0128305  0.01284688 0.01286327 0.01287967\n",
      " 0.01289609 0.01291253 0.01292898 0.01294545 0.01296194 0.01297844\n",
      " 0.01299495 0.01301149 0.01302804 0.0130446  0.01306118 0.01307778\n",
      " 0.01309439 0.01311102 0.01312767 0.01314433 0.01316101 0.0131777\n",
      " 0.01319442 0.01321114 0.01322789 0.01324464 0.01326142 0.01327821\n",
      " 0.01329502]\n"
     ]
    }
   ],
   "source": [
    "print(PE)"
   ]
  },
  {
   "cell_type": "code",
   "execution_count": 177,
   "metadata": {},
   "outputs": [
    {
     "name": "stdout",
     "output_type": "stream",
     "text": [
      "285.8632195121951\n",
      "0.0095\n",
      "0.009453848270079668\n",
      "285.9608780487805\n",
      "0.0095\n",
      "0.009503260966700705\n"
     ]
    }
   ],
   "source": [
    "#print(P.shape)\n",
    "#print(P[0:20])\n",
    "#print(qt[0:20]-PE[0:18])\n",
    "diff = qt-PE\n",
    "aa=np.zeros((181))\n",
    "aa[diff[:]>0] = 1 \n",
    "#print(aa)\n",
    "#print(P[aa>0])\n",
    "#print(H[aa>0])\n",
    "print(rT[27])\n",
    "print(qt[27])\n",
    "print(PE[27])\n",
    "#start from H[27] H[90] end\n",
    "print(rT[26])\n",
    "print(qt[26])\n",
    "print(PE[26])"
   ]
  },
  {
   "cell_type": "code",
   "execution_count": 178,
   "metadata": {
    "scrolled": false
   },
   "outputs": [
    {
     "data": {
      "image/png": "[encoded data removed]",
      "text/plain": [
       "<Figure size 216x360 with 1 Axes>"
      ]
     },
     "metadata": {
      "needs_background": "light"
     },
     "output_type": "display_data"
    }
   ],
   "source": [
    "f = plt.figure(figsize=(3,5))\n",
    "plt.plot(rT,H[:],c='red',linewidth='4')\n",
    "plt.ylabel('T',color='k',fontsize=14)\n",
    "plt.xlabel('Height',color='k',fontsize=14)\n",
    "plt.xticks(fontsize=10)\n",
    "plt.yticks(fontsize=10)\n",
    "plt.tight_layout()"
   ]
  },
  {
   "cell_type": "code",
   "execution_count": 179,
   "metadata": {},
   "outputs": [
    {
     "name": "stdout",
     "output_type": "stream",
     "text": [
      "0.009453848270079668\n",
      "285.8632195121951\n"
     ]
    }
   ],
   "source": [
    "q1 = PE[27]\n",
    "T1 = rT[27]\n",
    "print(q1)\n",
    "print(T1)"
   ]
  },
  {
   "cell_type": "code",
   "execution_count": 180,
   "metadata": {},
   "outputs": [
    {
     "name": "stdout",
     "output_type": "stream",
     "text": [
      "0.049078339015479644\n"
     ]
    }
   ],
   "source": [
    "lapse = g*((1+((Lv*q1)/(Rd*T1)))/(Cp+((Lv*Lv*q1*0.622)/(Rd*T1*T1))))*10\n",
    "print(lapse)\n",
    "#K/km"
   ]
  },
  {
   "cell_type": "code",
   "execution_count": 181,
   "metadata": {},
   "outputs": [
    {
     "name": "stdout",
     "output_type": "stream",
     "text": [
      "(181,)\n",
      "(181,)\n"
     ]
    }
   ],
   "source": [
    "qv = qt\n",
    "qc = np.zeros((181))\n",
    "print(qv.shape)\n",
    "print(qc.shape)\n",
    "T = rT"
   ]
  },
  {
   "cell_type": "code",
   "execution_count": 182,
   "metadata": {
    "scrolled": false
   },
   "outputs": [
    {
     "name": "stdout",
     "output_type": "stream",
     "text": [
      "285.8632195121951\n",
      "285.8141411731796\n"
     ]
    }
   ],
   "source": [
    "\n",
    "E0 = 6.11 \n",
    "#t = 15\n",
    "qs = PE[27]\n",
    "Ts = rT[27]\n",
    "print(Ts)\n",
    "lapse = g*((1+((Lv*qs)/(Rd*Ts)))/(Cp+((Lv*Lv*qs*0.622)/(Rd*Ts*Ts))))*10\n",
    "Ts = Ts - lapse\n",
    "print(Ts)\n",
    "for i in range(0,63):\n",
    "    #print(H[28+i])\n",
    "    #print(Ts)\n",
    "    erT = Ts-273.15\n",
    "    E = E0*(10**((7.5*erT)/(237+erT)))\n",
    "    qs = 0.622*E/P[28+i]\n",
    "    qv[28+i] = qs\n",
    "    T[28+i] = Ts\n",
    "    lapse = g*((1+((Lv*qs)/(Rd*Ts)))/(Cp+((Lv*Lv*qs*0.622)/(Rd*Ts*Ts))))*10\n",
    "    Ts = Ts - lapse\n",
    "    #print(lapse,Ts)\n"
   ]
  },
  {
   "cell_type": "code",
   "execution_count": 200,
   "metadata": {},
   "outputs": [
    {
     "data": {
      "image/png": "[encoded data removed]",
      "text/plain": [
       "<Figure size 216x360 with 1 Axes>"
      ]
     },
     "metadata": {
      "needs_background": "light"
     },
     "output_type": "display_data"
    }
   ],
   "source": [
    "f = plt.figure(figsize=(3,5))\n",
    "#plt.plot(qc,H[:],c='red',linewidth='4')\n",
    "plt.plot(qv,H[:],c='red',linewidth='4')\n",
    "plt.ylabel('Height',color='k',fontsize=14)\n",
    "plt.xlabel('qv',color='k',fontsize=14)\n",
    "plt.xticks(fontsize=10)\n",
    "plt.yticks(fontsize=10)\n",
    "plt.title('qv',fontsize=18)\n",
    "plt.tight_layout()\n",
    "plt.savefig('hw0_qv.png',dpi=400)"
   ]
  },
  {
   "cell_type": "code",
   "execution_count": 184,
   "metadata": {},
   "outputs": [],
   "source": [
    "qc=qt1-qv"
   ]
  },
  {
   "cell_type": "code",
   "execution_count": 201,
   "metadata": {},
   "outputs": [
    {
     "data": {
      "image/png": "[encoded data removed]",
      "text/plain": [
       "<Figure size 216x360 with 1 Axes>"
      ]
     },
     "metadata": {
      "needs_background": "light"
     },
     "output_type": "display_data"
    }
   ],
   "source": [
    "f = plt.figure(figsize=(3,5))\n",
    "plt.plot(qc,H[:],c='orange',linewidth='4')\n",
    "#plt.plot(qv,H[:],c='red',linewidth='4')\n",
    "plt.ylabel('Height',color='k',fontsize=14)\n",
    "plt.xlabel('qc',color='k',fontsize=14)\n",
    "plt.xticks(fontsize=10)\n",
    "plt.yticks(fontsize=10)\n",
    "plt.title('qc',fontsize=18)\n",
    "plt.tight_layout()\n",
    "plt.savefig('hw0_qc.png',dpi=400)"
   ]
  },
  {
   "cell_type": "code",
   "execution_count": 210,
   "metadata": {},
   "outputs": [
    {
     "name": "stdout",
     "output_type": "stream",
     "text": [
      "0.001227820862651767\n"
     ]
    }
   ],
   "source": [
    "print(np.max(qc))"
   ]
  },
  {
   "cell_type": "code",
   "execution_count": 202,
   "metadata": {},
   "outputs": [
    {
     "data": {
      "image/png": "[encoded data removed]",
      "text/plain": [
       "<Figure size 216x360 with 1 Axes>"
      ]
     },
     "metadata": {
      "needs_background": "light"
     },
     "output_type": "display_data"
    }
   ],
   "source": [
    "f = plt.figure(figsize=(3,5))\n",
    "plt.plot(T,H[:],c='green',linewidth='4')\n",
    "#plt.plot(qv,H[:],c='red',linewidth='4')\n",
    "plt.ylabel('Height',color='k',fontsize=14)\n",
    "plt.xlabel('T',color='k',fontsize=14)\n",
    "plt.xticks(fontsize=10)\n",
    "plt.yticks(fontsize=10)\n",
    "plt.title('T',fontsize=18)\n",
    "plt.tight_layout()\n",
    "plt.savefig('hw0_T.png',dpi=400)"
   ]
  },
  {
   "cell_type": "code",
   "execution_count": 214,
   "metadata": {},
   "outputs": [
    {
     "name": "stdout",
     "output_type": "stream",
     "text": [
      "282.71018745395406\n"
     ]
    }
   ],
   "source": [
    "print(T[90])"
   ]
  },
  {
   "cell_type": "code",
   "execution_count": 225,
   "metadata": {},
   "outputs": [
    {
     "data": {
      "image/png": "[encoded data removed]",
      "text/plain": [
       "<Figure size 288x360 with 1 Axes>"
      ]
     },
     "metadata": {
      "needs_background": "light"
     },
     "output_type": "display_data"
    }
   ],
   "source": [
    "f = plt.figure(figsize=(4,5))\n",
    "plt.plot(qt1,H[:],c='blue',linewidth='4',linestyle='dashed')\n",
    "plt.plot(qv,H[:],c='red',linewidth='4')\n",
    "plt.plot(qc,H[:],c='orange',linewidth='4')\n",
    "plt.ylabel('Height',color='k',fontsize=14)\n",
    "plt.xlabel('q',color='k',fontsize=14)\n",
    "plt.xticks(fontsize=10)\n",
    "plt.yticks(fontsize=10)\n",
    "plt.title('qt qc qv',fontsize=18)\n",
    "#plt.grid()\n",
    "plt.tight_layout()\n",
    "plt.savefig('hw0_allq.png',dpi=400)"
   ]
  },
  {
   "cell_type": "code",
   "execution_count": null,
   "metadata": {},
   "outputs": [],
   "source": []
  }
 ],
 "metadata": {
  "kernelspec": {
   "display_name": "Python 3",
   "language": "python",
   "name": "python3"
  },
  "language_info": {
   "codemirror_mode": {
    "name": "ipython",
    "version": 3
   },
   "file_extension": ".py",
   "mimetype": "text/x-python",
   "name": "python",
   "nbconvert_exporter": "python",
   "pygments_lexer": "ipython3",
   "version": "3.8.3"
  }
 },
 "nbformat": 4,
 "nbformat_minor": 4
}
