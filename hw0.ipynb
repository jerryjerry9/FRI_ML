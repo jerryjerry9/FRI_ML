{
 "cells": [
  {
   "cell_type": "code",
   "execution_count": 67,
   "metadata": {},
   "outputs": [],
   "source": [
    "import numpy as np\n",
    "import matplotlib.pyplot as plt"
   ]
  },
  {
   "cell_type": "code",
   "execution_count": 233,
   "metadata": {},
   "outputs": [],
   "source": [
    "P0 = 1000\n",
    "R = 0.286\n",
    "Lv = 2500000\n",
    "Cp = 1005\n",
    "T=265\n",
    "\n",
    "q = 9.5*10**(-3)\n",
    "Te = T+q*(Lv/Cp)"
   ]
  },
  {
   "cell_type": "code",
   "execution_count": 234,
   "metadata": {},
   "outputs": [],
   "source": [
    "theta=T*(P0/1000)**(R) \n",
    "thetaE = Te*(P0/1000)**(R)"
   ]
  },
  {
   "cell_type": "code",
   "execution_count": 235,
   "metadata": {},
   "outputs": [
    {
     "name": "stdout",
     "output_type": "stream",
     "text": [
      "0.0095\n",
      "265.0 288.6318407960199\n"
     ]
    }
   ],
   "source": [
    "print(q)\n",
    "print(theta,thetaE)"
   ]
  },
  {
   "cell_type": "code",
   "execution_count": 37,
   "metadata": {},
   "outputs": [],
   "source": [
    "rthetaE = 288.5"
   ]
  },
  {
   "cell_type": "code",
   "execution_count": 38,
   "metadata": {},
   "outputs": [],
   "source": [
    "rT = rthetaE/((p0/850)**(R)) - q*(Lv/Cp)"
   ]
  },
  {
   "cell_type": "code",
   "execution_count": 39,
   "metadata": {},
   "outputs": [
    {
     "name": "stdout",
     "output_type": "stream",
     "text": [
      "251.76542885158153\n"
     ]
    }
   ],
   "source": [
    "print(rT)"
   ]
  },
  {
   "cell_type": "code",
   "execution_count": 59,
   "metadata": {},
   "outputs": [],
   "source": [
    "#from 1000hPa to 900hPa\n",
    "#theta = 288.5\n",
    "#qt = 9.5*10^-3"
   ]
  },
  {
   "cell_type": "code",
   "execution_count": null,
   "metadata": {},
   "outputs": [],
   "source": [
    "P = np.array(range(1000,819,-10))\n",
    "\n",
    "a = P.shape\n",
    "print(a)\n",
    "rthetaE = np.zeros(a[0])\n",
    "qt = np.zeros(a[0])\n",
    "P0 =  np.zeros(a[0])\n",
    "rthetaE[:] = 288.5\n",
    "qt[:] = 9.5*10**-3\n",
    "P0[:] = 1000"
   ]
  },
  {
   "cell_type": "code",
   "execution_count": 299,
   "metadata": {},
   "outputs": [
    {
     "name": "stdout",
     "output_type": "stream",
     "text": [
      "[1000.          998.18181818  996.36363636  994.54545455  992.72727273]\n",
      "[1000. 1000. 1000. 1000. 1000.]\n"
     ]
    }
   ],
   "source": [
    "print(P[0:5])\n",
    "print(P0[0:5])"
   ]
  },
  {
   "cell_type": "code",
   "execution_count": 259,
   "metadata": {},
   "outputs": [
    {
     "name": "stdout",
     "output_type": "stream",
     "text": [
      "(100,)\n"
     ]
    }
   ],
   "source": [
    "P = np.linspace(1000,820,100)\n",
    "\n",
    "a = P.shape\n",
    "print(a)\n",
    "rthetaL = np.zeros(a[0])\n",
    "qt = np.zeros(a[0])\n",
    "P0 =  np.zeros(a[0])\n",
    "rthetaL[:] = 288.5\n",
    "qt[:] = 9.5*10**-3\n",
    "for i in range(0,100):\n",
    "    if P[i]<910:\n",
    "        rthetaL[i] = 297 + ((910-P[i])/90)*(306-297)\n",
    "        qt[i] = (4.8*10**-3) -((910-P[i])/90)*(4.8-2.2)*10**-3\n",
    "P0[:] = 1000\n",
    "ref_pressure = np.around(P,decimals=-1)"
   ]
  },
  {
   "cell_type": "code",
   "execution_count": 249,
   "metadata": {},
   "outputs": [
    {
     "data": {
      "text/plain": [
       "([<matplotlib.axis.YTick at 0x25ae58f4a30>,\n",
       "  <matplotlib.axis.YTick at 0x25ae58f4640>,\n",
       "  <matplotlib.axis.YTick at 0x25ae58e1430>,\n",
       "  <matplotlib.axis.YTick at 0x25ae5914d30>,\n",
       "  <matplotlib.axis.YTick at 0x25ae591e280>,\n",
       "  <matplotlib.axis.YTick at 0x25ae591e790>],\n",
       " [Text(0, 0, '1000.0'),\n",
       "  Text(0, 0, '970.0'),\n",
       "  Text(0, 0, '930.0'),\n",
       "  Text(0, 0, '900.0'),\n",
       "  Text(0, 0, '870.0'),\n",
       "  Text(0, 0, '840.0')])"
      ]
     },
     "execution_count": 249,
     "metadata": {},
     "output_type": "execute_result"
    },
    {
     "data": {
      "image/png": "[encoded data removed]",
      "text/plain": [
       "<Figure size 432x288 with 1 Axes>"
      ]
     },
     "metadata": {
      "needs_background": "light"
     },
     "output_type": "display_data"
    }
   ],
   "source": [
    "plt.plot(rthetaL,np.arange(0,100))\n",
    "plt.yticks(np.arange(0,100,step=18), ref_pressure[0:100:18], fontsize=14)"
   ]
  },
  {
   "cell_type": "code",
   "execution_count": 252,
   "metadata": {
    "scrolled": false
   },
   "outputs": [
    {
     "data": {
      "text/plain": [
       "([<matplotlib.axis.YTick at 0x25ae6910430>,\n",
       "  <matplotlib.axis.YTick at 0x25ae6910850>,\n",
       "  <matplotlib.axis.YTick at 0x25ae69052b0>,\n",
       "  <matplotlib.axis.YTick at 0x25ae6935f40>,\n",
       "  <matplotlib.axis.YTick at 0x25ae6940490>,\n",
       "  <matplotlib.axis.YTick at 0x25ae69409a0>],\n",
       " [Text(0, 0, '1000.0'),\n",
       "  Text(0, 0, '970.0'),\n",
       "  Text(0, 0, '930.0'),\n",
       "  Text(0, 0, '900.0'),\n",
       "  Text(0, 0, '870.0'),\n",
       "  Text(0, 0, '840.0')])"
      ]
     },
     "execution_count": 252,
     "metadata": {},
     "output_type": "execute_result"
    },
    {
     "data": {
      "image/png": "[encoded data removed]",
      "text/plain": [
       "<Figure size 432x288 with 1 Axes>"
      ]
     },
     "metadata": {
      "needs_background": "light"
     },
     "output_type": "display_data"
    }
   ],
   "source": [
    "plt.plot(qt,np.arange(0,100))\n",
    "plt.plot(PE,np.arange(0,100))\n",
    "\n",
    "plt.yticks(np.arange(0,100,step=18), ref_pressure[0:100:18], fontsize=14)"
   ]
  },
  {
   "cell_type": "code",
   "execution_count": 250,
   "metadata": {},
   "outputs": [],
   "source": [
    "rT = (rthetaL/((P0/P)**(R))) "
   ]
  },
  {
   "cell_type": "code",
   "execution_count": 240,
   "metadata": {},
   "outputs": [],
   "source": [
    "rT = (rthetaE/((P0/P)**(R))) - qt*(Lv/Cp)"
   ]
  },
  {
   "cell_type": "code",
   "execution_count": 260,
   "metadata": {},
   "outputs": [],
   "source": [
    "E0 = 6.11 \n",
    "#t = 15\n",
    "erT = rT-273.15\n",
    "E = E0*(10**((7.5*erT)/(237+erT)))\n",
    "PE = 0.622*E/P\n",
    "#print(erT)\n",
    "#print(PE)"
   ]
  },
  {
   "cell_type": "code",
   "execution_count": 270,
   "metadata": {},
   "outputs": [
    {
     "name": "stdout",
     "output_type": "stream",
     "text": [
      "(100,)\n",
      "[1000.          998.18181818  996.36363636  994.54545455  992.72727273\n",
      "  990.90909091  989.09090909  987.27272727  985.45454545  983.63636364\n",
      "  981.81818182  980.          978.18181818  976.36363636  974.54545455\n",
      "  972.72727273  970.90909091  969.09090909]\n",
      "[-1.36533712e-03 -1.28054859e-03 -1.19619958e-03 -1.11228915e-03\n",
      " -1.02881635e-03 -9.45780259e-04 -8.63179918e-04 -7.81014386e-04\n",
      " -6.99282712e-04 -6.17983944e-04 -5.37117126e-04 -4.56681301e-04\n",
      " -3.76675507e-04 -2.97098781e-04 -2.17950156e-04 -1.39228663e-04\n",
      " -6.09333292e-05  1.69368196e-05]\n"
     ]
    }
   ],
   "source": [
    "print(P.shape)\n",
    "print(P[0:18])\n",
    "print(qt[0:18]-PE[0:18])\n",
    "diff = qt-PE"
   ]
  },
  {
   "cell_type": "code",
   "execution_count": 285,
   "metadata": {
    "scrolled": false
   },
   "outputs": [
    {
     "name": "stdout",
     "output_type": "stream",
     "text": [
      "[0. 0. 0. 0. 0. 0. 0. 0. 0. 0. 0. 0. 0. 0. 0. 0. 0. 1. 1. 1. 1. 1. 1. 1.\n",
      " 1. 1. 1. 1. 1. 1. 1. 1. 1. 1. 1. 1. 1. 1. 1. 1. 1. 1. 1. 1. 1. 1. 1. 1.\n",
      " 1. 1. 0. 0. 0. 0. 0. 0. 0. 0. 0. 0. 0. 0. 0. 0. 0. 0. 0. 0. 0. 0. 0. 0.\n",
      " 0. 0. 0. 0. 0. 0. 0. 0. 0. 0. 0. 0. 0. 0. 0. 0. 0. 0. 0. 0. 0. 0. 0. 0.\n",
      " 0. 0. 0. 0.]\n"
     ]
    }
   ],
   "source": [
    "aa=np.zeros((100))\n",
    "aa[diff[:]>0] = 1 \n",
    "print(aa)\n",
    "add_liq = np.zeros((100))\n",
    "add_liq[aa>0] = diff[aa>0]\n",
    "Te = T+q*(Lv/Cp)\n",
    "thetaE = Te*(P0/1000)**(R)\n",
    "#print(add_liq)"
   ]
  },
  {
   "cell_type": "code",
   "execution_count": 277,
   "metadata": {
    "scrolled": false
   },
   "outputs": [
    {
     "data": {
      "text/plain": [
       "([<matplotlib.axis.YTick at 0x25ae69b87f0>,\n",
       "  <matplotlib.axis.YTick at 0x25ae69b8d00>,\n",
       "  <matplotlib.axis.YTick at 0x25ae69ab490>,\n",
       "  <matplotlib.axis.YTick at 0x25ae69ddb80>,\n",
       "  <matplotlib.axis.YTick at 0x25ae69e50d0>,\n",
       "  <matplotlib.axis.YTick at 0x25ae69e55e0>],\n",
       " [Text(0, 0, '1000.0'),\n",
       "  Text(0, 0, '970.0'),\n",
       "  Text(0, 0, '930.0'),\n",
       "  Text(0, 0, '900.0'),\n",
       "  Text(0, 0, '870.0'),\n",
       "  Text(0, 0, '840.0')])"
      ]
     },
     "execution_count": 277,
     "metadata": {},
     "output_type": "execute_result"
    },
    {
     "data": {
      "image/png": "[encoded data removed]",
      "text/plain": [
       "<Figure size 432x288 with 1 Axes>"
      ]
     },
     "metadata": {
      "needs_background": "light"
     },
     "output_type": "display_data"
    }
   ],
   "source": [
    "qc = np.zeros((100))\n",
    "qc[aa>0] = diff[aa>0]\n",
    "plt.plot(qc,np.arange(0,100))\n",
    "plt.yticks(np.arange(0,100,step=18), ref_pressure[0:100:18], fontsize=14)"
   ]
  },
  {
   "cell_type": "code",
   "execution_count": 283,
   "metadata": {},
   "outputs": [
    {
     "data": {
      "text/plain": [
       "([<matplotlib.axis.YTick at 0x25ae6bad5b0>,\n",
       "  <matplotlib.axis.YTick at 0x25ae6baddc0>,\n",
       "  <matplotlib.axis.YTick at 0x25ae6ba1670>,\n",
       "  <matplotlib.axis.YTick at 0x25ae6bdc070>,\n",
       "  <matplotlib.axis.YTick at 0x25ae6bdc580>,\n",
       "  <matplotlib.axis.YTick at 0x25ae6bdca90>],\n",
       " [Text(0, 0, '1000.0'),\n",
       "  Text(0, 0, '970.0'),\n",
       "  Text(0, 0, '930.0'),\n",
       "  Text(0, 0, '900.0'),\n",
       "  Text(0, 0, '870.0'),\n",
       "  Text(0, 0, '840.0')])"
      ]
     },
     "execution_count": 283,
     "metadata": {},
     "output_type": "execute_result"
    },
    {
     "data": {
      "image/png": "[encoded data removed]",
      "text/plain": [
       "<Figure size 432x288 with 1 Axes>"
      ]
     },
     "metadata": {
      "needs_background": "light"
     },
     "output_type": "display_data"
    }
   ],
   "source": [
    "qv=np.zeros(100)\n",
    "qv[:] = qt[:] - qc[:]\n",
    "plt.plot(qv,np.arange(0,100))\n",
    "plt.yticks(np.arange(0,100,step=18), ref_pressure[0:100:18], fontsize=14)"
   ]
  },
  {
   "cell_type": "code",
   "execution_count": 297,
   "metadata": {},
   "outputs": [],
   "source": [
    "rT1 = (rthetaL/((P0/P)**(R))) \n",
    "rT2 = (rthetaL/((P0/P)**(R))) + qc*(Lv/Cp)"
   ]
  },
  {
   "cell_type": "code",
   "execution_count": 298,
   "metadata": {},
   "outputs": [
    {
     "data": {
      "text/plain": [
       "[<matplotlib.lines.Line2D at 0x25ae6dbb850>]"
      ]
     },
     "execution_count": 298,
     "metadata": {},
     "output_type": "execute_result"
    },
    {
     "data": {
      "image/png": "[encoded data removed]",
      "text/plain": [
       "<Figure size 432x288 with 1 Axes>"
      ]
     },
     "metadata": {
      "needs_background": "light"
     },
     "output_type": "display_data"
    }
   ],
   "source": [
    "#plt.plot(rT1,np.arange(0,100))\n",
    "plt.plot(rT2,np.arange(0,100))"
   ]
  },
  {
   "cell_type": "code",
   "execution_count": null,
   "metadata": {},
   "outputs": [],
   "source": []
  },
  {
   "cell_type": "code",
   "execution_count": null,
   "metadata": {},
   "outputs": [],
   "source": []
  }
 ],
 "metadata": {
  "kernelspec": {
   "display_name": "Python 3",
   "language": "python",
   "name": "python3"
  },
  "language_info": {
   "codemirror_mode": {
    "name": "ipython",
    "version": 3
   },
   "file_extension": ".py",
   "mimetype": "text/x-python",
   "name": "python",
   "nbconvert_exporter": "python",
   "pygments_lexer": "ipython3",
   "version": "3.8.3"
  }
 },
 "nbformat": 4,
 "nbformat_minor": 4
}
