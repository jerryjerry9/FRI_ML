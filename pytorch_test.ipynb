{
  "nbformat": 4,
  "nbformat_minor": 0,
  "metadata": {
    "colab": {
      "provenance": [],
      "collapsed_sections": [],
      "mount_file_id": "1WOWypFIBKnDvj5ecTiIfSLewCDlsG6YU",
      "authorship_tag": "ABX9TyN1/KEAfCZx1qd5pXAIBbEJ",
      "include_colab_link": true
    },
    "kernelspec": {
      "name": "python3",
      "display_name": "Python 3"
    },
    "language_info": {
      "name": "python"
    },
    "accelerator": "GPU",
    "widgets": {
      "application/vnd.jupyter.widget-state+json": {
        "9c17af46a77b42d7899985df39d3405f": {
          "model_module": "@jupyter-widgets/controls",
          "model_name": "HBoxModel",
          "model_module_version": "1.5.0",
          "state": {
            "_dom_classes": [],
            "_model_module": "@jupyter-widgets/controls",
            "_model_module_version": "1.5.0",
            "_model_name": "HBoxModel",
            "_view_count": null,
            "_view_module": "@jupyter-widgets/controls",
            "_view_module_version": "1.5.0",
            "_view_name": "HBoxView",
            "box_style": "",
            "children": [
              "IPY_MODEL_dd7ba7bca5e2434db01cf7d3c93158ae",
              "IPY_MODEL_400807ab54144a74b495387bb9029afb",
              "IPY_MODEL_d06623410238446fa71191bd2759a485"
            ],
            "layout": "IPY_MODEL_1f4995048cce4c55aa29c1b43424605d"
          }
        },
        "dd7ba7bca5e2434db01cf7d3c93158ae": {
          "model_module": "@jupyter-widgets/controls",
          "model_name": "HTMLModel",
          "model_module_version": "1.5.0",
          "state": {
            "_dom_classes": [],
            "_model_module": "@jupyter-widgets/controls",
            "_model_module_version": "1.5.0",
            "_model_name": "HTMLModel",
            "_view_count": null,
            "_view_module": "@jupyter-widgets/controls",
            "_view_module_version": "1.5.0",
            "_view_name": "HTMLView",
            "description": "",
            "description_tooltip": null,
            "layout": "IPY_MODEL_96513a7f86824eaf8edc62cfdee499b7",
            "placeholder": "​",
            "style": "IPY_MODEL_6921f228b0af4fa38a0c3e5e9845487a",
            "value": "100%"
          }
        },
        "400807ab54144a74b495387bb9029afb": {
          "model_module": "@jupyter-widgets/controls",
          "model_name": "FloatProgressModel",
          "model_module_version": "1.5.0",
          "state": {
            "_dom_classes": [],
            "_model_module": "@jupyter-widgets/controls",
            "_model_module_version": "1.5.0",
            "_model_name": "FloatProgressModel",
            "_view_count": null,
            "_view_module": "@jupyter-widgets/controls",
            "_view_module_version": "1.5.0",
            "_view_name": "ProgressView",
            "bar_style": "success",
            "description": "",
            "description_tooltip": null,
            "layout": "IPY_MODEL_9eace6c0ffb4463eaa563b05b7786b51",
            "max": 26421880,
            "min": 0,
            "orientation": "horizontal",
            "style": "IPY_MODEL_ee89d6c302214d1e83cfe41eff2d2f8b",
            "value": 26421880
          }
        },
        "d06623410238446fa71191bd2759a485": {
          "model_module": "@jupyter-widgets/controls",
          "model_name": "HTMLModel",
          "model_module_version": "1.5.0",
          "state": {
            "_dom_classes": [],
            "_model_module": "@jupyter-widgets/controls",
            "_model_module_version": "1.5.0",
            "_model_name": "HTMLModel",
            "_view_count": null,
            "_view_module": "@jupyter-widgets/controls",
            "_view_module_version": "1.5.0",
            "_view_name": "HTMLView",
            "description": "",
            "description_tooltip": null,
            "layout": "IPY_MODEL_7f23958f69534c3296c18b5781ca2225",
            "placeholder": "​",
            "style": "IPY_MODEL_4f2ff580760140f6a508656101441e0b",
            "value": " 26421880/26421880 [00:01&lt;00:00, 25909168.51it/s]"
          }
        },
        "1f4995048cce4c55aa29c1b43424605d": {
          "model_module": "@jupyter-widgets/base",
          "model_name": "LayoutModel",
          "model_module_version": "1.2.0",
          "state": {
            "_model_module": "@jupyter-widgets/base",
            "_model_module_version": "1.2.0",
            "_model_name": "LayoutModel",
            "_view_count": null,
            "_view_module": "@jupyter-widgets/base",
            "_view_module_version": "1.2.0",
            "_view_name": "LayoutView",
            "align_content": null,
            "align_items": null,
            "align_self": null,
            "border": null,
            "bottom": null,
            "display": null,
            "flex": null,
            "flex_flow": null,
            "grid_area": null,
            "grid_auto_columns": null,
            "grid_auto_flow": null,
            "grid_auto_rows": null,
            "grid_column": null,
            "grid_gap": null,
            "grid_row": null,
            "grid_template_areas": null,
            "grid_template_columns": null,
            "grid_template_rows": null,
            "height": null,
            "justify_content": null,
            "justify_items": null,
            "left": null,
            "margin": null,
            "max_height": null,
            "max_width": null,
            "min_height": null,
            "min_width": null,
            "object_fit": null,
            "object_position": null,
            "order": null,
            "overflow": null,
            "overflow_x": null,
            "overflow_y": null,
            "padding": null,
            "right": null,
            "top": null,
            "visibility": null,
            "width": null
          }
        },
        "96513a7f86824eaf8edc62cfdee499b7": {
          "model_module": "@jupyter-widgets/base",
          "model_name": "LayoutModel",
          "model_module_version": "1.2.0",
          "state": {
            "_model_module": "@jupyter-widgets/base",
            "_model_module_version": "1.2.0",
            "_model_name": "LayoutModel",
            "_view_count": null,
            "_view_module": "@jupyter-widgets/base",
            "_view_module_version": "1.2.0",
            "_view_name": "LayoutView",
            "align_content": null,
            "align_items": null,
            "align_self": null,
            "border": null,
            "bottom": null,
            "display": null,
            "flex": null,
            "flex_flow": null,
            "grid_area": null,
            "grid_auto_columns": null,
            "grid_auto_flow": null,
            "grid_auto_rows": null,
            "grid_column": null,
            "grid_gap": null,
            "grid_row": null,
            "grid_template_areas": null,
            "grid_template_columns": null,
            "grid_template_rows": null,
            "height": null,
            "justify_content": null,
            "justify_items": null,
            "left": null,
            "margin": null,
            "max_height": null,
            "max_width": null,
            "min_height": null,
            "min_width": null,
            "object_fit": null,
            "object_position": null,
            "order": null,
            "overflow": null,
            "overflow_x": null,
            "overflow_y": null,
            "padding": null,
            "right": null,
            "top": null,
            "visibility": null,
            "width": null
          }
        },
        "6921f228b0af4fa38a0c3e5e9845487a": {
          "model_module": "@jupyter-widgets/controls",
          "model_name": "DescriptionStyleModel",
          "model_module_version": "1.5.0",
          "state": {
            "_model_module": "@jupyter-widgets/controls",
            "_model_module_version": "1.5.0",
            "_model_name": "DescriptionStyleModel",
            "_view_count": null,
            "_view_module": "@jupyter-widgets/base",
            "_view_module_version": "1.2.0",
            "_view_name": "StyleView",
            "description_width": ""
          }
        },
        "9eace6c0ffb4463eaa563b05b7786b51": {
          "model_module": "@jupyter-widgets/base",
          "model_name": "LayoutModel",
          "model_module_version": "1.2.0",
          "state": {
            "_model_module": "@jupyter-widgets/base",
            "_model_module_version": "1.2.0",
            "_model_name": "LayoutModel",
            "_view_count": null,
            "_view_module": "@jupyter-widgets/base",
            "_view_module_version": "1.2.0",
            "_view_name": "LayoutView",
            "align_content": null,
            "align_items": null,
            "align_self": null,
            "border": null,
            "bottom": null,
            "display": null,
            "flex": null,
            "flex_flow": null,
            "grid_area": null,
            "grid_auto_columns": null,
            "grid_auto_flow": null,
            "grid_auto_rows": null,
            "grid_column": null,
            "grid_gap": null,
            "grid_row": null,
            "grid_template_areas": null,
            "grid_template_columns": null,
            "grid_template_rows": null,
            "height": null,
            "justify_content": null,
            "justify_items": null,
            "left": null,
            "margin": null,
            "max_height": null,
            "max_width": null,
            "min_height": null,
            "min_width": null,
            "object_fit": null,
            "object_position": null,
            "order": null,
            "overflow": null,
            "overflow_x": null,
            "overflow_y": null,
            "padding": null,
            "right": null,
            "top": null,
            "visibility": null,
            "width": null
          }
        },
        "ee89d6c302214d1e83cfe41eff2d2f8b": {
          "model_module": "@jupyter-widgets/controls",
          "model_name": "ProgressStyleModel",
          "model_module_version": "1.5.0",
          "state": {
            "_model_module": "@jupyter-widgets/controls",
            "_model_module_version": "1.5.0",
            "_model_name": "ProgressStyleModel",
            "_view_count": null,
            "_view_module": "@jupyter-widgets/base",
            "_view_module_version": "1.2.0",
            "_view_name": "StyleView",
            "bar_color": null,
            "description_width": ""
          }
        },
        "7f23958f69534c3296c18b5781ca2225": {
          "model_module": "@jupyter-widgets/base",
          "model_name": "LayoutModel",
          "model_module_version": "1.2.0",
          "state": {
            "_model_module": "@jupyter-widgets/base",
            "_model_module_version": "1.2.0",
            "_model_name": "LayoutModel",
            "_view_count": null,
            "_view_module": "@jupyter-widgets/base",
            "_view_module_version": "1.2.0",
            "_view_name": "LayoutView",
            "align_content": null,
            "align_items": null,
            "align_self": null,
            "border": null,
            "bottom": null,
            "display": null,
            "flex": null,
            "flex_flow": null,
            "grid_area": null,
            "grid_auto_columns": null,
            "grid_auto_flow": null,
            "grid_auto_rows": null,
            "grid_column": null,
            "grid_gap": null,
            "grid_row": null,
            "grid_template_areas": null,
            "grid_template_columns": null,
            "grid_template_rows": null,
            "height": null,
            "justify_content": null,
            "justify_items": null,
            "left": null,
            "margin": null,
            "max_height": null,
            "max_width": null,
            "min_height": null,
            "min_width": null,
            "object_fit": null,
            "object_position": null,
            "order": null,
            "overflow": null,
            "overflow_x": null,
            "overflow_y": null,
            "padding": null,
            "right": null,
            "top": null,
            "visibility": null,
            "width": null
          }
        },
        "4f2ff580760140f6a508656101441e0b": {
          "model_module": "@jupyter-widgets/controls",
          "model_name": "DescriptionStyleModel",
          "model_module_version": "1.5.0",
          "state": {
            "_model_module": "@jupyter-widgets/controls",
            "_model_module_version": "1.5.0",
            "_model_name": "DescriptionStyleModel",
            "_view_count": null,
            "_view_module": "@jupyter-widgets/base",
            "_view_module_version": "1.2.0",
            "_view_name": "StyleView",
            "description_width": ""
          }
        },
        "48eee8ed3070451a93e99164530c3967": {
          "model_module": "@jupyter-widgets/controls",
          "model_name": "HBoxModel",
          "model_module_version": "1.5.0",
          "state": {
            "_dom_classes": [],
            "_model_module": "@jupyter-widgets/controls",
            "_model_module_version": "1.5.0",
            "_model_name": "HBoxModel",
            "_view_count": null,
            "_view_module": "@jupyter-widgets/controls",
            "_view_module_version": "1.5.0",
            "_view_name": "HBoxView",
            "box_style": "",
            "children": [
              "IPY_MODEL_3d98a94d1c704a57800437a1e43c5dcf",
              "IPY_MODEL_f94dda53bd1f484289be932e32cfd978",
              "IPY_MODEL_71fb5a80dd7d4d5483822926cdb26e5d"
            ],
            "layout": "IPY_MODEL_2350ff7a7be840a1a167de847dbce0a3"
          }
        },
        "3d98a94d1c704a57800437a1e43c5dcf": {
          "model_module": "@jupyter-widgets/controls",
          "model_name": "HTMLModel",
          "model_module_version": "1.5.0",
          "state": {
            "_dom_classes": [],
            "_model_module": "@jupyter-widgets/controls",
            "_model_module_version": "1.5.0",
            "_model_name": "HTMLModel",
            "_view_count": null,
            "_view_module": "@jupyter-widgets/controls",
            "_view_module_version": "1.5.0",
            "_view_name": "HTMLView",
            "description": "",
            "description_tooltip": null,
            "layout": "IPY_MODEL_d3deba0fe2cf46dfaeaa3b95ca542bb2",
            "placeholder": "​",
            "style": "IPY_MODEL_9a5bcf26492042a78e1cfa73fd910c28",
            "value": "100%"
          }
        },
        "f94dda53bd1f484289be932e32cfd978": {
          "model_module": "@jupyter-widgets/controls",
          "model_name": "FloatProgressModel",
          "model_module_version": "1.5.0",
          "state": {
            "_dom_classes": [],
            "_model_module": "@jupyter-widgets/controls",
            "_model_module_version": "1.5.0",
            "_model_name": "FloatProgressModel",
            "_view_count": null,
            "_view_module": "@jupyter-widgets/controls",
            "_view_module_version": "1.5.0",
            "_view_name": "ProgressView",
            "bar_style": "success",
            "description": "",
            "description_tooltip": null,
            "layout": "IPY_MODEL_fa787e2d439048628b02323d92ccffdd",
            "max": 29515,
            "min": 0,
            "orientation": "horizontal",
            "style": "IPY_MODEL_a34f4c9249b24951b2c9beb3a31f849e",
            "value": 29515
          }
        },
        "71fb5a80dd7d4d5483822926cdb26e5d": {
          "model_module": "@jupyter-widgets/controls",
          "model_name": "HTMLModel",
          "model_module_version": "1.5.0",
          "state": {
            "_dom_classes": [],
            "_model_module": "@jupyter-widgets/controls",
            "_model_module_version": "1.5.0",
            "_model_name": "HTMLModel",
            "_view_count": null,
            "_view_module": "@jupyter-widgets/controls",
            "_view_module_version": "1.5.0",
            "_view_name": "HTMLView",
            "description": "",
            "description_tooltip": null,
            "layout": "IPY_MODEL_642d8b2e397b44a1a639fc936ddd1326",
            "placeholder": "​",
            "style": "IPY_MODEL_06474005415e4bde92490aae40e7f0e8",
            "value": " 29515/29515 [00:00&lt;00:00, 271345.52it/s]"
          }
        },
        "2350ff7a7be840a1a167de847dbce0a3": {
          "model_module": "@jupyter-widgets/base",
          "model_name": "LayoutModel",
          "model_module_version": "1.2.0",
          "state": {
            "_model_module": "@jupyter-widgets/base",
            "_model_module_version": "1.2.0",
            "_model_name": "LayoutModel",
            "_view_count": null,
            "_view_module": "@jupyter-widgets/base",
            "_view_module_version": "1.2.0",
            "_view_name": "LayoutView",
            "align_content": null,
            "align_items": null,
            "align_self": null,
            "border": null,
            "bottom": null,
            "display": null,
            "flex": null,
            "flex_flow": null,
            "grid_area": null,
            "grid_auto_columns": null,
            "grid_auto_flow": null,
            "grid_auto_rows": null,
            "grid_column": null,
            "grid_gap": null,
            "grid_row": null,
            "grid_template_areas": null,
            "grid_template_columns": null,
            "grid_template_rows": null,
            "height": null,
            "justify_content": null,
            "justify_items": null,
            "left": null,
            "margin": null,
            "max_height": null,
            "max_width": null,
            "min_height": null,
            "min_width": null,
            "object_fit": null,
            "object_position": null,
            "order": null,
            "overflow": null,
            "overflow_x": null,
            "overflow_y": null,
            "padding": null,
            "right": null,
            "top": null,
            "visibility": null,
            "width": null
          }
        },
        "d3deba0fe2cf46dfaeaa3b95ca542bb2": {
          "model_module": "@jupyter-widgets/base",
          "model_name": "LayoutModel",
          "model_module_version": "1.2.0",
          "state": {
            "_model_module": "@jupyter-widgets/base",
            "_model_module_version": "1.2.0",
            "_model_name": "LayoutModel",
            "_view_count": null,
            "_view_module": "@jupyter-widgets/base",
            "_view_module_version": "1.2.0",
            "_view_name": "LayoutView",
            "align_content": null,
            "align_items": null,
            "align_self": null,
            "border": null,
            "bottom": null,
            "display": null,
            "flex": null,
            "flex_flow": null,
            "grid_area": null,
            "grid_auto_columns": null,
            "grid_auto_flow": null,
            "grid_auto_rows": null,
            "grid_column": null,
            "grid_gap": null,
            "grid_row": null,
            "grid_template_areas": null,
            "grid_template_columns": null,
            "grid_template_rows": null,
            "height": null,
            "justify_content": null,
            "justify_items": null,
            "left": null,
            "margin": null,
            "max_height": null,
            "max_width": null,
            "min_height": null,
            "min_width": null,
            "object_fit": null,
            "object_position": null,
            "order": null,
            "overflow": null,
            "overflow_x": null,
            "overflow_y": null,
            "padding": null,
            "right": null,
            "top": null,
            "visibility": null,
            "width": null
          }
        },
        "9a5bcf26492042a78e1cfa73fd910c28": {
          "model_module": "@jupyter-widgets/controls",
          "model_name": "DescriptionStyleModel",
          "model_module_version": "1.5.0",
          "state": {
            "_model_module": "@jupyter-widgets/controls",
            "_model_module_version": "1.5.0",
            "_model_name": "DescriptionStyleModel",
            "_view_count": null,
            "_view_module": "@jupyter-widgets/base",
            "_view_module_version": "1.2.0",
            "_view_name": "StyleView",
            "description_width": ""
          }
        },
        "fa787e2d439048628b02323d92ccffdd": {
          "model_module": "@jupyter-widgets/base",
          "model_name": "LayoutModel",
          "model_module_version": "1.2.0",
          "state": {
            "_model_module": "@jupyter-widgets/base",
            "_model_module_version": "1.2.0",
            "_model_name": "LayoutModel",
            "_view_count": null,
            "_view_module": "@jupyter-widgets/base",
            "_view_module_version": "1.2.0",
            "_view_name": "LayoutView",
            "align_content": null,
            "align_items": null,
            "align_self": null,
            "border": null,
            "bottom": null,
            "display": null,
            "flex": null,
            "flex_flow": null,
            "grid_area": null,
            "grid_auto_columns": null,
            "grid_auto_flow": null,
            "grid_auto_rows": null,
            "grid_column": null,
            "grid_gap": null,
            "grid_row": null,
            "grid_template_areas": null,
            "grid_template_columns": null,
            "grid_template_rows": null,
            "height": null,
            "justify_content": null,
            "justify_items": null,
            "left": null,
            "margin": null,
            "max_height": null,
            "max_width": null,
            "min_height": null,
            "min_width": null,
            "object_fit": null,
            "object_position": null,
            "order": null,
            "overflow": null,
            "overflow_x": null,
            "overflow_y": null,
            "padding": null,
            "right": null,
            "top": null,
            "visibility": null,
            "width": null
          }
        },
        "a34f4c9249b24951b2c9beb3a31f849e": {
          "model_module": "@jupyter-widgets/controls",
          "model_name": "ProgressStyleModel",
          "model_module_version": "1.5.0",
          "state": {
            "_model_module": "@jupyter-widgets/controls",
            "_model_module_version": "1.5.0",
            "_model_name": "ProgressStyleModel",
            "_view_count": null,
            "_view_module": "@jupyter-widgets/base",
            "_view_module_version": "1.2.0",
            "_view_name": "StyleView",
            "bar_color": null,
            "description_width": ""
          }
        },
        "642d8b2e397b44a1a639fc936ddd1326": {
          "model_module": "@jupyter-widgets/base",
          "model_name": "LayoutModel",
          "model_module_version": "1.2.0",
          "state": {
            "_model_module": "@jupyter-widgets/base",
            "_model_module_version": "1.2.0",
            "_model_name": "LayoutModel",
            "_view_count": null,
            "_view_module": "@jupyter-widgets/base",
            "_view_module_version": "1.2.0",
            "_view_name": "LayoutView",
            "align_content": null,
            "align_items": null,
            "align_self": null,
            "border": null,
            "bottom": null,
            "display": null,
            "flex": null,
            "flex_flow": null,
            "grid_area": null,
            "grid_auto_columns": null,
            "grid_auto_flow": null,
            "grid_auto_rows": null,
            "grid_column": null,
            "grid_gap": null,
            "grid_row": null,
            "grid_template_areas": null,
            "grid_template_columns": null,
            "grid_template_rows": null,
            "height": null,
            "justify_content": null,
            "justify_items": null,
            "left": null,
            "margin": null,
            "max_height": null,
            "max_width": null,
            "min_height": null,
            "min_width": null,
            "object_fit": null,
            "object_position": null,
            "order": null,
            "overflow": null,
            "overflow_x": null,
            "overflow_y": null,
            "padding": null,
            "right": null,
            "top": null,
            "visibility": null,
            "width": null
          }
        },
        "06474005415e4bde92490aae40e7f0e8": {
          "model_module": "@jupyter-widgets/controls",
          "model_name": "DescriptionStyleModel",
          "model_module_version": "1.5.0",
          "state": {
            "_model_module": "@jupyter-widgets/controls",
            "_model_module_version": "1.5.0",
            "_model_name": "DescriptionStyleModel",
            "_view_count": null,
            "_view_module": "@jupyter-widgets/base",
            "_view_module_version": "1.2.0",
            "_view_name": "StyleView",
            "description_width": ""
          }
        },
        "f1d9d29fed124f01b3489b41b215ac5b": {
          "model_module": "@jupyter-widgets/controls",
          "model_name": "HBoxModel",
          "model_module_version": "1.5.0",
          "state": {
            "_dom_classes": [],
            "_model_module": "@jupyter-widgets/controls",
            "_model_module_version": "1.5.0",
            "_model_name": "HBoxModel",
            "_view_count": null,
            "_view_module": "@jupyter-widgets/controls",
            "_view_module_version": "1.5.0",
            "_view_name": "HBoxView",
            "box_style": "",
            "children": [
              "IPY_MODEL_3d8ab421ce7843ac886735332f3f6329",
              "IPY_MODEL_70aada18dd144594812f5718d0ca9b57",
              "IPY_MODEL_23d6c850f9ac479ebe9bfbf32c4d9322"
            ],
            "layout": "IPY_MODEL_7ec20875d02e402cb65c4f5b740b0c95"
          }
        },
        "3d8ab421ce7843ac886735332f3f6329": {
          "model_module": "@jupyter-widgets/controls",
          "model_name": "HTMLModel",
          "model_module_version": "1.5.0",
          "state": {
            "_dom_classes": [],
            "_model_module": "@jupyter-widgets/controls",
            "_model_module_version": "1.5.0",
            "_model_name": "HTMLModel",
            "_view_count": null,
            "_view_module": "@jupyter-widgets/controls",
            "_view_module_version": "1.5.0",
            "_view_name": "HTMLView",
            "description": "",
            "description_tooltip": null,
            "layout": "IPY_MODEL_4a6ebaa644694529bc6defaebf67362f",
            "placeholder": "​",
            "style": "IPY_MODEL_2135f70566814e2a9cba294a74aa840b",
            "value": "100%"
          }
        },
        "70aada18dd144594812f5718d0ca9b57": {
          "model_module": "@jupyter-widgets/controls",
          "model_name": "FloatProgressModel",
          "model_module_version": "1.5.0",
          "state": {
            "_dom_classes": [],
            "_model_module": "@jupyter-widgets/controls",
            "_model_module_version": "1.5.0",
            "_model_name": "FloatProgressModel",
            "_view_count": null,
            "_view_module": "@jupyter-widgets/controls",
            "_view_module_version": "1.5.0",
            "_view_name": "ProgressView",
            "bar_style": "success",
            "description": "",
            "description_tooltip": null,
            "layout": "IPY_MODEL_4d600dd48ab7405f8a2383fb701212fd",
            "max": 4422102,
            "min": 0,
            "orientation": "horizontal",
            "style": "IPY_MODEL_2e1d1dd2e79047b3a96a2a8577f8f36d",
            "value": 4422102
          }
        },
        "23d6c850f9ac479ebe9bfbf32c4d9322": {
          "model_module": "@jupyter-widgets/controls",
          "model_name": "HTMLModel",
          "model_module_version": "1.5.0",
          "state": {
            "_dom_classes": [],
            "_model_module": "@jupyter-widgets/controls",
            "_model_module_version": "1.5.0",
            "_model_name": "HTMLModel",
            "_view_count": null,
            "_view_module": "@jupyter-widgets/controls",
            "_view_module_version": "1.5.0",
            "_view_name": "HTMLView",
            "description": "",
            "description_tooltip": null,
            "layout": "IPY_MODEL_9b012df40fbd4a61b3c8c3bbeedc7618",
            "placeholder": "​",
            "style": "IPY_MODEL_25e971d514504b11b542601b08f02fed",
            "value": " 4422102/4422102 [00:00&lt;00:00, 8659727.27it/s]"
          }
        },
        "7ec20875d02e402cb65c4f5b740b0c95": {
          "model_module": "@jupyter-widgets/base",
          "model_name": "LayoutModel",
          "model_module_version": "1.2.0",
          "state": {
            "_model_module": "@jupyter-widgets/base",
            "_model_module_version": "1.2.0",
            "_model_name": "LayoutModel",
            "_view_count": null,
            "_view_module": "@jupyter-widgets/base",
            "_view_module_version": "1.2.0",
            "_view_name": "LayoutView",
            "align_content": null,
            "align_items": null,
            "align_self": null,
            "border": null,
            "bottom": null,
            "display": null,
            "flex": null,
            "flex_flow": null,
            "grid_area": null,
            "grid_auto_columns": null,
            "grid_auto_flow": null,
            "grid_auto_rows": null,
            "grid_column": null,
            "grid_gap": null,
            "grid_row": null,
            "grid_template_areas": null,
            "grid_template_columns": null,
            "grid_template_rows": null,
            "height": null,
            "justify_content": null,
            "justify_items": null,
            "left": null,
            "margin": null,
            "max_height": null,
            "max_width": null,
            "min_height": null,
            "min_width": null,
            "object_fit": null,
            "object_position": null,
            "order": null,
            "overflow": null,
            "overflow_x": null,
            "overflow_y": null,
            "padding": null,
            "right": null,
            "top": null,
            "visibility": null,
            "width": null
          }
        },
        "4a6ebaa644694529bc6defaebf67362f": {
          "model_module": "@jupyter-widgets/base",
          "model_name": "LayoutModel",
          "model_module_version": "1.2.0",
          "state": {
            "_model_module": "@jupyter-widgets/base",
            "_model_module_version": "1.2.0",
            "_model_name": "LayoutModel",
            "_view_count": null,
            "_view_module": "@jupyter-widgets/base",
            "_view_module_version": "1.2.0",
            "_view_name": "LayoutView",
            "align_content": null,
            "align_items": null,
            "align_self": null,
            "border": null,
            "bottom": null,
            "display": null,
            "flex": null,
            "flex_flow": null,
            "grid_area": null,
            "grid_auto_columns": null,
            "grid_auto_flow": null,
            "grid_auto_rows": null,
            "grid_column": null,
            "grid_gap": null,
            "grid_row": null,
            "grid_template_areas": null,
            "grid_template_columns": null,
            "grid_template_rows": null,
            "height": null,
            "justify_content": null,
            "justify_items": null,
            "left": null,
            "margin": null,
            "max_height": null,
            "max_width": null,
            "min_height": null,
            "min_width": null,
            "object_fit": null,
            "object_position": null,
            "order": null,
            "overflow": null,
            "overflow_x": null,
            "overflow_y": null,
            "padding": null,
            "right": null,
            "top": null,
            "visibility": null,
            "width": null
          }
        },
        "2135f70566814e2a9cba294a74aa840b": {
          "model_module": "@jupyter-widgets/controls",
          "model_name": "DescriptionStyleModel",
          "model_module_version": "1.5.0",
          "state": {
            "_model_module": "@jupyter-widgets/controls",
            "_model_module_version": "1.5.0",
            "_model_name": "DescriptionStyleModel",
            "_view_count": null,
            "_view_module": "@jupyter-widgets/base",
            "_view_module_version": "1.2.0",
            "_view_name": "StyleView",
            "description_width": ""
          }
        },
        "4d600dd48ab7405f8a2383fb701212fd": {
          "model_module": "@jupyter-widgets/base",
          "model_name": "LayoutModel",
          "model_module_version": "1.2.0",
          "state": {
            "_model_module": "@jupyter-widgets/base",
            "_model_module_version": "1.2.0",
            "_model_name": "LayoutModel",
            "_view_count": null,
            "_view_module": "@jupyter-widgets/base",
            "_view_module_version": "1.2.0",
            "_view_name": "LayoutView",
            "align_content": null,
            "align_items": null,
            "align_self": null,
            "border": null,
            "bottom": null,
            "display": null,
            "flex": null,
            "flex_flow": null,
            "grid_area": null,
            "grid_auto_columns": null,
            "grid_auto_flow": null,
            "grid_auto_rows": null,
            "grid_column": null,
            "grid_gap": null,
            "grid_row": null,
            "grid_template_areas": null,
            "grid_template_columns": null,
            "grid_template_rows": null,
            "height": null,
            "justify_content": null,
            "justify_items": null,
            "left": null,
            "margin": null,
            "max_height": null,
            "max_width": null,
            "min_height": null,
            "min_width": null,
            "object_fit": null,
            "object_position": null,
            "order": null,
            "overflow": null,
            "overflow_x": null,
            "overflow_y": null,
            "padding": null,
            "right": null,
            "top": null,
            "visibility": null,
            "width": null
          }
        },
        "2e1d1dd2e79047b3a96a2a8577f8f36d": {
          "model_module": "@jupyter-widgets/controls",
          "model_name": "ProgressStyleModel",
          "model_module_version": "1.5.0",
          "state": {
            "_model_module": "@jupyter-widgets/controls",
            "_model_module_version": "1.5.0",
            "_model_name": "ProgressStyleModel",
            "_view_count": null,
            "_view_module": "@jupyter-widgets/base",
            "_view_module_version": "1.2.0",
            "_view_name": "StyleView",
            "bar_color": null,
            "description_width": ""
          }
        },
        "9b012df40fbd4a61b3c8c3bbeedc7618": {
          "model_module": "@jupyter-widgets/base",
          "model_name": "LayoutModel",
          "model_module_version": "1.2.0",
          "state": {
            "_model_module": "@jupyter-widgets/base",
            "_model_module_version": "1.2.0",
            "_model_name": "LayoutModel",
            "_view_count": null,
            "_view_module": "@jupyter-widgets/base",
            "_view_module_version": "1.2.0",
            "_view_name": "LayoutView",
            "align_content": null,
            "align_items": null,
            "align_self": null,
            "border": null,
            "bottom": null,
            "display": null,
            "flex": null,
            "flex_flow": null,
            "grid_area": null,
            "grid_auto_columns": null,
            "grid_auto_flow": null,
            "grid_auto_rows": null,
            "grid_column": null,
            "grid_gap": null,
            "grid_row": null,
            "grid_template_areas": null,
            "grid_template_columns": null,
            "grid_template_rows": null,
            "height": null,
            "justify_content": null,
            "justify_items": null,
            "left": null,
            "margin": null,
            "max_height": null,
            "max_width": null,
            "min_height": null,
            "min_width": null,
            "object_fit": null,
            "object_position": null,
            "order": null,
            "overflow": null,
            "overflow_x": null,
            "overflow_y": null,
            "padding": null,
            "right": null,
            "top": null,
            "visibility": null,
            "width": null
          }
        },
        "25e971d514504b11b542601b08f02fed": {
          "model_module": "@jupyter-widgets/controls",
          "model_name": "DescriptionStyleModel",
          "model_module_version": "1.5.0",
          "state": {
            "_model_module": "@jupyter-widgets/controls",
            "_model_module_version": "1.5.0",
            "_model_name": "DescriptionStyleModel",
            "_view_count": null,
            "_view_module": "@jupyter-widgets/base",
            "_view_module_version": "1.2.0",
            "_view_name": "StyleView",
            "description_width": ""
          }
        },
        "f8d9feee3ed14620bac42c1ef792fbec": {
          "model_module": "@jupyter-widgets/controls",
          "model_name": "HBoxModel",
          "model_module_version": "1.5.0",
          "state": {
            "_dom_classes": [],
            "_model_module": "@jupyter-widgets/controls",
            "_model_module_version": "1.5.0",
            "_model_name": "HBoxModel",
            "_view_count": null,
            "_view_module": "@jupyter-widgets/controls",
            "_view_module_version": "1.5.0",
            "_view_name": "HBoxView",
            "box_style": "",
            "children": [
              "IPY_MODEL_2fe449a543db401cb2a3bf3ca189d477",
              "IPY_MODEL_019d427865164a5e9cf4b9026cf29b64",
              "IPY_MODEL_71ce505bdee649ff83fce0e11cc091b0"
            ],
            "layout": "IPY_MODEL_ef38fb2e37494b85b64d1c0e4382bf50"
          }
        },
        "2fe449a543db401cb2a3bf3ca189d477": {
          "model_module": "@jupyter-widgets/controls",
          "model_name": "HTMLModel",
          "model_module_version": "1.5.0",
          "state": {
            "_dom_classes": [],
            "_model_module": "@jupyter-widgets/controls",
            "_model_module_version": "1.5.0",
            "_model_name": "HTMLModel",
            "_view_count": null,
            "_view_module": "@jupyter-widgets/controls",
            "_view_module_version": "1.5.0",
            "_view_name": "HTMLView",
            "description": "",
            "description_tooltip": null,
            "layout": "IPY_MODEL_fc16609eb26a4641b352d83f1c5ae8b9",
            "placeholder": "​",
            "style": "IPY_MODEL_317320a874d24c2db283062ae3a2b8cf",
            "value": "100%"
          }
        },
        "019d427865164a5e9cf4b9026cf29b64": {
          "model_module": "@jupyter-widgets/controls",
          "model_name": "FloatProgressModel",
          "model_module_version": "1.5.0",
          "state": {
            "_dom_classes": [],
            "_model_module": "@jupyter-widgets/controls",
            "_model_module_version": "1.5.0",
            "_model_name": "FloatProgressModel",
            "_view_count": null,
            "_view_module": "@jupyter-widgets/controls",
            "_view_module_version": "1.5.0",
            "_view_name": "ProgressView",
            "bar_style": "success",
            "description": "",
            "description_tooltip": null,
            "layout": "IPY_MODEL_302134fb684c4fceb8dace14230cf608",
            "max": 5148,
            "min": 0,
            "orientation": "horizontal",
            "style": "IPY_MODEL_d055c83d509445829fd884c934ed8099",
            "value": 5148
          }
        },
        "71ce505bdee649ff83fce0e11cc091b0": {
          "model_module": "@jupyter-widgets/controls",
          "model_name": "HTMLModel",
          "model_module_version": "1.5.0",
          "state": {
            "_dom_classes": [],
            "_model_module": "@jupyter-widgets/controls",
            "_model_module_version": "1.5.0",
            "_model_name": "HTMLModel",
            "_view_count": null,
            "_view_module": "@jupyter-widgets/controls",
            "_view_module_version": "1.5.0",
            "_view_name": "HTMLView",
            "description": "",
            "description_tooltip": null,
            "layout": "IPY_MODEL_423f8293c46f40abb4e3e5704a4e78f7",
            "placeholder": "​",
            "style": "IPY_MODEL_088e0bfefad74c0d9f9321327959a088",
            "value": " 5148/5148 [00:00&lt;00:00, 87748.51it/s]"
          }
        },
        "ef38fb2e37494b85b64d1c0e4382bf50": {
          "model_module": "@jupyter-widgets/base",
          "model_name": "LayoutModel",
          "model_module_version": "1.2.0",
          "state": {
            "_model_module": "@jupyter-widgets/base",
            "_model_module_version": "1.2.0",
            "_model_name": "LayoutModel",
            "_view_count": null,
            "_view_module": "@jupyter-widgets/base",
            "_view_module_version": "1.2.0",
            "_view_name": "LayoutView",
            "align_content": null,
            "align_items": null,
            "align_self": null,
            "border": null,
            "bottom": null,
            "display": null,
            "flex": null,
            "flex_flow": null,
            "grid_area": null,
            "grid_auto_columns": null,
            "grid_auto_flow": null,
            "grid_auto_rows": null,
            "grid_column": null,
            "grid_gap": null,
            "grid_row": null,
            "grid_template_areas": null,
            "grid_template_columns": null,
            "grid_template_rows": null,
            "height": null,
            "justify_content": null,
            "justify_items": null,
            "left": null,
            "margin": null,
            "max_height": null,
            "max_width": null,
            "min_height": null,
            "min_width": null,
            "object_fit": null,
            "object_position": null,
            "order": null,
            "overflow": null,
            "overflow_x": null,
            "overflow_y": null,
            "padding": null,
            "right": null,
            "top": null,
            "visibility": null,
            "width": null
          }
        },
        "fc16609eb26a4641b352d83f1c5ae8b9": {
          "model_module": "@jupyter-widgets/base",
          "model_name": "LayoutModel",
          "model_module_version": "1.2.0",
          "state": {
            "_model_module": "@jupyter-widgets/base",
            "_model_module_version": "1.2.0",
            "_model_name": "LayoutModel",
            "_view_count": null,
            "_view_module": "@jupyter-widgets/base",
            "_view_module_version": "1.2.0",
            "_view_name": "LayoutView",
            "align_content": null,
            "align_items": null,
            "align_self": null,
            "border": null,
            "bottom": null,
            "display": null,
            "flex": null,
            "flex_flow": null,
            "grid_area": null,
            "grid_auto_columns": null,
            "grid_auto_flow": null,
            "grid_auto_rows": null,
            "grid_column": null,
            "grid_gap": null,
            "grid_row": null,
            "grid_template_areas": null,
            "grid_template_columns": null,
            "grid_template_rows": null,
            "height": null,
            "justify_content": null,
            "justify_items": null,
            "left": null,
            "margin": null,
            "max_height": null,
            "max_width": null,
            "min_height": null,
            "min_width": null,
            "object_fit": null,
            "object_position": null,
            "order": null,
            "overflow": null,
            "overflow_x": null,
            "overflow_y": null,
            "padding": null,
            "right": null,
            "top": null,
            "visibility": null,
            "width": null
          }
        },
        "317320a874d24c2db283062ae3a2b8cf": {
          "model_module": "@jupyter-widgets/controls",
          "model_name": "DescriptionStyleModel",
          "model_module_version": "1.5.0",
          "state": {
            "_model_module": "@jupyter-widgets/controls",
            "_model_module_version": "1.5.0",
            "_model_name": "DescriptionStyleModel",
            "_view_count": null,
            "_view_module": "@jupyter-widgets/base",
            "_view_module_version": "1.2.0",
            "_view_name": "StyleView",
            "description_width": ""
          }
        },
        "302134fb684c4fceb8dace14230cf608": {
          "model_module": "@jupyter-widgets/base",
          "model_name": "LayoutModel",
          "model_module_version": "1.2.0",
          "state": {
            "_model_module": "@jupyter-widgets/base",
            "_model_module_version": "1.2.0",
            "_model_name": "LayoutModel",
            "_view_count": null,
            "_view_module": "@jupyter-widgets/base",
            "_view_module_version": "1.2.0",
            "_view_name": "LayoutView",
            "align_content": null,
            "align_items": null,
            "align_self": null,
            "border": null,
            "bottom": null,
            "display": null,
            "flex": null,
            "flex_flow": null,
            "grid_area": null,
            "grid_auto_columns": null,
            "grid_auto_flow": null,
            "grid_auto_rows": null,
            "grid_column": null,
            "grid_gap": null,
            "grid_row": null,
            "grid_template_areas": null,
            "grid_template_columns": null,
            "grid_template_rows": null,
            "height": null,
            "justify_content": null,
            "justify_items": null,
            "left": null,
            "margin": null,
            "max_height": null,
            "max_width": null,
            "min_height": null,
            "min_width": null,
            "object_fit": null,
            "object_position": null,
            "order": null,
            "overflow": null,
            "overflow_x": null,
            "overflow_y": null,
            "padding": null,
            "right": null,
            "top": null,
            "visibility": null,
            "width": null
          }
        },
        "d055c83d509445829fd884c934ed8099": {
          "model_module": "@jupyter-widgets/controls",
          "model_name": "ProgressStyleModel",
          "model_module_version": "1.5.0",
          "state": {
            "_model_module": "@jupyter-widgets/controls",
            "_model_module_version": "1.5.0",
            "_model_name": "ProgressStyleModel",
            "_view_count": null,
            "_view_module": "@jupyter-widgets/base",
            "_view_module_version": "1.2.0",
            "_view_name": "StyleView",
            "bar_color": null,
            "description_width": ""
          }
        },
        "423f8293c46f40abb4e3e5704a4e78f7": {
          "model_module": "@jupyter-widgets/base",
          "model_name": "LayoutModel",
          "model_module_version": "1.2.0",
          "state": {
            "_model_module": "@jupyter-widgets/base",
            "_model_module_version": "1.2.0",
            "_model_name": "LayoutModel",
            "_view_count": null,
            "_view_module": "@jupyter-widgets/base",
            "_view_module_version": "1.2.0",
            "_view_name": "LayoutView",
            "align_content": null,
            "align_items": null,
            "align_self": null,
            "border": null,
            "bottom": null,
            "display": null,
            "flex": null,
            "flex_flow": null,
            "grid_area": null,
            "grid_auto_columns": null,
            "grid_auto_flow": null,
            "grid_auto_rows": null,
            "grid_column": null,
            "grid_gap": null,
            "grid_row": null,
            "grid_template_areas": null,
            "grid_template_columns": null,
            "grid_template_rows": null,
            "height": null,
            "justify_content": null,
            "justify_items": null,
            "left": null,
            "margin": null,
            "max_height": null,
            "max_width": null,
            "min_height": null,
            "min_width": null,
            "object_fit": null,
            "object_position": null,
            "order": null,
            "overflow": null,
            "overflow_x": null,
            "overflow_y": null,
            "padding": null,
            "right": null,
            "top": null,
            "visibility": null,
            "width": null
          }
        },
        "088e0bfefad74c0d9f9321327959a088": {
          "model_module": "@jupyter-widgets/controls",
          "model_name": "DescriptionStyleModel",
          "model_module_version": "1.5.0",
          "state": {
            "_model_module": "@jupyter-widgets/controls",
            "_model_module_version": "1.5.0",
            "_model_name": "DescriptionStyleModel",
            "_view_count": null,
            "_view_module": "@jupyter-widgets/base",
            "_view_module_version": "1.2.0",
            "_view_name": "StyleView",
            "description_width": ""
          }
        }
      }
    }
  },
  "cells": [
    {
      "cell_type": "markdown",
      "metadata": {
        "id": "view-in-github",
        "colab_type": "text"
      },
      "source": [
        "<a href=\"https://colab.research.google.com/github/jerryjerry9/FRI_ML/blob/main/pytorch_test.ipynb\" target=\"_parent\"><img src=\"https://colab.research.google.com/assets/colab-badge.svg\" alt=\"Open In Colab\"/></a>"
      ]
    },
    {
      "cell_type": "code",
      "source": [
        "import numpy as np\n",
        "import seaborn as sn"
      ],
      "metadata": {
        "id": "hWHUMKuO5v4G"
      },
      "execution_count": 38,
      "outputs": []
    },
    {
      "cell_type": "code",
      "execution_count": 8,
      "metadata": {
        "id": "JiJtyFxn5e-i"
      },
      "outputs": [],
      "source": [
        "import torch\n",
        "from torch import nn\n",
        "from torch.utils.data import DataLoader\n",
        "from torchvision import datasets\n",
        "from torchvision.transforms import ToTensor, Lambda, Compose\n",
        "import matplotlib.pyplot as plt"
      ]
    },
    {
      "cell_type": "code",
      "source": [],
      "metadata": {
        "id": "K4gszpWRZwoI"
      },
      "execution_count": null,
      "outputs": []
    },
    {
      "cell_type": "code",
      "source": [
        "torch.cuda.is_available()"
      ],
      "metadata": {
        "id": "oBZV8zrgDfMx",
        "colab": {
          "base_uri": "https://localhost:8080/"
        },
        "outputId": "7c500c8c-f736-443d-e128-ef9f633de297"
      },
      "execution_count": 9,
      "outputs": [
        {
          "output_type": "execute_result",
          "data": {
            "text/plain": [
              "True"
            ]
          },
          "metadata": {},
          "execution_count": 9
        }
      ]
    },
    {
      "cell_type": "code",
      "source": [
        "training_data = datasets.FashionMNIST(\n",
        "    root=\"data\",            # 資料放置路徑\n",
        "    train=True,             # 訓練資料集\n",
        "    download=True,          # 自動下載\n",
        "    transform=ToTensor(),   # 資料轉換函數\n",
        ")"
      ],
      "metadata": {
        "id": "eG1dgNWyDfbA",
        "colab": {
          "base_uri": "https://localhost:8080/",
          "height": 423,
          "referenced_widgets": [
            "9c17af46a77b42d7899985df39d3405f",
            "dd7ba7bca5e2434db01cf7d3c93158ae",
            "400807ab54144a74b495387bb9029afb",
            "d06623410238446fa71191bd2759a485",
            "1f4995048cce4c55aa29c1b43424605d",
            "96513a7f86824eaf8edc62cfdee499b7",
            "6921f228b0af4fa38a0c3e5e9845487a",
            "9eace6c0ffb4463eaa563b05b7786b51",
            "ee89d6c302214d1e83cfe41eff2d2f8b",
            "7f23958f69534c3296c18b5781ca2225",
            "4f2ff580760140f6a508656101441e0b",
            "48eee8ed3070451a93e99164530c3967",
            "3d98a94d1c704a57800437a1e43c5dcf",
            "f94dda53bd1f484289be932e32cfd978",
            "71fb5a80dd7d4d5483822926cdb26e5d",
            "2350ff7a7be840a1a167de847dbce0a3",
            "d3deba0fe2cf46dfaeaa3b95ca542bb2",
            "9a5bcf26492042a78e1cfa73fd910c28",
            "fa787e2d439048628b02323d92ccffdd",
            "a34f4c9249b24951b2c9beb3a31f849e",
            "642d8b2e397b44a1a639fc936ddd1326",
            "06474005415e4bde92490aae40e7f0e8",
            "f1d9d29fed124f01b3489b41b215ac5b",
            "3d8ab421ce7843ac886735332f3f6329",
            "70aada18dd144594812f5718d0ca9b57",
            "23d6c850f9ac479ebe9bfbf32c4d9322",
            "7ec20875d02e402cb65c4f5b740b0c95",
            "4a6ebaa644694529bc6defaebf67362f",
            "2135f70566814e2a9cba294a74aa840b",
            "4d600dd48ab7405f8a2383fb701212fd",
            "2e1d1dd2e79047b3a96a2a8577f8f36d",
            "9b012df40fbd4a61b3c8c3bbeedc7618",
            "25e971d514504b11b542601b08f02fed",
            "f8d9feee3ed14620bac42c1ef792fbec",
            "2fe449a543db401cb2a3bf3ca189d477",
            "019d427865164a5e9cf4b9026cf29b64",
            "71ce505bdee649ff83fce0e11cc091b0",
            "ef38fb2e37494b85b64d1c0e4382bf50",
            "fc16609eb26a4641b352d83f1c5ae8b9",
            "317320a874d24c2db283062ae3a2b8cf",
            "302134fb684c4fceb8dace14230cf608",
            "d055c83d509445829fd884c934ed8099",
            "423f8293c46f40abb4e3e5704a4e78f7",
            "088e0bfefad74c0d9f9321327959a088"
          ]
        },
        "outputId": "6f7c88e1-6f7b-4421-e409-064be9912691"
      },
      "execution_count": 10,
      "outputs": [
        {
          "output_type": "stream",
          "name": "stdout",
          "text": [
            "Downloading http://fashion-mnist.s3-website.eu-central-1.amazonaws.com/train-images-idx3-ubyte.gz\n",
            "Downloading http://fashion-mnist.s3-website.eu-central-1.amazonaws.com/train-images-idx3-ubyte.gz to data/FashionMNIST/raw/train-images-idx3-ubyte.gz\n"
          ]
        },
        {
          "output_type": "display_data",
          "data": {
            "text/plain": [
              "  0%|          | 0/26421880 [00:00<?, ?it/s]"
            ],
            "application/vnd.jupyter.widget-view+json": {
              "version_major": 2,
              "version_minor": 0,
              "model_id": "9c17af46a77b42d7899985df39d3405f"
            }
          },
          "metadata": {}
        },
        {
          "output_type": "stream",
          "name": "stdout",
          "text": [
            "Extracting data/FashionMNIST/raw/train-images-idx3-ubyte.gz to data/FashionMNIST/raw\n",
            "\n",
            "Downloading http://fashion-mnist.s3-website.eu-central-1.amazonaws.com/train-labels-idx1-ubyte.gz\n",
            "Downloading http://fashion-mnist.s3-website.eu-central-1.amazonaws.com/train-labels-idx1-ubyte.gz to data/FashionMNIST/raw/train-labels-idx1-ubyte.gz\n"
          ]
        },
        {
          "output_type": "display_data",
          "data": {
            "text/plain": [
              "  0%|          | 0/29515 [00:00<?, ?it/s]"
            ],
            "application/vnd.jupyter.widget-view+json": {
              "version_major": 2,
              "version_minor": 0,
              "model_id": "48eee8ed3070451a93e99164530c3967"
            }
          },
          "metadata": {}
        },
        {
          "output_type": "stream",
          "name": "stdout",
          "text": [
            "Extracting data/FashionMNIST/raw/train-labels-idx1-ubyte.gz to data/FashionMNIST/raw\n",
            "\n",
            "Downloading http://fashion-mnist.s3-website.eu-central-1.amazonaws.com/t10k-images-idx3-ubyte.gz\n",
            "Downloading http://fashion-mnist.s3-website.eu-central-1.amazonaws.com/t10k-images-idx3-ubyte.gz to data/FashionMNIST/raw/t10k-images-idx3-ubyte.gz\n"
          ]
        },
        {
          "output_type": "display_data",
          "data": {
            "text/plain": [
              "  0%|          | 0/4422102 [00:00<?, ?it/s]"
            ],
            "application/vnd.jupyter.widget-view+json": {
              "version_major": 2,
              "version_minor": 0,
              "model_id": "f1d9d29fed124f01b3489b41b215ac5b"
            }
          },
          "metadata": {}
        },
        {
          "output_type": "stream",
          "name": "stdout",
          "text": [
            "Extracting data/FashionMNIST/raw/t10k-images-idx3-ubyte.gz to data/FashionMNIST/raw\n",
            "\n",
            "Downloading http://fashion-mnist.s3-website.eu-central-1.amazonaws.com/t10k-labels-idx1-ubyte.gz\n",
            "Downloading http://fashion-mnist.s3-website.eu-central-1.amazonaws.com/t10k-labels-idx1-ubyte.gz to data/FashionMNIST/raw/t10k-labels-idx1-ubyte.gz\n"
          ]
        },
        {
          "output_type": "display_data",
          "data": {
            "text/plain": [
              "  0%|          | 0/5148 [00:00<?, ?it/s]"
            ],
            "application/vnd.jupyter.widget-view+json": {
              "version_major": 2,
              "version_minor": 0,
              "model_id": "f8d9feee3ed14620bac42c1ef792fbec"
            }
          },
          "metadata": {}
        },
        {
          "output_type": "stream",
          "name": "stdout",
          "text": [
            "Extracting data/FashionMNIST/raw/t10k-labels-idx1-ubyte.gz to data/FashionMNIST/raw\n",
            "\n"
          ]
        }
      ]
    },
    {
      "cell_type": "code",
      "source": [
        "test_data = datasets.FashionMNIST(\n",
        "    root=\"data\",            # 資料放置路徑\n",
        "    train=False,            # 測試資料集\n",
        "    download=True,          # 自動下載\n",
        "    transform=ToTensor(),   # 資料轉換函數\n",
        ")"
      ],
      "metadata": {
        "id": "fr2OnvtyWT5n"
      },
      "execution_count": 11,
      "outputs": []
    },
    {
      "cell_type": "code",
      "source": [
        "# 批次載入資料筆數\n",
        "batch_size = 64\n",
        "\n",
        "# 建立 DataLoader\n",
        "train_dataloader = DataLoader(training_data, batch_size=batch_size)\n",
        "test_dataloader = DataLoader(test_data, batch_size=batch_size)"
      ],
      "metadata": {
        "id": "gjdz0HZWWv7k"
      },
      "execution_count": 12,
      "outputs": []
    },
    {
      "cell_type": "code",
      "source": [
        "size = len(train_dataloader.dataset)\n",
        "num_batches = len(train_dataloader)\n",
        "test_size = len(test_dataloader.dataset)\n",
        "test_num_batches = len(test_dataloader)"
      ],
      "metadata": {
        "id": "hyFU8_tzZy00"
      },
      "execution_count": 133,
      "outputs": []
    },
    {
      "cell_type": "code",
      "source": [
        "print(size,num_batches)\n",
        "print(test_size,test_num_batches)"
      ],
      "metadata": {
        "colab": {
          "base_uri": "https://localhost:8080/"
        },
        "id": "i-bDZjZgZ_Ay",
        "outputId": "e3af93b0-b501-41e2-c7f4-4e56f918b17e"
      },
      "execution_count": 134,
      "outputs": [
        {
          "output_type": "stream",
          "name": "stdout",
          "text": [
            "60000 938\n",
            "10000 157\n"
          ]
        }
      ]
    },
    {
      "cell_type": "code",
      "source": [
        "for X, y in train_dataloader:\n",
        "    print(\"Shape of X [N, C, H, W]: \", X.shape)\n",
        "    print(\"Shape of y: \", y.shape, y.dtype)\n",
        "    break"
      ],
      "metadata": {
        "id": "esu21a1dW0eH",
        "colab": {
          "base_uri": "https://localhost:8080/"
        },
        "outputId": "fb0ec39d-2c02-4150-a847-d70e776c6eba"
      },
      "execution_count": 37,
      "outputs": [
        {
          "output_type": "stream",
          "name": "stdout",
          "text": [
            "Shape of X [N, C, H, W]:  torch.Size([64, 1, 28, 28])\n",
            "Shape of y:  torch.Size([64]) torch.int64\n"
          ]
        }
      ]
    },
    {
      "cell_type": "code",
      "source": [
        "dataiter = iter(test_dataloader)\n",
        "data = dataiter.next()\n",
        "feature, labels = data\n",
        "print(feature.shape)\n"
      ],
      "metadata": {
        "id": "cTZIKLH8W0p3",
        "colab": {
          "base_uri": "https://localhost:8080/"
        },
        "outputId": "d638cb71-ebce-45bf-bf04-540d47a1114a"
      },
      "execution_count": 36,
      "outputs": [
        {
          "output_type": "stream",
          "name": "stdout",
          "text": [
            "torch.Size([64, 1, 28, 28])\n"
          ]
        }
      ]
    },
    {
      "cell_type": "code",
      "source": [
        "i=17\n",
        "aaa = feature[i,0,:,:]\n",
        "print(aaa.shape)\n",
        "print(labels[i])\n"
      ],
      "metadata": {
        "id": "gyz2mz3_W0tz",
        "colab": {
          "base_uri": "https://localhost:8080/"
        },
        "outputId": "1a6f2520-7d46-4f25-ff8c-e46e54c792c1"
      },
      "execution_count": 15,
      "outputs": [
        {
          "output_type": "stream",
          "name": "stdout",
          "text": [
            "torch.Size([28, 28])\n",
            "tensor(4)\n"
          ]
        }
      ]
    },
    {
      "cell_type": "code",
      "source": [
        "test = np.zeros((28,28))\n",
        "f = plt.figure(figsize=(5,5))\n",
        "plt.imshow(aaa,cmap='gray')"
      ],
      "metadata": {
        "id": "5aENflmBW0wz",
        "colab": {
          "base_uri": "https://localhost:8080/",
          "height": 337
        },
        "outputId": "c29d946f-4281-4705-c448-0a595b2db914"
      },
      "execution_count": 16,
      "outputs": [
        {
          "output_type": "execute_result",
          "data": {
            "text/plain": [
              "<matplotlib.image.AxesImage at 0x7f841b8d16d0>"
            ]
          },
          "metadata": {},
          "execution_count": 16
        },
        {
          "output_type": "display_data",
          "data": {
            "text/plain": [
              "<Figure size 360x360 with 1 Axes>"
            ],
            "image/png": "[encoded data removed]"
          },
          "metadata": {
            "needs_background": "light"
          }
        }
      ]
    },
    {
      "cell_type": "code",
      "source": [
        "# 定義類神經網路模型\n",
        "class NeuralNetwork(nn.Module):\n",
        "    def __init__(self):\n",
        "        super(NeuralNetwork, self).__init__()\n",
        "\n",
        "        # 建立類神經網路各層\n",
        "        self.flatten = nn.Flatten()  # 轉為一維向量\n",
        "        self.linear_relu_stack = nn.Sequential(\n",
        "            nn.Linear(28*28, 512),   # 線性轉換\n",
        "            nn.ReLU(),               # ReLU 轉換\n",
        "            nn.Linear(512, 512),\n",
        "            nn.ReLU(),\n",
        "            nn.Linear(512, 10)\n",
        "        )\n",
        "\n",
        "    def forward(self, x):\n",
        "        # 定義資料如何通過類神經網路各層\n",
        "        x = self.flatten(x)\n",
        "        logits = self.linear_relu_stack(x)\n",
        "        return logits"
      ],
      "metadata": {
        "id": "UasauGoqf8tG"
      },
      "execution_count": 17,
      "outputs": []
    },
    {
      "cell_type": "code",
      "source": [
        "# 若 CUDA 環境可用，則使用 GPU 計算，否則使用 CPU\n",
        "device = \"cuda\" if torch.cuda.is_available() else \"cpu\"\n",
        "print(f\"Using {device} device\")"
      ],
      "metadata": {
        "id": "5p1dFCpTcVaJ",
        "colab": {
          "base_uri": "https://localhost:8080/"
        },
        "outputId": "2abb76c5-ecf6-4580-83b0-016a389bad2c"
      },
      "execution_count": 32,
      "outputs": [
        {
          "output_type": "stream",
          "name": "stdout",
          "text": [
            "Using cuda device\n"
          ]
        }
      ]
    },
    {
      "cell_type": "code",
      "source": [
        "# 建立類神經網路模型，並放置於 GPU 或 CPU 上\n",
        "model = NeuralNetwork().to(device)\n",
        "print(model)"
      ],
      "metadata": {
        "colab": {
          "base_uri": "https://localhost:8080/"
        },
        "id": "TzR5VAJaldb1",
        "outputId": "b6cc173b-3276-497a-8cea-04c0dd1c0877"
      },
      "execution_count": 19,
      "outputs": [
        {
          "output_type": "stream",
          "name": "stdout",
          "text": [
            "NeuralNetwork(\n",
            "  (flatten): Flatten(start_dim=1, end_dim=-1)\n",
            "  (linear_relu_stack): Sequential(\n",
            "    (0): Linear(in_features=784, out_features=512, bias=True)\n",
            "    (1): ReLU()\n",
            "    (2): Linear(in_features=512, out_features=512, bias=True)\n",
            "    (3): ReLU()\n",
            "    (4): Linear(in_features=512, out_features=10, bias=True)\n",
            "  )\n",
            ")\n"
          ]
        }
      ]
    },
    {
      "cell_type": "code",
      "source": [
        "# 損失函數\n",
        "loss_fn = nn.CrossEntropyLoss()\n",
        "\n",
        "# 學習優化器\n",
        "optimizer = torch.optim.SGD(model.parameters(), lr=1e-3)"
      ],
      "metadata": {
        "id": "vyhbrme_ldes"
      },
      "execution_count": 20,
      "outputs": []
    },
    {
      "cell_type": "code",
      "source": [
        "# 訓練模型\n",
        "def train(dataloader, model, loss_fn, optimizer):\n",
        "    # 資料總筆數\n",
        "    size = len(dataloader.dataset)\n",
        "    num_batches = len(dataloader)\n",
        "    # 將模型設定為訓練模式\n",
        "    model.train()\n",
        "    train_loss = 0\n",
        "    # 批次讀取資料進行訓練\n",
        "    for batch, (X, y) in enumerate(dataloader):\n",
        "        # 將資料放置於 GPU 或 CPU\n",
        "        X, y = X.to(device), y.to(device)\n",
        "\n",
        "        pred = model(X)         # 計算預測值\n",
        "        loss = loss_fn(pred, y) # 計算損失值（loss）\n",
        "        train_loss += loss_fn(pred, y).item()\n",
        "        optimizer.zero_grad()   # 重設參數梯度（gradient）\n",
        "        loss.backward()         # 反向傳播（backpropagation）\n",
        "        optimizer.step()        # 更新參數\n",
        "    train_loss /= num_batches\n",
        "    return(train_loss)\n",
        "        # 輸出訓練過程資訊\n",
        "        #if batch % 100 == 0:\n",
        "        #    loss, current = loss.item(), batch * len(X)\n",
        "        #    print(f\"loss: {loss:>7f}  [{current:>5d}/{size:>5d}]\")\n",
        "        "
      ],
      "metadata": {
        "id": "bzkHRopOldhv"
      },
      "execution_count": 146,
      "outputs": []
    },
    {
      "cell_type": "code",
      "source": [],
      "metadata": {
        "id": "itl8lls1ZvpU"
      },
      "execution_count": null,
      "outputs": []
    },
    {
      "cell_type": "code",
      "source": [
        "# 測試模型\n",
        "def test(dataloader, model, loss_fn):\n",
        "    # 資料總筆數\n",
        "    size = len(dataloader.dataset)\n",
        "\n",
        "    # 批次數量\n",
        "    num_batches = len(dataloader)\n",
        "\n",
        "    # 將模型設定為驗證模式\n",
        "    model.eval()\n",
        "\n",
        "    # 初始化數值\n",
        "    test_loss, correct = 0, 0\n",
        "\n",
        "    # 驗證模型準確度\n",
        "    with torch.no_grad():  # 不要計算參數梯度\n",
        "        for X, y in dataloader:\n",
        "            # 將資料放置於 GPU 或 CPU\n",
        "            X, y = X.to(device), y.to(device)\n",
        "\n",
        "            # 計算預測值\n",
        "            pred = model(X)\n",
        "\n",
        "            # 計算損失值的加總值\n",
        "            test_loss += loss_fn(pred, y).item()\n",
        "\n",
        "            # 計算預測正確數量的加總值\n",
        "            correct += (pred.argmax(1) == y).type(torch.float).sum().item()\n",
        "\n",
        "    # 計算平均損失值與正確率\n",
        "    test_loss /= num_batches\n",
        "    correct /= size\n",
        "    print(f\"Test Error: \\n Accuracy: {(100*correct):>0.1f}%, Avg loss: {test_loss:>8f} \\n\")\n",
        "    return test_loss"
      ],
      "metadata": {
        "id": "kAjbA4_Ql-cs"
      },
      "execution_count": 138,
      "outputs": []
    },
    {
      "cell_type": "code",
      "source": [
        "# 設定 epochs 數\n",
        "epochs = 50\n",
        "total_trainloss = np.zeros((epochs)) \n",
        "total_testloss = np.zeros((epochs)) \n",
        "# 開始訓練模型\n",
        "for t in range(epochs):\n",
        "    print(f\"Epoch {t+1}\\n-------------------------------\")\n",
        "    trainloss = train(train_dataloader, model, loss_fn, optimizer)\n",
        "    testloss = test(test_dataloader, model, loss_fn)\n",
        "    total_trainloss[t] = trainloss\n",
        "    total_testloss[t] = testloss\n",
        "print('done')"
      ],
      "metadata": {
        "colab": {
          "base_uri": "https://localhost:8080/"
        },
        "id": "WluGlHZrl-fq",
        "outputId": "7c62ece6-98c5-4175-84f6-b7ab71849d52"
      },
      "execution_count": 161,
      "outputs": [
        {
          "output_type": "stream",
          "name": "stdout",
          "text": [
            "Epoch 1\n",
            "-------------------------------\n",
            "Test Error: \n",
            " Accuracy: 71.7%, Avg loss: 0.763794 \n",
            "\n",
            "Epoch 2\n",
            "-------------------------------\n",
            "Test Error: \n",
            " Accuracy: 72.8%, Avg loss: 0.741455 \n",
            "\n",
            "Epoch 3\n",
            "-------------------------------\n",
            "Test Error: \n",
            " Accuracy: 73.7%, Avg loss: 0.721755 \n",
            "\n",
            "Epoch 4\n",
            "-------------------------------\n",
            "Test Error: \n",
            " Accuracy: 74.6%, Avg loss: 0.704026 \n",
            "\n",
            "Epoch 5\n",
            "-------------------------------\n",
            "Test Error: \n",
            " Accuracy: 75.4%, Avg loss: 0.687850 \n",
            "\n",
            "Epoch 6\n",
            "-------------------------------\n",
            "Test Error: \n",
            " Accuracy: 76.1%, Avg loss: 0.672963 \n",
            "\n",
            "Epoch 7\n",
            "-------------------------------\n",
            "Test Error: \n",
            " Accuracy: 76.9%, Avg loss: 0.659220 \n",
            "\n",
            "Epoch 8\n",
            "-------------------------------\n",
            "Test Error: \n",
            " Accuracy: 77.6%, Avg loss: 0.646533 \n",
            "\n",
            "Epoch 9\n",
            "-------------------------------\n",
            "Test Error: \n",
            " Accuracy: 78.1%, Avg loss: 0.634820 \n",
            "\n",
            "Epoch 10\n",
            "-------------------------------\n",
            "Test Error: \n",
            " Accuracy: 78.4%, Avg loss: 0.624003 \n",
            "\n",
            "Epoch 11\n",
            "-------------------------------\n",
            "Test Error: \n",
            " Accuracy: 78.9%, Avg loss: 0.614022 \n",
            "\n",
            "Epoch 12\n",
            "-------------------------------\n",
            "Test Error: \n",
            " Accuracy: 79.2%, Avg loss: 0.604807 \n",
            "\n",
            "Epoch 13\n",
            "-------------------------------\n",
            "Test Error: \n",
            " Accuracy: 79.5%, Avg loss: 0.596299 \n",
            "\n",
            "Epoch 14\n",
            "-------------------------------\n",
            "Test Error: \n",
            " Accuracy: 79.9%, Avg loss: 0.588423 \n",
            "\n",
            "Epoch 15\n",
            "-------------------------------\n",
            "Test Error: \n",
            " Accuracy: 80.0%, Avg loss: 0.581120 \n",
            "\n",
            "Epoch 16\n",
            "-------------------------------\n",
            "Test Error: \n",
            " Accuracy: 80.2%, Avg loss: 0.574327 \n",
            "\n",
            "Epoch 17\n",
            "-------------------------------\n",
            "Test Error: \n",
            " Accuracy: 80.4%, Avg loss: 0.568002 \n",
            "\n",
            "Epoch 18\n",
            "-------------------------------\n",
            "Test Error: \n",
            " Accuracy: 80.6%, Avg loss: 0.562103 \n",
            "\n",
            "Epoch 19\n",
            "-------------------------------\n",
            "Test Error: \n",
            " Accuracy: 80.7%, Avg loss: 0.556585 \n",
            "\n",
            "Epoch 20\n",
            "-------------------------------\n",
            "Test Error: \n",
            " Accuracy: 80.8%, Avg loss: 0.551413 \n",
            "\n",
            "Epoch 21\n",
            "-------------------------------\n",
            "Test Error: \n",
            " Accuracy: 80.9%, Avg loss: 0.546555 \n",
            "\n",
            "Epoch 22\n",
            "-------------------------------\n",
            "Test Error: \n",
            " Accuracy: 81.1%, Avg loss: 0.541993 \n",
            "\n",
            "Epoch 23\n",
            "-------------------------------\n",
            "Test Error: \n",
            " Accuracy: 81.2%, Avg loss: 0.537701 \n",
            "\n",
            "Epoch 24\n",
            "-------------------------------\n",
            "Test Error: \n",
            " Accuracy: 81.3%, Avg loss: 0.533656 \n",
            "\n",
            "Epoch 25\n",
            "-------------------------------\n",
            "Test Error: \n",
            " Accuracy: 81.5%, Avg loss: 0.529837 \n",
            "\n",
            "Epoch 26\n",
            "-------------------------------\n",
            "Test Error: \n",
            " Accuracy: 81.7%, Avg loss: 0.526215 \n",
            "\n",
            "Epoch 27\n",
            "-------------------------------\n",
            "Test Error: \n",
            " Accuracy: 81.8%, Avg loss: 0.522782 \n",
            "\n",
            "Epoch 28\n",
            "-------------------------------\n",
            "Test Error: \n",
            " Accuracy: 81.8%, Avg loss: 0.519521 \n",
            "\n",
            "Epoch 29\n",
            "-------------------------------\n",
            "Test Error: \n",
            " Accuracy: 81.8%, Avg loss: 0.516426 \n",
            "\n",
            "Epoch 30\n",
            "-------------------------------\n",
            "Test Error: \n",
            " Accuracy: 81.9%, Avg loss: 0.513484 \n",
            "\n",
            "Epoch 31\n",
            "-------------------------------\n",
            "Test Error: \n",
            " Accuracy: 82.0%, Avg loss: 0.510685 \n",
            "\n",
            "Epoch 32\n",
            "-------------------------------\n",
            "Test Error: \n",
            " Accuracy: 82.1%, Avg loss: 0.508007 \n",
            "\n",
            "Epoch 33\n",
            "-------------------------------\n",
            "Test Error: \n",
            " Accuracy: 82.2%, Avg loss: 0.505452 \n",
            "\n",
            "Epoch 34\n",
            "-------------------------------\n",
            "Test Error: \n",
            " Accuracy: 82.3%, Avg loss: 0.503014 \n",
            "\n",
            "Epoch 35\n",
            "-------------------------------\n",
            "Test Error: \n",
            " Accuracy: 82.4%, Avg loss: 0.500681 \n",
            "\n",
            "Epoch 36\n",
            "-------------------------------\n",
            "Test Error: \n",
            " Accuracy: 82.5%, Avg loss: 0.498444 \n",
            "\n",
            "Epoch 37\n",
            "-------------------------------\n",
            "Test Error: \n",
            " Accuracy: 82.6%, Avg loss: 0.496296 \n",
            "\n",
            "Epoch 38\n",
            "-------------------------------\n",
            "Test Error: \n",
            " Accuracy: 82.6%, Avg loss: 0.494235 \n",
            "\n",
            "Epoch 39\n",
            "-------------------------------\n",
            "Test Error: \n",
            " Accuracy: 82.7%, Avg loss: 0.492257 \n",
            "\n",
            "Epoch 40\n",
            "-------------------------------\n",
            "Test Error: \n",
            " Accuracy: 82.8%, Avg loss: 0.490348 \n",
            "\n",
            "Epoch 41\n",
            "-------------------------------\n",
            "Test Error: \n",
            " Accuracy: 82.8%, Avg loss: 0.488513 \n",
            "\n",
            "Epoch 42\n",
            "-------------------------------\n",
            "Test Error: \n",
            " Accuracy: 82.9%, Avg loss: 0.486744 \n",
            "\n",
            "Epoch 43\n",
            "-------------------------------\n",
            "Test Error: \n",
            " Accuracy: 82.9%, Avg loss: 0.485043 \n",
            "\n",
            "Epoch 44\n",
            "-------------------------------\n",
            "Test Error: \n",
            " Accuracy: 82.9%, Avg loss: 0.483390 \n",
            "\n",
            "Epoch 45\n",
            "-------------------------------\n",
            "Test Error: \n",
            " Accuracy: 83.0%, Avg loss: 0.481787 \n",
            "\n",
            "Epoch 46\n",
            "-------------------------------\n",
            "Test Error: \n",
            " Accuracy: 83.0%, Avg loss: 0.480233 \n",
            "\n",
            "Epoch 47\n",
            "-------------------------------\n",
            "Test Error: \n",
            " Accuracy: 83.0%, Avg loss: 0.478713 \n",
            "\n",
            "Epoch 48\n",
            "-------------------------------\n",
            "Test Error: \n",
            " Accuracy: 83.1%, Avg loss: 0.477217 \n",
            "\n",
            "Epoch 49\n",
            "-------------------------------\n",
            "Test Error: \n",
            " Accuracy: 83.1%, Avg loss: 0.475754 \n",
            "\n",
            "Epoch 50\n",
            "-------------------------------\n",
            "Test Error: \n",
            " Accuracy: 83.2%, Avg loss: 0.474335 \n",
            "\n",
            "done\n"
          ]
        }
      ]
    },
    {
      "cell_type": "code",
      "source": [
        "# 儲存模型參數\n",
        "torch.save(model.state_dict(), \"drive/MyDrive/ml_data/hw01/model.pth\")"
      ],
      "metadata": {
        "id": "XESOCyzpl-io"
      },
      "execution_count": 164,
      "outputs": []
    },
    {
      "cell_type": "code",
      "source": [
        "# 建立類神經網路模型\n",
        "model2 = NeuralNetwork()\n",
        "\n",
        "# 載入模型參數\n",
        "model2.load_state_dict(torch.load(\"drive/MyDrive/ml_data/hw01/model.pth\"))"
      ],
      "metadata": {
        "colab": {
          "base_uri": "https://localhost:8080/"
        },
        "id": "mD-JMA2ZoOXM",
        "outputId": "272abb1e-1a08-410d-fb87-d2a9bbb0e655"
      },
      "execution_count": 166,
      "outputs": [
        {
          "output_type": "execute_result",
          "data": {
            "text/plain": [
              "<All keys matched successfully>"
            ]
          },
          "metadata": {},
          "execution_count": 166
        }
      ]
    },
    {
      "cell_type": "code",
      "source": [
        "print(total_trainloss)\n",
        "print(total_testloss)"
      ],
      "metadata": {
        "colab": {
          "base_uri": "https://localhost:8080/"
        },
        "id": "wIgfBcJPdK3b",
        "outputId": "a6e21e42-3ce0-4dd1-a667-40d00118fb09"
      },
      "execution_count": 167,
      "outputs": [
        {
          "output_type": "stream",
          "name": "stdout",
          "text": [
            "[0.76097663 0.73634801 0.71493443 0.69584663 0.67852506 0.66261819\n",
            " 0.64791524 0.63429131 0.62166676 0.60996163 0.59910576 0.58903609\n",
            " 0.5797033  0.57104005 0.56298114 0.55547327 0.5484667  0.54191654\n",
            " 0.53578317 0.53002925 0.52462103 0.51953364 0.514743   0.5102185\n",
            " 0.50594242 0.50189464 0.4980519  0.49440467 0.49093784 0.4876384\n",
            " 0.48449662 0.4814971  0.47862746 0.47587995 0.4732483  0.47072109\n",
            " 0.46828944 0.46594831 0.46369482 0.46152148 0.45942224 0.45739237\n",
            " 0.45542925 0.45352801 0.45168192 0.44988914 0.44814499 0.44643824\n",
            " 0.44476875 0.44313268]\n",
            "[0.76379389 0.74145514 0.72175498 0.7040261  0.68785045 0.6729634\n",
            " 0.65922042 0.64653267 0.63482035 0.62400264 0.61402232 0.60480737\n",
            " 0.59629949 0.58842282 0.58111972 0.57432728 0.56800247 0.56210338\n",
            " 0.55658514 0.55141254 0.54655452 0.54199309 0.53770121 0.53365554\n",
            " 0.52983729 0.52621458 0.52278157 0.51952053 0.51642597 0.51348418\n",
            " 0.51068473 0.50800671 0.50545204 0.50301353 0.50068099 0.49844359\n",
            " 0.49629628 0.49423495 0.49225716 0.49034819 0.48851292 0.48674406\n",
            " 0.4850429  0.48338991 0.48178722 0.48023311 0.47871305 0.47721729\n",
            " 0.47575382 0.47433548]\n"
          ]
        }
      ]
    },
    {
      "cell_type": "code",
      "source": [
        "\n"
      ],
      "metadata": {
        "id": "82Q0POXijCJt"
      },
      "execution_count": 163,
      "outputs": []
    },
    {
      "cell_type": "code",
      "source": [
        "f= plt.figure(figsize=(15,8))\n",
        "plt.plot(total_trainloss,linewidth=3,c='blue')\n",
        "plt.plot(total_testloss,linewidth=3,c='orange')\n",
        "plt.legend([\"training loss\",\"test loss\"],fontsize=26)\n",
        "plt.yticks(fontsize=20)\n",
        "plt.xticks(fontsize=20)\n",
        "plt.xlabel('Epoch',color='k',fontsize=22)\n",
        "plt.tight_layout()\n",
        "plt.savefig('drive/MyDrive/ml_data/hw01/loss.png',dpi=400)"
      ],
      "metadata": {
        "colab": {
          "base_uri": "https://localhost:8080/",
          "height": 594
        },
        "id": "M2Ghe40ndv7v",
        "outputId": "602db3dc-4128-46c3-a45a-25713ea828bd"
      },
      "execution_count": 174,
      "outputs": [
        {
          "output_type": "display_data",
          "data": {
            "text/plain": [
              "<Figure size 1080x576 with 1 Axes>"
            ],
            "image/png": "[encoded data removed]"
          },
          "metadata": {}
        }
      ]
    },
    {
      "cell_type": "code",
      "source": [
        "# 各類別名稱\n",
        "classes = [\n",
        "    \"T-shirt/top\",\n",
        "    \"Trouser\",\n",
        "    \"Pullover\",\n",
        "    \"Dress\",\n",
        "    \"Coat\",\n",
        "    \"Sandal\",\n",
        "    \"Shirt\",\n",
        "    \"Sneaker\",\n",
        "    \"Bag\",\n",
        "    \"Ankle boot\",\n",
        "]\n",
        "cm=np.zeros((10,10))\n",
        "# 將模型設定為驗證模式\n",
        "model2.eval()\n",
        "for x,y in test_dataloader:\n",
        "# 取得測試資料\n",
        "  pred = model2(x)\n",
        "  cm[pred.argmax(1),y]=cm[pred.argmax(1),y]+1\n",
        "\n",
        "    # 整理測試結果\n",
        "    #predicted, actual = classes[pred[0].argmax(0)], classes[y]\n",
        "    #print(f'預測值：\"{predicted}\" / 實際值：\"{actual}\"')"
      ],
      "metadata": {
        "id": "G5RLiq63oOZ9"
      },
      "execution_count": 175,
      "outputs": []
    },
    {
      "cell_type": "code",
      "source": [
        "fig, ax = plt.subplots(figsize=(4,3),dpi=250)\n",
        "ax = sn.heatmap(cm,xticklabels=classes,yticklabels=classes,annot=True,fmt = 'g',cmap='YlGn',annot_kws={'fontsize':5},cbar=True)\n",
        "ax.yaxis.tick_left()\n",
        "plt.yticks(rotation=0,fontsize=5)\n",
        "\n",
        "ax.xaxis.tick_top()\n",
        "plt.xticks(ha='left',rotation=45,fontsize=5)\n",
        "plt.ylabel('Truth',color='k',fontsize=6)\n",
        "plt.xlabel('Prediction',color='k',fontsize=6)\n",
        "plt.tight_layout()\n",
        "plt.savefig('drive/MyDrive/ml_data/hw01/heatmap.png',dpi=400)"
      ],
      "metadata": {
        "colab": {
          "base_uri": "https://localhost:8080/",
          "height": 772
        },
        "id": "fRqMfCDAoT-O",
        "outputId": "36ee4ecd-c74a-4f85-fad3-43ff7aff83ef"
      },
      "execution_count": 177,
      "outputs": [
        {
          "output_type": "display_data",
          "data": {
            "text/plain": [
              "<Figure size 1000x750 with 2 Axes>"
            ],
            "image/png": "[encoded data removed]"
          },
          "metadata": {}
        }
      ]
    },
    {
      "cell_type": "code",
      "source": [],
      "metadata": {
        "id": "ufsE5IlHFkyS"
      },
      "execution_count": 160,
      "outputs": []
    },
    {
      "cell_type": "code",
      "source": [],
      "metadata": {
        "id": "CFy3b9-iFk5_"
      },
      "execution_count": null,
      "outputs": []
    },
    {
      "cell_type": "code",
      "source": [],
      "metadata": {
        "id": "xF4fMo4aFk_G"
      },
      "execution_count": null,
      "outputs": []
    }
  ]
}