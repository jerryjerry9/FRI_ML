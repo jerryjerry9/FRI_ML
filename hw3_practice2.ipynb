{
 "cells": [
  {
   "cell_type": "code",
   "execution_count": 1,
   "metadata": {},
   "outputs": [],
   "source": [
    "import pickle\n",
    "import numpy as np\n",
    "import torch\n",
    "import torch.nn as nn\n",
    "import torch.optim as optim\n",
    "from torch.utils.data import Dataset, DataLoader\n",
    "from sklearn.preprocessing import StandardScaler    \n",
    "from sklearn.model_selection import train_test_split\n",
    "from sklearn.metrics import confusion_matrix, classification_report"
   ]
  },
  {
   "cell_type": "code",
   "execution_count": 167,
   "metadata": {},
   "outputs": [],
   "source": [
    "import matplotlib.pyplot as plt"
   ]
  },
  {
   "cell_type": "code",
   "execution_count": 16,
   "metadata": {},
   "outputs": [],
   "source": [
    "import time"
   ]
  },
  {
   "cell_type": "code",
   "execution_count": 2,
   "metadata": {},
   "outputs": [],
   "source": [
    "with open('data_theta_profile.pkl', 'rb') as f:\n",
    "    profile =  pickle.load(f)\n",
    "with open('data_inversion_label.pkl', 'rb') as f:\n",
    "    label =  pickle.load(f)"
   ]
  },
  {
   "cell_type": "code",
   "execution_count": 3,
   "metadata": {},
   "outputs": [],
   "source": [
    "x_train, x_test, y_train, y_test = train_test_split(profile, label, test_size=0.25, random_state=69)"
   ]
  },
  {
   "cell_type": "code",
   "execution_count": 4,
   "metadata": {},
   "outputs": [],
   "source": [
    "scaler = StandardScaler()\n",
    "x_train = scaler.fit_transform(x_train)\n",
    "x_test = scaler.transform(x_test)"
   ]
  },
  {
   "cell_type": "code",
   "execution_count": 31,
   "metadata": {},
   "outputs": [],
   "source": [
    "## train data\n",
    "class TrainData(Dataset):\n",
    "    \n",
    "    def __init__(self, X_data, y_data):\n",
    "        self.X_data = X_data\n",
    "        self.y_data = y_data\n",
    "        \n",
    "    def __getitem__(self, index):\n",
    "        return self.X_data[index], self.y_data[index]\n",
    "        \n",
    "    def __len__ (self):\n",
    "        return len(self.X_data)\n",
    "\n",
    "\n",
    "train_data = TrainData(torch.FloatTensor(x_train), \n",
    "                       torch.FloatTensor(y_train))\n",
    "## test data    \n",
    "class TestData(Dataset):\n",
    "    \n",
    "    def __init__(self, X_data):\n",
    "        self.X_data = X_data\n",
    "        \n",
    "    def __getitem__(self, index):\n",
    "        return self.X_data[index]\n",
    "        \n",
    "    def __len__ (self):\n",
    "        return len(self.X_data)\n",
    "    \n",
    "\n",
    "test_data = TrainData(torch.FloatTensor(x_test), \n",
    "                       torch.FloatTensor(y_test))"
   ]
  },
  {
   "cell_type": "code",
   "execution_count": 110,
   "metadata": {},
   "outputs": [],
   "source": [
    "train_loader = DataLoader(dataset=train_data, batch_size=64)\n",
    "test_loader = DataLoader(dataset=test_data, batch_size=64)"
   ]
  },
  {
   "cell_type": "code",
   "execution_count": 55,
   "metadata": {},
   "outputs": [],
   "source": [
    "# 定義類神經網路模型\n",
    "class NeuralNetwork(nn.Module):\n",
    "    def __init__(self):\n",
    "        super(NeuralNetwork, self).__init__()\n",
    "\n",
    "        # 建立類神經網路各層\n",
    "        self.flatten = nn.Flatten()  # 轉為一維向量\n",
    "        self.linear_relu_stack = nn.Sequential(\n",
    "            nn.Linear(27, 64),   # 線性轉換\n",
    "            #nn.ReLU(),               # ReLU 轉換\n",
    "            nn.ReLU(),\n",
    "            nn.Linear(64, 64),\n",
    "            nn.ReLU(),\n",
    "            nn.Linear(64, 1)\n",
    "        )\n",
    "\n",
    "    def forward(self, x):\n",
    "        # 定義資料如何通過類神經網路各層\n",
    "        x = self.flatten(x)\n",
    "        logits = self.linear_relu_stack(x)\n",
    "        return logits"
   ]
  },
  {
   "cell_type": "code",
   "execution_count": 129,
   "metadata": {},
   "outputs": [],
   "source": [
    "# 定義類神經網路模型\n",
    "class NeuralNetwork(nn.Module):\n",
    "    def __init__(self):\n",
    "        super(NeuralNetwork, self).__init__()\n",
    "        # 建立類神經網路各層\n",
    "        self.layer_1 = nn.Linear(27, 64) \n",
    "        self.layer_2 = nn.Linear(64, 64)\n",
    "        self.layer_out = nn.Linear(64, 1) \n",
    "        \n",
    "        self.relu = nn.ReLU()\n",
    "        self.dropout = nn.Dropout(p=0.1)\n",
    "        self.batchnorm1 = nn.BatchNorm1d(64)\n",
    "        self.batchnorm2 = nn.BatchNorm1d(64)\n",
    "    def forward(self, inputs):\n",
    "        # 定義資料如何通過類神經網路各層\n",
    "        x = self.relu(self.layer_1(inputs))\n",
    "        x = self.batchnorm1(x)\n",
    "        x = self.relu(self.layer_2(x))\n",
    "        x = self.batchnorm2(x)\n",
    "        x = self.dropout(x)\n",
    "        x = self.layer_out(x)\n",
    "        return x"
   ]
  },
  {
   "cell_type": "code",
   "execution_count": 130,
   "metadata": {},
   "outputs": [
    {
     "name": "stdout",
     "output_type": "stream",
     "text": [
      "Using cpu device\n"
     ]
    }
   ],
   "source": [
    "# 若 CUDA 環境可用，則使用 GPU 計算，否則使用 CPU\n",
    "device = \"cuda\" if torch.cuda.is_available() else \"cpu\"\n",
    "print(f\"Using {device} device\")"
   ]
  },
  {
   "cell_type": "code",
   "execution_count": 131,
   "metadata": {},
   "outputs": [
    {
     "name": "stdout",
     "output_type": "stream",
     "text": [
      "NeuralNetwork(\n",
      "  (layer_1): Linear(in_features=27, out_features=64, bias=True)\n",
      "  (layer_2): Linear(in_features=64, out_features=64, bias=True)\n",
      "  (layer_out): Linear(in_features=64, out_features=1, bias=True)\n",
      "  (relu): ReLU()\n",
      "  (dropout): Dropout(p=0.1, inplace=False)\n",
      "  (batchnorm1): BatchNorm1d(64, eps=1e-05, momentum=0.1, affine=True, track_running_stats=True)\n",
      "  (batchnorm2): BatchNorm1d(64, eps=1e-05, momentum=0.1, affine=True, track_running_stats=True)\n",
      ")\n"
     ]
    }
   ],
   "source": [
    "# 建立類神經網路模型，並放置於 GPU 或 CPU 上\n",
    "model = NeuralNetwork().to(device)\n",
    "print(model)"
   ]
  },
  {
   "cell_type": "code",
   "execution_count": 132,
   "metadata": {},
   "outputs": [],
   "source": [
    "# 損失函數\n",
    "#loss_fn = nn.CrossEntropyLoss()\n",
    "loss_fn = nn.BCEWithLogitsLoss()\n",
    "# 學習優化器\n",
    "#optimizer = torch.optim.SGD(model.parameters(), lr=1e-2)\n",
    "optimizer = torch.optim.Adam(model.parameters(), lr=1e-3)"
   ]
  },
  {
   "cell_type": "code",
   "execution_count": 133,
   "metadata": {},
   "outputs": [],
   "source": [
    "# 訓練模型\n",
    "def train(dataloader, model, loss_fn, optimizer):\n",
    "    # 資料總筆數\n",
    "    size = len(dataloader.dataset)\n",
    "    #num_batches = len(dataloader)\n",
    "    # 將模型設定為訓練模式\n",
    "    model.train()\n",
    "    #train_loss = 0\n",
    "    # 批次讀取資料進行訓練\n",
    "    for batch, (X, y) in enumerate(dataloader):\n",
    "        # 將資料放置於 GPU 或 CPU\n",
    "        X, y = X.to(device), y.to(device)\n",
    "\n",
    "        pred = model(X)         # 計算預測值\n",
    "        loss = loss_fn(pred, y.unsqueeze(1)) # 計算損失值（loss）\n",
    "        #train_loss += loss_fn(pred, y).item()\n",
    "        optimizer.zero_grad()   # 重設參數梯度（gradient）\n",
    "        loss.backward()         # 反向傳播（backpropagation）\n",
    "        optimizer.step()        # 更新參數\n",
    "    #train_loss /= num_batches\n",
    "    #return(train_loss)"
   ]
  },
  {
   "cell_type": "code",
   "execution_count": 134,
   "metadata": {},
   "outputs": [],
   "source": [
    "# 測試模型\n",
    "def test(dataloader, model, loss_fn):\n",
    "    # 資料總筆數\n",
    "    size = len(dataloader.dataset)\n",
    "\n",
    "    # 批次數量\n",
    "    num_batches = len(dataloader)\n",
    "\n",
    "    # 將模型設定為驗證模式\n",
    "    model.eval()\n",
    "\n",
    "    # 初始化數值\n",
    "    test_loss, correct = 0, 0\n",
    "\n",
    "    # 驗證模型準確度\n",
    "    with torch.no_grad():  # 不要計算參數梯度\n",
    "        for X, y in dataloader:\n",
    "            # 將資料放置於 GPU 或 CPU\n",
    "            X, y = X.to(device), y.to(device)\n",
    "\n",
    "            # 計算預測值\n",
    "            pred = model(X)\n",
    "\n",
    "            # 計算損失值的加總值\n",
    "            test_loss += loss_fn(pred, y.unsqueeze(1)).item()\n",
    "\n",
    "            # 計算預測正確數量的加總值\n",
    "            #correct += (pred.argmax(1) == y).type(torch.float).sum().item()\n",
    "            correct += binary_acc(pred, y.unsqueeze(1)).type(torch.float).sum().item()\n",
    "\n",
    "    # 計算平均損失值與正確率\n",
    "    test_loss /= num_batches\n",
    "    correct /= size\n",
    "    print(f\"Test Error: \\n Accuracy: {(100*correct):>0.1f}%, Avg loss: {test_loss:>8f} \\n\")\n",
    "    return test_loss , correct*100"
   ]
  },
  {
   "cell_type": "code",
   "execution_count": 135,
   "metadata": {
    "scrolled": false
   },
   "outputs": [
    {
     "name": "stdout",
     "output_type": "stream",
     "text": [
      "Epoch 1\n",
      "-------------------------------\n",
      "Test Error: \n",
      " Accuracy: 76.3%, Avg loss: 0.499320 \n",
      "\n",
      "Test Error: \n",
      " Accuracy: 74.4%, Avg loss: 0.512948 \n",
      "\n",
      "Epoch 2\n",
      "-------------------------------\n",
      "Test Error: \n",
      " Accuracy: 77.1%, Avg loss: 0.464837 \n",
      "\n",
      "Test Error: \n",
      " Accuracy: 75.2%, Avg loss: 0.484213 \n",
      "\n",
      "Epoch 3\n",
      "-------------------------------\n",
      "Test Error: \n",
      " Accuracy: 77.3%, Avg loss: 0.454061 \n",
      "\n",
      "Test Error: \n",
      " Accuracy: 74.8%, Avg loss: 0.477643 \n",
      "\n",
      "Epoch 4\n",
      "-------------------------------\n",
      "Test Error: \n",
      " Accuracy: 77.8%, Avg loss: 0.446666 \n",
      "\n",
      "Test Error: \n",
      " Accuracy: 75.1%, Avg loss: 0.471553 \n",
      "\n",
      "Epoch 5\n",
      "-------------------------------\n",
      "Test Error: \n",
      " Accuracy: 78.1%, Avg loss: 0.441100 \n",
      "\n",
      "Test Error: \n",
      " Accuracy: 75.9%, Avg loss: 0.472149 \n",
      "\n",
      "Epoch 6\n",
      "-------------------------------\n",
      "Test Error: \n",
      " Accuracy: 78.5%, Avg loss: 0.434042 \n",
      "\n",
      "Test Error: \n",
      " Accuracy: 75.6%, Avg loss: 0.471089 \n",
      "\n",
      "Epoch 7\n",
      "-------------------------------\n",
      "Test Error: \n",
      " Accuracy: 78.4%, Avg loss: 0.431693 \n",
      "\n",
      "Test Error: \n",
      " Accuracy: 75.7%, Avg loss: 0.469927 \n",
      "\n",
      "Epoch 8\n",
      "-------------------------------\n",
      "Test Error: \n",
      " Accuracy: 78.7%, Avg loss: 0.426608 \n",
      "\n",
      "Test Error: \n",
      " Accuracy: 76.1%, Avg loss: 0.468855 \n",
      "\n",
      "Epoch 9\n",
      "-------------------------------\n",
      "Test Error: \n",
      " Accuracy: 78.7%, Avg loss: 0.424285 \n",
      "\n",
      "Test Error: \n",
      " Accuracy: 75.4%, Avg loss: 0.470936 \n",
      "\n",
      "Epoch 10\n",
      "-------------------------------\n",
      "Test Error: \n",
      " Accuracy: 78.8%, Avg loss: 0.419365 \n",
      "\n",
      "Test Error: \n",
      " Accuracy: 75.4%, Avg loss: 0.468298 \n",
      "\n",
      "Epoch 11\n",
      "-------------------------------\n",
      "Test Error: \n",
      " Accuracy: 78.8%, Avg loss: 0.417811 \n",
      "\n",
      "Test Error: \n",
      " Accuracy: 75.8%, Avg loss: 0.470148 \n",
      "\n",
      "Epoch 12\n",
      "-------------------------------\n",
      "Test Error: \n",
      " Accuracy: 79.4%, Avg loss: 0.412758 \n",
      "\n",
      "Test Error: \n",
      " Accuracy: 75.6%, Avg loss: 0.471397 \n",
      "\n",
      "Epoch 13\n",
      "-------------------------------\n",
      "Test Error: \n",
      " Accuracy: 79.7%, Avg loss: 0.406645 \n",
      "\n",
      "Test Error: \n",
      " Accuracy: 75.6%, Avg loss: 0.468431 \n",
      "\n",
      "Epoch 14\n",
      "-------------------------------\n",
      "Test Error: \n",
      " Accuracy: 79.6%, Avg loss: 0.404389 \n",
      "\n",
      "Test Error: \n",
      " Accuracy: 75.9%, Avg loss: 0.473618 \n",
      "\n",
      "Epoch 15\n",
      "-------------------------------\n",
      "Test Error: \n",
      " Accuracy: 79.6%, Avg loss: 0.405449 \n",
      "\n",
      "Test Error: \n",
      " Accuracy: 75.4%, Avg loss: 0.474620 \n",
      "\n",
      "Epoch 16\n",
      "-------------------------------\n",
      "Test Error: \n",
      " Accuracy: 78.9%, Avg loss: 0.409776 \n",
      "\n",
      "Test Error: \n",
      " Accuracy: 75.2%, Avg loss: 0.480214 \n",
      "\n",
      "Epoch 17\n",
      "-------------------------------\n",
      "Test Error: \n",
      " Accuracy: 79.6%, Avg loss: 0.401777 \n",
      "\n",
      "Test Error: \n",
      " Accuracy: 75.7%, Avg loss: 0.476345 \n",
      "\n",
      "Epoch 18\n",
      "-------------------------------\n",
      "Test Error: \n",
      " Accuracy: 80.0%, Avg loss: 0.399949 \n",
      "\n",
      "Test Error: \n",
      " Accuracy: 75.4%, Avg loss: 0.482899 \n",
      "\n",
      "Epoch 19\n",
      "-------------------------------\n",
      "Test Error: \n",
      " Accuracy: 79.8%, Avg loss: 0.395694 \n",
      "\n",
      "Test Error: \n",
      " Accuracy: 75.3%, Avg loss: 0.480124 \n",
      "\n",
      "Epoch 20\n",
      "-------------------------------\n",
      "Test Error: \n",
      " Accuracy: 81.2%, Avg loss: 0.385214 \n",
      "\n",
      "Test Error: \n",
      " Accuracy: 75.7%, Avg loss: 0.476455 \n",
      "\n",
      "Total time use 6.135373592376709\n"
     ]
    }
   ],
   "source": [
    "# 設定 epochs 數\n",
    "epochs = 20\n",
    "st_time = time.time()\n",
    "total_trainloss = np.zeros((epochs)) \n",
    "total_testloss = np.zeros((epochs)) \n",
    "total_acc = np.zeros((epochs)) \n",
    "# 開始訓練模型\n",
    "for t in range(epochs):\n",
    "    print(f\"Epoch {t+1}\\n-------------------------------\")\n",
    "    train(train_loader, model, loss_fn, optimizer)\n",
    "    trainloss,acc1 = test(train_loader, model, loss_fn)\n",
    "    testloss,acc = test(test_loader, model, loss_fn)\n",
    "    total_trainloss[t] = trainloss\n",
    "    total_testloss[t] = testloss\n",
    "    total_acc[t] = acc\n",
    "cost_time = time.time() - st_time\n",
    "print('Total time use',cost_time)\n",
    "#acc_diff = total_acc[29] - 80.6\n",
    "#trainloss_diff = total_trainloss[29] - 0.5264\n",
    "#testloss_diff = total_testloss[29] - 0.5513\n",
    "#time_diff = cost_time - 486.8\n",
    "#print('acc diff',acc_diff)\n",
    "#print('train loss diff',trainloss_diff)\n",
    "#print('test loss diff',testloss_diff )\n",
    "#print('time diff',time_diff)\n",
    "#print('done')"
   ]
  },
  {
   "cell_type": "code",
   "execution_count": 88,
   "metadata": {},
   "outputs": [],
   "source": [
    "def binary_acc(y_pred, y_test):\n",
    "    y_pred_tag = torch.round(torch.sigmoid(y_pred))\n",
    "\n",
    "    correct_results_sum = (y_pred_tag == y_test).sum().float()\n",
    "    acc = correct_results_sum#/y_test.shape[0]\n",
    "    #acc = torch.round(acc * 100)\n",
    "    \n",
    "    return acc"
   ]
  },
  {
   "cell_type": "code",
   "execution_count": 156,
   "metadata": {},
   "outputs": [
    {
     "name": "stdout",
     "output_type": "stream",
     "text": [
      "tensor([[-0.6382, -1.6860, -0.9062, -1.3966, -1.1496, -0.7331, -0.2821, -0.2824,\n",
      "         -0.1456, -0.2108, -0.1280, -0.0105,  0.1328,  0.2112,  0.3284,  0.5035,\n",
      "          0.7315,  0.7103,  0.6998,  0.5339,  0.0188,  0.1552,  0.2853,  0.3532,\n",
      "          0.3723,  0.4048,  0.4231]])\n",
      "[-0.63824019 -1.68603765 -0.90615713 -1.39662458 -1.1495526  -0.73314493\n",
      " -0.28214438 -0.28244995 -0.14560434 -0.21077569 -0.12803946 -0.01049908\n",
      "  0.13276832  0.21118404  0.32837976  0.50350569  0.73154825  0.71034984\n",
      "  0.69982336  0.53391964  0.01878556  0.15522556  0.28528395  0.35319186\n",
      "  0.3723      0.40475259  0.42314673]\n",
      "tensor([[-1.1611, -1.4485, -0.7113, -0.7416,  0.0897,  0.7169,  0.4058, -0.1712,\n",
      "         -0.0226,  0.0573,  0.2148,  0.4485, -0.2809, -0.3020, -0.0382,  0.2507,\n",
      "          0.4464,  0.4292,  0.4049,  0.4671,  0.7125,  0.2183, -0.5469, -0.4369,\n",
      "         -0.2897, -0.2016, -0.1823]])\n",
      "[-1.16113489 -1.44848902 -0.71125109 -0.7415677   0.08972832  0.71693721\n",
      "  0.40578785 -0.17121238 -0.02264384  0.05727672  0.21483597  0.44851401\n",
      " -0.28087408 -0.30200122 -0.03815861  0.25065532  0.44643553  0.42918761\n",
      "  0.40491368  0.46708193  0.71251877  0.21834998 -0.54694765 -0.43685259\n",
      " -0.28967491 -0.2016281  -0.18230032]\n",
      "tensor([[ 0.8758,  0.0147, -1.4125, -1.3543, -1.6340, -1.6806, -0.9539, -0.7557,\n",
      "         -0.3876, -0.1550, -0.0627,  0.2284,  0.5830,  0.5902,  0.4953,  0.7923,\n",
      "          0.8272,  0.9417,  1.0162,  1.0608,  1.1061,  1.0978,  1.0760,  1.1264,\n",
      "          1.1060,  0.9871,  0.8167]])\n",
      "[ 0.87584831  0.0147023  -1.41248374 -1.35434887 -1.63401608 -1.68061636\n",
      " -0.95392725 -0.75565881 -0.38762094 -0.15496885 -0.06271431  0.22843785\n",
      "  0.58303308  0.59019682  0.49527376  0.79229135  0.82716029  0.94168439\n",
      "  1.01616884  1.06078838  1.10611921  1.09783872  1.07598873  1.12639372\n",
      "  1.10598172  0.98705313  0.81674885]\n"
     ]
    }
   ],
   "source": [
    "for i in range(17,20):\n",
    "    x, y = test_data[i:i+1][0], test_data[i][1]\n",
    "    print(x)\n",
    "    print(x_test[i])"
   ]
  },
  {
   "cell_type": "code",
   "execution_count": 151,
   "metadata": {},
   "outputs": [],
   "source": [
    "x,y = test_data[i:i+5][0], test_data[i][1]"
   ]
  },
  {
   "cell_type": "code",
   "execution_count": 152,
   "metadata": {},
   "outputs": [
    {
     "name": "stdout",
     "output_type": "stream",
     "text": [
      "tensor([[-0.5027,  0.6159,  0.6864,  0.6622,  0.6277, -0.2531, -0.5094, -0.5449,\n",
      "         -0.1832,  0.3851,  0.9738,  1.3584,  1.6820,  1.7150,  1.1281,  0.7090,\n",
      "          0.9053,  1.0756,  1.2418,  1.3878,  1.5194,  1.6426,  1.6830,  0.2723,\n",
      "          0.0277,  0.0999,  0.1323]])\n"
     ]
    }
   ],
   "source": [
    "print(x)"
   ]
  },
  {
   "cell_type": "code",
   "execution_count": 149,
   "metadata": {},
   "outputs": [],
   "source": [
    "x,y = test_data[i][0], test_data[i][1]"
   ]
  },
  {
   "cell_type": "code",
   "execution_count": 150,
   "metadata": {},
   "outputs": [
    {
     "name": "stdout",
     "output_type": "stream",
     "text": [
      "tensor([-0.5027,  0.6159,  0.6864,  0.6622,  0.6277, -0.2531, -0.5094, -0.5449,\n",
      "        -0.1832,  0.3851,  0.9738,  1.3584,  1.6820,  1.7150,  1.1281,  0.7090,\n",
      "         0.9053,  1.0756,  1.2418,  1.3878,  1.5194,  1.6426,  1.6830,  0.2723,\n",
      "         0.0277,  0.0999,  0.1323])\n"
     ]
    }
   ],
   "source": [
    "print(x)"
   ]
  },
  {
   "cell_type": "code",
   "execution_count": 157,
   "metadata": {
    "scrolled": false
   },
   "outputs": [],
   "source": [
    "model.eval()\n",
    "pred_result = np.zeros((2355))\n",
    "truth = np.zeros((2355))\n",
    "for i in range(0,2355):\n",
    "    x, y = test_data[i:i+1][0], test_data[i][1]\n",
    "    pred = model(x)\n",
    "    pred_result[i] = torch.round(torch.sigmoid(pred))\n",
    "    truth[i] = y"
   ]
  },
  {
   "cell_type": "code",
   "execution_count": 158,
   "metadata": {
    "scrolled": true
   },
   "outputs": [
    {
     "name": "stdout",
     "output_type": "stream",
     "text": [
      "[1. 1. 1. 1. 1. 1. 1. 1. 0. 1. 1. 1. 1. 1. 1.]\n",
      "[1. 1. 1. 1. 1. 1. 1. 0. 0. 1. 1. 1. 0. 1. 1.]\n"
     ]
    }
   ],
   "source": [
    "print(pred_result[0:15])\n",
    "print(truth[0:15])"
   ]
  },
  {
   "cell_type": "code",
   "execution_count": 162,
   "metadata": {},
   "outputs": [
    {
     "name": "stdout",
     "output_type": "stream",
     "text": [
      "(2355,) (2355,)\n"
     ]
    }
   ],
   "source": [
    "print(pred_result.shape,truth.shape)"
   ]
  },
  {
   "cell_type": "code",
   "execution_count": null,
   "metadata": {},
   "outputs": [],
   "source": [
    "print()"
   ]
  },
  {
   "cell_type": "code",
   "execution_count": 163,
   "metadata": {},
   "outputs": [],
   "source": [
    "hist_pred = np.histogram2d(pred_result,truth,bins=2)"
   ]
  },
  {
   "cell_type": "code",
   "execution_count": 164,
   "metadata": {},
   "outputs": [
    {
     "name": "stdout",
     "output_type": "stream",
     "text": [
      "[305. 366.]\n",
      "[ 207. 1477.]\n"
     ]
    }
   ],
   "source": [
    "nparray_h = hist_pred[0]\n",
    "for i in range(0,2):\n",
    "    print(nparray_h[:,i])"
   ]
  },
  {
   "cell_type": "code",
   "execution_count": 171,
   "metadata": {},
   "outputs": [],
   "source": [
    "classes = ['no','have']"
   ]
  },
  {
   "cell_type": "code",
   "execution_count": 183,
   "metadata": {},
   "outputs": [
    {
     "data": {
      "image/png": "[encoded data removed]",
      "text/plain": [
       "<Figure size 1100x800 with 2 Axes>"
      ]
     },
     "metadata": {},
     "output_type": "display_data"
    }
   ],
   "source": [
    "f,ax= plt.subplots(figsize=(11,8))\n",
    "#ax.hist2d(pred_result, truth,bins=10,cmap='YlGn')\n",
    "hitplot = ax.pcolormesh(nparray_h.T,cmap='YlGn',vmax=1000)\n",
    "for xx in range(0,2):\n",
    "  for yy in range(0,2):\n",
    "    if nparray_h[xx,yy] > 500:\n",
    "      ax.text(xx+0.5, yy+0.5, int(nparray_h[xx,yy]),color='w', size=16,fontweight='semibold',ha='center',va='center')\n",
    "    else:\n",
    "      ax.text(xx+0.5, yy+0.5, int(nparray_h[xx,yy]),color='k', size=16,fontweight='semibold',ha='center',va='center')\n",
    "ax.invert_yaxis()\n",
    "plt.ylabel('Truth',fontsize=16,fontweight='semibold',rotation=90)\n",
    "plt.xlabel('Prediction',fontsize=16,fontweight='semibold')\n",
    "plt.xticks(np.arange(0.5,2,1),classes,fontsize=18,rotation=310,horizontalalignment='right')\n",
    "ax.xaxis.tick_top()\n",
    "plt.yticks(np.arange(0.5,2,1),classes,fontsize=18)\n",
    "cb = plt.colorbar(hitplot,aspect=30,fraction=0.03, pad=0.04)\n",
    "cb.ax.tick_params(labelsize=18)\n",
    "cb.set_label('counts', size=18,rotation=270)\n",
    "plt.tight_layout()\n",
    "#plt.savefig('hw_1_1_heatmap_pcolor'+ date_test  +'.png',dpi=400)"
   ]
  },
  {
   "cell_type": "code",
   "execution_count": null,
   "metadata": {},
   "outputs": [],
   "source": []
  }
 ],
 "metadata": {
  "kernelspec": {
   "display_name": "ml_torch",
   "language": "python",
   "name": "ml_torch"
  },
  "language_info": {
   "codemirror_mode": {
    "name": "ipython",
    "version": 3
   },
   "file_extension": ".py",
   "mimetype": "text/x-python",
   "name": "python",
   "nbconvert_exporter": "python",
   "pygments_lexer": "ipython3",
   "version": "3.10.4"
  }
 },
 "nbformat": 4,
 "nbformat_minor": 4
}
