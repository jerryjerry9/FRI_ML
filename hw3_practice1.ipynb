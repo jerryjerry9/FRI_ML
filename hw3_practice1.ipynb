{
 "cells": [
  {
   "cell_type": "code",
   "execution_count": 1,
   "metadata": {},
   "outputs": [],
   "source": [
    "import pickle\n",
    "import numpy as np"
   ]
  },
  {
   "cell_type": "code",
   "execution_count": 2,
   "metadata": {},
   "outputs": [],
   "source": [
    "import torch\n",
    "import torch.nn as nn\n",
    "import torch.optim as optim\n",
    "from torch.utils.data import Dataset, DataLoader"
   ]
  },
  {
   "cell_type": "code",
   "execution_count": 3,
   "metadata": {},
   "outputs": [],
   "source": [
    "from sklearn.preprocessing import StandardScaler    \n",
    "from sklearn.model_selection import train_test_split\n",
    "from sklearn.metrics import confusion_matrix, classification_report"
   ]
  },
  {
   "cell_type": "code",
   "execution_count": 4,
   "metadata": {},
   "outputs": [],
   "source": [
    "with open('data_theta_profile.pkl', 'rb') as f:\n",
    "    profile =  pickle.load(f)\n",
    "with open('data_inversion_label.pkl', 'rb') as f:\n",
    "    label =  pickle.load(f)\n"
   ]
  },
  {
   "cell_type": "code",
   "execution_count": 5,
   "metadata": {},
   "outputs": [
    {
     "name": "stdout",
     "output_type": "stream",
     "text": [
      "[380.28833108 362.73410185 354.15751345 348.28570231 346.22247036\n",
      " 345.95875793 345.59312562 342.57569336 338.6175886  334.44733119\n",
      " 330.41748071 325.9423819  321.97828963 317.59841766 314.07576326\n",
      " 311.31011697 308.79610548 307.56839847 306.44848267 305.20941576\n",
      " 303.92724913 302.58956468 301.34746163 300.24697176 299.01416612\n",
      " 298.14466883 297.52420583]\n"
     ]
    }
   ],
   "source": [
    "print(profile[20,:])"
   ]
  },
  {
   "cell_type": "code",
   "execution_count": 8,
   "metadata": {},
   "outputs": [],
   "source": [
    "x_train, x_test, y_train, y_test = train_test_split(profile, label, test_size=0.25, random_state=69)"
   ]
  },
  {
   "cell_type": "code",
   "execution_count": 12,
   "metadata": {
    "scrolled": true
   },
   "outputs": [
    {
     "name": "stdout",
     "output_type": "stream",
     "text": [
      "(7062, 27)\n",
      "[372.20140846 360.61262021 357.98419686 354.20243778 348.55118115\n",
      " 347.10844388 346.14459215 343.08171491 338.46196948 332.64297328\n",
      " 329.39374079 324.55574733 320.44083302 317.26264349 313.83384178\n",
      " 309.92373366 306.1850784  303.45498984 300.99869309 298.82663196\n",
      " 296.48006036 295.17412018 294.12495291 292.64614405 292.56025555\n",
      " 292.54028215 292.59272939]\n"
     ]
    }
   ],
   "source": [
    "print(x_train.shape)\n",
    "print(x_train[50,:])"
   ]
  },
  {
   "cell_type": "code",
   "execution_count": 13,
   "metadata": {},
   "outputs": [],
   "source": [
    "scaler = StandardScaler()\n",
    "x_train = scaler.fit_transform(x_train)\n",
    "x_test = scaler.transform(x_test)"
   ]
  },
  {
   "cell_type": "code",
   "execution_count": 14,
   "metadata": {},
   "outputs": [
    {
     "name": "stdout",
     "output_type": "stream",
     "text": [
      "[-0.98414262 -0.60390941  0.53276102  0.69556051 -0.32079324  0.06434833\n",
      "  0.48403155  0.78072617  0.63502156  0.19630399  0.46908803  0.23758697\n",
      "  0.17870108  0.36344551  0.3639555   0.17708065  0.05222715 -0.2015483\n",
      " -0.34701148 -0.40505704 -0.52026552 -0.49208257 -0.47755523 -0.61516153\n",
      " -0.50649939 -0.44193359 -0.41503815]\n"
     ]
    }
   ],
   "source": [
    "print(x_train[50,:])"
   ]
  },
  {
   "cell_type": "code",
   "execution_count": 16,
   "metadata": {},
   "outputs": [],
   "source": [
    "EPOCHS = 50\n",
    "BATCH_SIZE = 64\n",
    "LEARNING_RATE = 0.001"
   ]
  },
  {
   "cell_type": "code",
   "execution_count": 19,
   "metadata": {},
   "outputs": [],
   "source": [
    "## train data\n",
    "class TrainData(Dataset):\n",
    "    \n",
    "    def __init__(self, X_data, y_data):\n",
    "        self.X_data = X_data\n",
    "        self.y_data = y_data\n",
    "        \n",
    "    def __getitem__(self, index):\n",
    "        return self.X_data[index], self.y_data[index]\n",
    "        \n",
    "    def __len__ (self):\n",
    "        return len(self.X_data)\n",
    "\n",
    "\n",
    "train_data = TrainData(torch.FloatTensor(x_train), \n",
    "                       torch.FloatTensor(y_train))\n",
    "## test data    \n",
    "class TestData(Dataset):\n",
    "    \n",
    "    def __init__(self, X_data):\n",
    "        self.X_data = X_data\n",
    "        \n",
    "    def __getitem__(self, index):\n",
    "        return self.X_data[index]\n",
    "        \n",
    "    def __len__ (self):\n",
    "        return len(self.X_data)\n",
    "    \n",
    "\n",
    "test_data = TestData(torch.FloatTensor(x_test))"
   ]
  },
  {
   "cell_type": "code",
   "execution_count": 20,
   "metadata": {},
   "outputs": [],
   "source": [
    "train_loader = DataLoader(dataset=train_data, batch_size=BATCH_SIZE, shuffle=True)\n",
    "test_loader = DataLoader(dataset=test_data, batch_size=64)"
   ]
  },
  {
   "cell_type": "code",
   "execution_count": 30,
   "metadata": {},
   "outputs": [],
   "source": [
    "class BinaryClassification(nn.Module):\n",
    "    def __init__(self):\n",
    "        super(BinaryClassification, self).__init__()        # Number of input features is 12.\n",
    "        self.layer_1 = nn.Linear(27, 64) \n",
    "        self.layer_2 = nn.Linear(64, 64)\n",
    "        self.layer_out = nn.Linear(64, 1) \n",
    "        \n",
    "        self.relu = nn.ReLU()\n",
    "        self.dropout = nn.Dropout(p=0.1)\n",
    "        self.batchnorm1 = nn.BatchNorm1d(64)\n",
    "        self.batchnorm2 = nn.BatchNorm1d(64)\n",
    "        \n",
    "    def forward(self, inputs):\n",
    "        x = self.relu(self.layer_1(inputs))\n",
    "        x = self.batchnorm1(x)\n",
    "        x = self.relu(self.layer_2(x))\n",
    "        x = self.batchnorm2(x)\n",
    "        x = self.dropout(x)\n",
    "        x = self.layer_out(x)\n",
    "        \n",
    "        return x"
   ]
  },
  {
   "cell_type": "code",
   "execution_count": 40,
   "metadata": {},
   "outputs": [],
   "source": []
  },
  {
   "cell_type": "code",
   "execution_count": 41,
   "metadata": {},
   "outputs": [
    {
     "name": "stdout",
     "output_type": "stream",
     "text": [
      "cpu\n"
     ]
    }
   ],
   "source": [
    "device = torch.device(\"cuda:0\" if torch.cuda.is_available() else \"cpu\")\n",
    "print(device)\n",
    "###################### OUTPUT ######################cuda:0"
   ]
  },
  {
   "cell_type": "code",
   "execution_count": 32,
   "metadata": {},
   "outputs": [
    {
     "name": "stdout",
     "output_type": "stream",
     "text": [
      "BinaryClassification(\n",
      "  (layer_1): Linear(in_features=27, out_features=64, bias=True)\n",
      "  (layer_2): Linear(in_features=64, out_features=64, bias=True)\n",
      "  (layer_out): Linear(in_features=64, out_features=1, bias=True)\n",
      "  (relu): ReLU()\n",
      "  (dropout): Dropout(p=0.1, inplace=False)\n",
      "  (batchnorm1): BatchNorm1d(64, eps=1e-05, momentum=0.1, affine=True, track_running_stats=True)\n",
      "  (batchnorm2): BatchNorm1d(64, eps=1e-05, momentum=0.1, affine=True, track_running_stats=True)\n",
      ")\n"
     ]
    }
   ],
   "source": [
    "model = BinaryClassification()\n",
    "model.to(device)\n",
    "print(model)\n",
    "criterion = nn.BCEWithLogitsLoss()\n",
    "optimizer = optim.Adam(model.parameters(), lr=LEARNING_RATE)"
   ]
  },
  {
   "cell_type": "code",
   "execution_count": 33,
   "metadata": {},
   "outputs": [],
   "source": [
    "def binary_acc(y_pred, y_test):\n",
    "    y_pred_tag = torch.round(torch.sigmoid(y_pred))\n",
    "\n",
    "    correct_results_sum = (y_pred_tag == y_test).sum().float()\n",
    "    acc = correct_results_sum/y_test.shape[0]\n",
    "    acc = torch.round(acc * 100)\n",
    "    \n",
    "    return acc"
   ]
  },
  {
   "cell_type": "code",
   "execution_count": null,
   "metadata": {},
   "outputs": [],
   "source": []
  },
  {
   "cell_type": "code",
   "execution_count": 34,
   "metadata": {
    "scrolled": true
   },
   "outputs": [
    {
     "name": "stdout",
     "output_type": "stream",
     "text": [
      "Epoch 001: | Loss: 0.58209 | Acc: 68.495\n",
      "Epoch 002: | Loss: 0.49380 | Acc: 75.351\n",
      "Epoch 003: | Loss: 0.46759 | Acc: 76.919\n",
      "Epoch 004: | Loss: 0.46196 | Acc: 76.991\n",
      "Epoch 005: | Loss: 0.45780 | Acc: 77.477\n",
      "Epoch 006: | Loss: 0.44870 | Acc: 77.721\n",
      "Epoch 007: | Loss: 0.44877 | Acc: 77.631\n",
      "Epoch 008: | Loss: 0.43927 | Acc: 78.297\n",
      "Epoch 009: | Loss: 0.44116 | Acc: 78.090\n",
      "Epoch 010: | Loss: 0.43145 | Acc: 78.937\n",
      "Epoch 011: | Loss: 0.43491 | Acc: 79.018\n",
      "Epoch 012: | Loss: 0.42818 | Acc: 79.450\n",
      "Epoch 013: | Loss: 0.43112 | Acc: 79.270\n",
      "Epoch 014: | Loss: 0.42402 | Acc: 79.459\n",
      "Epoch 015: | Loss: 0.42668 | Acc: 79.495\n",
      "Epoch 016: | Loss: 0.42136 | Acc: 79.568\n",
      "Epoch 017: | Loss: 0.41454 | Acc: 80.360\n",
      "Epoch 018: | Loss: 0.41418 | Acc: 80.099\n",
      "Epoch 019: | Loss: 0.41377 | Acc: 80.369\n",
      "Epoch 020: | Loss: 0.40975 | Acc: 80.045\n",
      "Epoch 021: | Loss: 0.41310 | Acc: 80.613\n",
      "Epoch 022: | Loss: 0.40519 | Acc: 80.342\n",
      "Epoch 023: | Loss: 0.40347 | Acc: 80.811\n",
      "Epoch 024: | Loss: 0.40281 | Acc: 80.532\n",
      "Epoch 025: | Loss: 0.39745 | Acc: 80.910\n",
      "Epoch 026: | Loss: 0.40687 | Acc: 80.099\n",
      "Epoch 027: | Loss: 0.39848 | Acc: 81.189\n",
      "Epoch 028: | Loss: 0.39582 | Acc: 81.252\n",
      "Epoch 029: | Loss: 0.39802 | Acc: 81.144\n",
      "Epoch 030: | Loss: 0.39617 | Acc: 81.270\n",
      "Epoch 031: | Loss: 0.38953 | Acc: 81.207\n",
      "Epoch 032: | Loss: 0.38940 | Acc: 81.955\n",
      "Epoch 033: | Loss: 0.38377 | Acc: 82.000\n",
      "Epoch 034: | Loss: 0.38955 | Acc: 82.072\n",
      "Epoch 035: | Loss: 0.38267 | Acc: 81.946\n",
      "Epoch 036: | Loss: 0.38302 | Acc: 81.919\n",
      "Epoch 037: | Loss: 0.37777 | Acc: 82.189\n",
      "Epoch 038: | Loss: 0.38170 | Acc: 81.937\n",
      "Epoch 039: | Loss: 0.37477 | Acc: 82.414\n",
      "Epoch 040: | Loss: 0.38076 | Acc: 82.153\n",
      "Epoch 041: | Loss: 0.37008 | Acc: 83.180\n",
      "Epoch 042: | Loss: 0.37505 | Acc: 82.216\n",
      "Epoch 043: | Loss: 0.36404 | Acc: 82.955\n",
      "Epoch 044: | Loss: 0.36717 | Acc: 82.955\n",
      "Epoch 045: | Loss: 0.37123 | Acc: 82.216\n",
      "Epoch 046: | Loss: 0.36314 | Acc: 83.171\n",
      "Epoch 047: | Loss: 0.36441 | Acc: 83.117\n",
      "Epoch 048: | Loss: 0.36406 | Acc: 83.117\n",
      "Epoch 049: | Loss: 0.36033 | Acc: 82.991\n",
      "Epoch 050: | Loss: 0.35786 | Acc: 83.595\n"
     ]
    }
   ],
   "source": [
    "model.train()\n",
    "for e in range(1, EPOCHS+1):\n",
    "    epoch_loss = 0\n",
    "    epoch_acc = 0\n",
    "    for X_batch, y_batch in train_loader:\n",
    "        X_batch, y_batch = X_batch.to(device), y_batch.to(device)\n",
    "        optimizer.zero_grad()\n",
    "        \n",
    "        y_pred = model(X_batch)\n",
    "        \n",
    "        loss = criterion(y_pred, y_batch.unsqueeze(1))\n",
    "        acc = binary_acc(y_pred, y_batch.unsqueeze(1))\n",
    "        \n",
    "        loss.backward()\n",
    "        optimizer.step()\n",
    "        \n",
    "        epoch_loss += loss.item()\n",
    "        epoch_acc += acc.item()\n",
    "        \n",
    "\n",
    "    print(f'Epoch {e+0:03}: | Loss: {epoch_loss/len(train_loader):.5f} | Acc: {epoch_acc/len(train_loader):.3f}')"
   ]
  },
  {
   "cell_type": "code",
   "execution_count": 37,
   "metadata": {},
   "outputs": [],
   "source": [
    "y_pred_list = []\n",
    "model.eval()\n",
    "with torch.no_grad():\n",
    "    for X_batch in test_loader:\n",
    "        X_batch = X_batch.to(device)\n",
    "        y_test_pred = model(X_batch)\n",
    "        y_test_pred = torch.sigmoid(y_test_pred)\n",
    "        y_pred_tag = torch.round(y_test_pred)\n",
    "        y_pred_list.append(y_pred_tag.cpu().numpy())\n",
    "y_pred_list = [a.squeeze().tolist() for a in y_pred_list]"
   ]
  },
  {
   "cell_type": "code",
   "execution_count": 44,
   "metadata": {},
   "outputs": [
    {
     "name": "stdout",
     "output_type": "stream",
     "text": [
      "2355\n"
     ]
    }
   ],
   "source": [
    "print(len(y_pred_list))"
   ]
  },
  {
   "cell_type": "code",
   "execution_count": 38,
   "metadata": {},
   "outputs": [
    {
     "data": {
      "text/plain": [
       "array([[ 346,  325],\n",
       "       [ 227, 1457]], dtype=int64)"
      ]
     },
     "execution_count": 38,
     "metadata": {},
     "output_type": "execute_result"
    }
   ],
   "source": [
    "confusion_matrix(y_test, y_pred_list)"
   ]
  },
  {
   "cell_type": "code",
   "execution_count": 39,
   "metadata": {},
   "outputs": [
    {
     "name": "stdout",
     "output_type": "stream",
     "text": [
      "              precision    recall  f1-score   support\n",
      "\n",
      "           0       0.60      0.52      0.56       671\n",
      "           1       0.82      0.87      0.84      1684\n",
      "\n",
      "    accuracy                           0.77      2355\n",
      "   macro avg       0.71      0.69      0.70      2355\n",
      "weighted avg       0.76      0.77      0.76      2355\n",
      "\n"
     ]
    }
   ],
   "source": [
    "print(classification_report(y_test, y_pred_list))"
   ]
  },
  {
   "cell_type": "code",
   "execution_count": null,
   "metadata": {},
   "outputs": [],
   "source": []
  }
 ],
 "metadata": {
  "kernelspec": {
   "display_name": "ml_torch",
   "language": "python",
   "name": "ml_torch"
  },
  "language_info": {
   "codemirror_mode": {
    "name": "ipython",
    "version": 3
   },
   "file_extension": ".py",
   "mimetype": "text/x-python",
   "name": "python",
   "nbconvert_exporter": "python",
   "pygments_lexer": "ipython3",
   "version": "3.10.4"
  }
 },
 "nbformat": 4,
 "nbformat_minor": 4
}
